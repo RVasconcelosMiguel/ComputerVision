{
  "cells": [
    {
      "cell_type": "markdown",
      "source": [
        "# Loads"
      ],
      "metadata": {
        "id": "j_72JjR4D144"
      }
    },
    {
      "cell_type": "code",
      "execution_count": 1,
      "metadata": {
        "colab": {
          "base_uri": "https://localhost:8080/"
        },
        "id": "ohrqiqTYX0Rs",
        "outputId": "f4cf1b0a-6f5d-43be-b79c-b03b48208a72"
      },
      "outputs": [
        {
          "output_type": "stream",
          "name": "stdout",
          "text": [
            "Requirement already satisfied: tqdm in /usr/local/lib/python3.10/dist-packages (4.66.6)\n"
          ]
        }
      ],
      "source": [
        "pip install tqdm"
      ]
    },
    {
      "cell_type": "code",
      "execution_count": 2,
      "metadata": {
        "id": "uEQHgJJ0X5YS"
      },
      "outputs": [],
      "source": [
        "import cv2\n",
        "from google.colab.patches import cv2_imshow\n",
        "import matplotlib.pyplot as plt\n",
        "import numpy as np\n",
        "import random\n",
        "from tqdm import tqdm  # Importar tqdm\n",
        "\n",
        "import os\n",
        "import pandas as pd\n",
        "import json\n",
        "\n",
        "import torch\n",
        "import torch.nn as nn\n",
        "import torch.nn.functional as F\n",
        "import torch.utils.data as data\n",
        "from torch.autograd import Variable\n",
        "from torch.optim import Adam, SGD, NAdam\n",
        "import torch.optim as optim\n",
        "import torch.optim.lr_scheduler as lr_scheduler\n",
        "\n",
        "\n",
        "import torchvision\n",
        "from torchvision import models, transforms\n",
        "from torchvision.io import read_image\n",
        "\n",
        "from torchsummary import summary\n",
        "\n",
        "import cv2\n",
        "from google.colab.patches import cv2_imshow\n",
        "import matplotlib.pyplot as plt\n",
        "import numpy as np\n",
        "import random\n",
        "from tqdm import tqdm  # Importar tqdm\n",
        "\n",
        "import os\n",
        "import pandas as pd\n",
        "import json\n",
        "\n",
        "import torch\n",
        "import torch.nn as nn\n",
        "import torch.nn.functional as F\n",
        "import torch.utils.data as data\n",
        "from torch.autograd import Variable\n",
        "from torch.optim import Adam, SGD, NAdam\n",
        "import torch.optim as optim\n",
        "import torch.optim.lr_scheduler as lr_scheduler\n",
        "\n",
        "\n",
        "import torchvision\n",
        "from torchvision import models, transforms\n",
        "from torchvision.io import read_image\n",
        "\n",
        "from torchsummary import summary\n",
        "\n",
        "from sklearn.model_selection import train_test_split\n",
        "from sklearn.preprocessing import LabelEncoder, label_binarize\n",
        "from sklearn.utils.class_weight import compute_class_weight\n",
        "from sklearn.metrics import confusion_matrix, ConfusionMatrixDisplay\n",
        "\n",
        "from PIL import Image\n",
        "import zipfile\n",
        "\n",
        "\n",
        "from PIL import Image\n",
        "import zipfile"
      ]
    },
    {
      "cell_type": "code",
      "execution_count": 3,
      "metadata": {
        "id": "egEVyeavSsNL",
        "colab": {
          "base_uri": "https://localhost:8080/"
        },
        "outputId": "dfd8c050-4fc8-4035-bf57-4d0afbffa82b"
      },
      "outputs": [
        {
          "output_type": "stream",
          "name": "stdout",
          "text": [
            "The model will be running on cuda:0 device\n"
          ]
        }
      ],
      "source": [
        "device = torch.device(\"cuda:0\" if torch.cuda.is_available() else \"cpu\")\n",
        "print(\"The model will be running on\", device, \"device\")"
      ]
    },
    {
      "cell_type": "code",
      "execution_count": 4,
      "metadata": {
        "id": "-LBuvOx_T7QK",
        "colab": {
          "base_uri": "https://localhost:8080/"
        },
        "outputId": "0fbc89e9-c5f5-4b16-ea2e-b6925759bbaa"
      },
      "outputs": [
        {
          "output_type": "stream",
          "name": "stdout",
          "text": [
            "Cloning into '/content/InfraredSolarModules'...\n",
            "remote: Enumerating objects: 24, done.\u001b[K\n",
            "remote: Counting objects: 100% (24/24), done.\u001b[K\n",
            "remote: Compressing objects: 100% (17/17), done.\u001b[K\n",
            "remote: Total 24 (delta 10), reused 12 (delta 5), pack-reused 0 (from 0)\u001b[K\n",
            "Receiving objects: 100% (24/24), 5.49 MiB | 6.13 MiB/s, done.\n",
            "Resolving deltas: 100% (10/10), done.\n",
            "2020-02-14_InfraredSolarModules.zip  InfraredSolarModules  module_metadata.json\n",
            "images\t\t\t\t     __MACOSX\t\t   sample_data\n"
          ]
        }
      ],
      "source": [
        "# Clear existing files or directories from previous runs\n",
        "!rm -f -r \"/content/images\"\n",
        "!rm -f \"/content/module_metadata.json\"\n",
        "\n",
        "# Define paths for download and extraction\n",
        "repo_path = \"/content/InfraredSolarModules/\"\n",
        "zip_path = \"/content/2020-02-14_InfraredSolarModules.zip\"\n",
        "extract_path = \"/content\"\n",
        "\n",
        "# Clone the repository and extract the zip file\n",
        "!git clone https://github.com/RaptorMaps/InfraredSolarModules.git $repo_path\n",
        "!mv \"$repo_path/2020-02-14_InfraredSolarModules.zip\" $extract_path\n",
        "!unzip -uq $zip_path -d $extract_path\n",
        "\n",
        "# Move images folder to the root directory\n",
        "image_folder_path = \"/content/InfraredSolarModules/images\"\n",
        "!mv $image_folder_path $extract_path\n",
        "\n",
        "# Move module_metadata.json to the root directory\n",
        "metadata_file_path = \"/content/InfraredSolarModules/module_metadata.json\"\n",
        "!mv $metadata_file_path $extract_path\n",
        "\n",
        "# Verify the final structure\n",
        "!ls /content\n"
      ]
    },
    {
      "cell_type": "code",
      "source": [
        "# Path to metadata JSON file\n",
        "metadata_path = '/content/module_metadata.json'\n",
        "\n",
        "# Load metadata\n",
        "with open(metadata_path, 'r') as f:\n",
        "    metadata = json.load(f)\n",
        "\n",
        "# Convert metadata to DataFrame\n",
        "df = pd.DataFrame.from_dict(metadata, orient='index')"
      ],
      "metadata": {
        "id": "kOUkoPy1Dk7Y"
      },
      "execution_count": 5,
      "outputs": []
    },
    {
      "cell_type": "markdown",
      "source": [
        "# a)"
      ],
      "metadata": {
        "id": "7Jhbkz1QDpUj"
      }
    },
    {
      "cell_type": "code",
      "execution_count": null,
      "metadata": {
        "id": "zxdPk4GBYWLT",
        "colab": {
          "base_uri": "https://localhost:8080/"
        },
        "outputId": "7041bd89-1af3-4b2c-ed9a-fb8b0f484b01"
      },
      "outputs": [
        {
          "output_type": "stream",
          "name": "stdout",
          "text": [
            "*************** Binary Classification DataFrame ***************\n",
            "         image_filepath  anomaly_class\n",
            "13357  images/13357.jpg              0\n",
            "13356  images/13356.jpg              0\n",
            "19719  images/19719.jpg              0\n",
            "11542  images/11542.jpg              0\n",
            "11543  images/11543.jpg              0\n",
            "Total rows: 20000\n"
          ]
        }
      ],
      "source": [
        "df_binary = df.copy()\n",
        "df_binary['anomaly_class'] = df_binary['anomaly_class'].apply(\n",
        "    lambda x: 1 if x.lower() != 'no-anomaly' else 0\n",
        ")\n",
        "\n",
        "# Display DataFrame details\n",
        "print(\"*************** Binary Classification DataFrame ***************\")\n",
        "print(df_binary.head())\n",
        "print(\"Total rows:\", df_binary.shape[0])\n",
        "\n",
        "train_ratio = 0.9\n",
        "train_data, test_data = train_test_split(df_binary, test_size=(1-train_ratio), train_size=train_ratio, random_state=2, stratify=df_binary['anomaly_class'])\n",
        "\n",
        "train_data.reset_index(drop=True, inplace=True)\n",
        "test_data.reset_index(drop=True, inplace=True)\n"
      ]
    },
    {
      "cell_type": "code",
      "execution_count": null,
      "metadata": {
        "id": "-goSwgbJeQCo",
        "colab": {
          "base_uri": "https://localhost:8080/",
          "height": 55
        },
        "outputId": "7b8099aa-f03e-4c08-d810-9ad7db7c0f34"
      },
      "outputs": [
        {
          "output_type": "execute_result",
          "data": {
            "text/plain": [
              "'\\ntrain_data, test_data=train_test_split(df_binary, test_size=0.15,train_size=0.85, random_state=2, stratify=df_binary[\"anomaly_class\"])\\ntrain_data.reset_index(drop=True, inplace=True)\\ntest_data.reset_index(drop=True, inplace=True)\\n'"
            ],
            "application/vnd.google.colaboratory.intrinsic+json": {
              "type": "string"
            }
          },
          "metadata": {},
          "execution_count": 119
        }
      ],
      "source": [
        "\"\"\"\n",
        "train_data, test_data=train_test_split(df_binary, test_size=0.15,train_size=0.85, random_state=2, stratify=df_binary[\"anomaly_class\"])\n",
        "train_data.reset_index(drop=True, inplace=True)\n",
        "test_data.reset_index(drop=True, inplace=True)\n",
        "\"\"\"\n",
        "\n"
      ]
    },
    {
      "cell_type": "markdown",
      "metadata": {
        "id": "Vm84vaMxsSJe"
      },
      "source": [
        "ESTÁ IGUAL AO DO VITOR TEMOS QUE MUDAR DAQUI PARA BAIXO"
      ]
    },
    {
      "cell_type": "code",
      "execution_count": null,
      "metadata": {
        "id": "gO93n3hZk68-",
        "colab": {
          "base_uri": "https://localhost:8080/",
          "height": 91
        },
        "outputId": "13bf2f33-14d2-4d2b-df6b-d78fb1ba8458"
      },
      "outputs": [
        {
          "output_type": "execute_result",
          "data": {
            "text/plain": [
              "'\\nclass MyImageDataset(data.Dataset):\\n    def __init__(self, metadata, transform=None):\\n        self.img_labels = metadata[\"anomaly_class\"].values\\n        self.img_paths = metadata[\"image_filepath\"].values\\n        self.transform = transform\\n\\n    def __len__(self):\\n        return len(self.img_labels)\\n\\n    def __getitem__(self, idx):#posteriormente o dataloader vai passar por todos os idx\\n        img_path = self.img_paths[idx]\\n        image = Image.open(img_path).convert(\"L\") # Abrir a imagem como RGB\\n        label = self.img_labels[idx]\\n\\n        if self.transform:\\n            image = self.transform(image)\\n\\n        return image, torch.tensor(label, dtype=torch.long)\\n'"
            ],
            "application/vnd.google.colaboratory.intrinsic+json": {
              "type": "string"
            }
          },
          "metadata": {},
          "execution_count": 48
        }
      ],
      "source": [
        "class MyImageDataset(data.Dataset):\n",
        "    def __init__(self, metadata, transform=None, img_mode=\"L\"):\n",
        "\n",
        "        self.img_labels = metadata[\"anomaly_class\"].values\n",
        "        self.img_paths = metadata[\"image_filepath\"].values\n",
        "        self.transform = transform\n",
        "        self.img_mode = img_mode\n",
        "\n",
        "    def __len__(self):\n",
        "        return len(self.img_labels)\n",
        "\n",
        "    def __getitem__(self, idx):\n",
        "\n",
        "        try:\n",
        "            img_path = self.img_paths[idx]\n",
        "\n",
        "            # Ensure the image file exists\n",
        "            if not os.path.exists(img_path):\n",
        "                raise FileNotFoundError(f\"Image file not found: {img_path}\")\n",
        "\n",
        "            # Open and convert the image\n",
        "            image = Image.open(img_path).convert(self.img_mode)\n",
        "            label = self.img_labels[idx]\n",
        "\n",
        "            # Apply transformations if specified\n",
        "            if self.transform:\n",
        "                image = self.transform(image)\n",
        "\n",
        "            return image, torch.tensor(label, dtype=torch.long)\n",
        "\n",
        "        except Exception as e:\n",
        "            raise RuntimeError(f\"Error loading sample at index {idx}: {e}\")\n"
      ]
    },
    {
      "cell_type": "code",
      "execution_count": null,
      "metadata": {
        "id": "98SQjeJzmxZ1"
      },
      "outputs": [],
      "source": [
        "# Transformações\n",
        "train_transform = transforms.Compose([\n",
        "    transforms.RandomRotation(10),       # Random rotation\n",
        "    transforms.RandomHorizontalFlip(),   # Random horizontal flip\n",
        "    transforms.RandomCrop((40, 24), padding=1),  # Random crop with padding\n",
        "    transforms.ColorJitter(brightness=0.2, contrast=0.2),  # Color jitter\n",
        "    transforms.ToTensor(),\n",
        "    transforms.Normalize(mean=[0.5], std=[0.5])\n",
        "])\n",
        "\n",
        "# Testing transform without augmentation\n",
        "test_transform = transforms.Compose([\n",
        "    transforms.ToTensor(),\n",
        "    transforms.Normalize(mean=[0.5], std=[0.5])\n",
        "])\n",
        "# Datasets\n",
        "train_dataset = MyImageDataset(metadata=train_data, transform=train_transform)\n",
        "test_dataset = MyImageDataset(metadata=test_data, transform=test_transform)\n",
        "\n",
        "# DataLoaders\n",
        "batch_size = 16\n",
        "train_loader = data.DataLoader(dataset=train_dataset, batch_size=batch_size, shuffle=True)\n",
        "test_loader = data.DataLoader(dataset=test_dataset, batch_size=batch_size, shuffle=False)\n",
        "\n"
      ]
    },
    {
      "cell_type": "code",
      "execution_count": null,
      "metadata": {
        "id": "XRxSS22joz2D",
        "colab": {
          "base_uri": "https://localhost:8080/",
          "height": 727
        },
        "outputId": "23068d3f-7678-41f2-e66a-d9d5d58f2932"
      },
      "outputs": [
        {
          "output_type": "stream",
          "name": "stdout",
          "text": [
            "torch.Size([1, 40, 24])\n"
          ]
        },
        {
          "output_type": "display_data",
          "data": {
            "text/plain": [
              "<Figure size 2000x1000 with 32 Axes>"
            ],
            "image/png": "[encoded data removed]"
          },
          "metadata": {}
        }
      ],
      "source": [
        "# Obtém um batch de imagens, seus rótulos e os caminhos\n",
        "images, labels = next(iter(train_loader))  # Pega o primeiro batch\n",
        "\n",
        "# Desfazendo a normalização para as imagens\n",
        "images = images * 0.5 + 0.5  # Inverte a normalização, para voltar ao intervalo [0, 1]\n",
        "\n",
        "# Cria uma figura com múltiplos subplots\n",
        "fig, axes = plt.subplots(4, 8, figsize=(20, 10))  # 4 linhas e 8 colunas\n",
        "axes = axes.flatten()  # Para facilitar o acesso aos eixos (axes)\n",
        "\n",
        "# Loop para exibir as 32 primeiras imagens do batch\n",
        "for i in range(len(images)):\n",
        "    image = images[i]  # Pega a i-ésima imagem do batch\n",
        "    image_pil = transforms.ToPILImage()(image)  # Converte o tensor para uma imagem PIL\n",
        "\n",
        "    # Exibe a imagem\n",
        "    axes[i].imshow(image_pil)\n",
        "    axes[i].set_title(f\"Label: {labels[i].item()}\")  # Exibe o rótulo e o caminho do arquivo\n",
        "    axes[i].axis('off')  # Remove os eixos para uma exibição mais limpa\n",
        "\n",
        "print(images[0].shape)\n",
        "plt.tight_layout()  # Ajusta o layout para que as imagens não se sobreponham\n",
        "plt.show()\n",
        "\n",
        "\n",
        "\n",
        "\n",
        "\n"
      ]
    },
    {
      "cell_type": "code",
      "execution_count": null,
      "metadata": {
        "id": "GxFwtr7jD7F6"
      },
      "outputs": [],
      "source": [
        "class Network(nn.Module):\n",
        "    def __init__(self):\n",
        "        super().__init__()\n",
        "\n",
        "        # Convolutional and pooling layers with kernel size 5x5 for the first two layers, 3x3 for the third layer\n",
        "        self.conv1 = nn.Conv2d(1, 128, 3)  # Kernel size 5x5\n",
        "        self.bn1 = nn.BatchNorm2d(128)\n",
        "        self.pool1 = nn.MaxPool2d(2, 2)\n",
        "\n",
        "        self.conv2 = nn.Conv2d(128, 256, 3)  # Kernel size 5x5\n",
        "        self.bn2 = nn.BatchNorm2d(256)\n",
        "        self.pool2 = nn.MaxPool2d(2, 2)  # Max pool layer (2x2)\n",
        "\n",
        "        self.conv3 = nn.Conv2d(256, 512, 3)  # Kernel size 3x3 (adjusted for valid output size)\n",
        "        self.bn3 = nn.BatchNorm2d(512)\n",
        "\n",
        "        self.dropout_conv = nn.Dropout2d(0.2)\n",
        "\n",
        "        # Calculating the correct input size for the fully connected layer\n",
        "        # Initial    : (40, 24)\n",
        "        # After conv1: (38, 22)\n",
        "        # After pool1: (19, 11)\n",
        "        # After conv2: (17, 9)\n",
        "        # After pool2: (8, 4)\n",
        "        # After conv3: (6, 2)\n",
        "\n",
        "        self.fc1 = nn.Linear(512 * 6 * 2, 1024)  # Increased to 2048 neurons\n",
        "        self.dropout1 = nn.Dropout(0.3)\n",
        "        self.fc2 = nn.Linear(1024, 512)         # Increased to 1024 neurons\n",
        "        self.dropout2 = nn.Dropout(0.5)\n",
        "        self.fc3 = nn.Linear(512, 2)          # Increased to 512 neurons\n",
        "\n",
        "    def forward(self, x):\n",
        "        # First convolutional layer, ReLU, and pooling\n",
        "        x = self.pool1(F.relu(self.bn1(self.conv1(x))))\n",
        "        x = self.pool2(F.relu(self.bn2(self.conv2(x))))\n",
        "        x = self.dropout_conv(x)  # Dropout2d after pooling\n",
        "        x = F.relu(self.bn3(self.conv3(x)))\n",
        "\n",
        "        # Flatten the output for the fully connected layer\n",
        "        x = torch.flatten(x, 1)  # Flatten to [batch_size, 256*5*1]\n",
        "\n",
        "        # Fully connected layers with ReLU and dropout\n",
        "        x = F.relu(self.fc1(x))\n",
        "        x = self.dropout1(x)\n",
        "        x = F.relu(self.fc2(x))\n",
        "        x = self.dropout2(x)\n",
        "        x = self.fc3(x)\n",
        "\n",
        "        return x\n",
        "\n",
        "\n",
        "model = Network()\n",
        "# Define the loss function\n",
        "loss_fn = nn.CrossEntropyLoss().to(device)\n",
        "\n",
        "# Define the optimizer\n",
        "#optimizer = torch.optim.SGD(model.parameters(), lr=0.0025, momentum=0.9, weight_decay=1e-4)\n",
        "optimizer = torch.optim.Adam(model.parameters(), lr=0.0001, weight_decay=1e-4)"
      ]
    },
    {
      "cell_type": "code",
      "execution_count": null,
      "metadata": {
        "id": "WhRdO4LFD8Gn"
      },
      "outputs": [],
      "source": [
        "# Function to save the model\n",
        "def saveModel(model:nn.Module, path):\n",
        "    torch.save(model.state_dict(), path)\n",
        "\n",
        "# Training function. We simply have to loop over our data iterator and feed the inputs to the network and optimize.\n",
        "def train(model: torch.nn.Module,\n",
        "          dataloader: torch.utils.data.DataLoader,\n",
        "          loss_fn: torch.nn.Module,\n",
        "          optimizer: torch.optim.Optimizer,\n",
        "          device: torch.device,\n",
        "          num_epochs,\n",
        "          path_model,\n",
        "          verbatim):\n",
        "    model.train()\n",
        "    model.to(device)\n",
        "    best_accuracy = 0.0\n",
        "    best_loss = 0.0\n",
        "    best_epoch = 0\n",
        "    for epoch in tqdm(range(num_epochs), desc=\"Epochs\", unit=\"epoch\"):  # Adicionando a barra de progresso para os epochs\n",
        "\n",
        "        train_acc = 0.0\n",
        "        train_loss = 0.0\n",
        "        for ibatch, (images, labels) in enumerate(dataloader):  # Adicionando a barra de progresso para os batches\n",
        "\n",
        "            # get the inputs\n",
        "            images = images.to(device)\n",
        "            labels = labels.to(device)\n",
        "\n",
        "            # 1. Forward pass\n",
        "            y_pred = model(images)\n",
        "            y_pred = y_pred.squeeze(dim=1)\n",
        "\n",
        "            # 2. Calculate  and accumulate loss\n",
        "            loss = loss_fn(y_pred, labels)\n",
        "            train_loss += loss.item()\n",
        "\n",
        "            # 3. Optimizer zero grad\n",
        "            optimizer.zero_grad()\n",
        "\n",
        "            # 4. Loss backward\n",
        "            loss.backward()\n",
        "\n",
        "            # 5. Optimizer step\n",
        "            optimizer.step()\n",
        "\n",
        "            # Calculate and accumulate accuracy metric across all batches\n",
        "            y_pred_class = torch.argmax(torch.softmax(y_pred, dim=1), dim=1)\n",
        "            train_acc += (y_pred_class == labels).sum().item()/len(y_pred)\n",
        "\n",
        "        # Adjust metrics to get average loss and accuracy per batch\n",
        "        train_loss = train_loss / len(dataloader)\n",
        "        train_acc = train_acc / len(dataloader)\n",
        "\n",
        "        # we want to save the model if the accuracy is the best\n",
        "\n",
        "\n",
        "        if train_acc > best_accuracy:\n",
        "            path = str(path_model)\n",
        "            saveModel(model, path = path)\n",
        "            best_loss = train_loss\n",
        "            best_accuracy = train_acc\n",
        "            best_epoch = epoch\n",
        "            if verbatim:\n",
        "              print('Best Epoch #', epoch,' Loss=', best_loss, \" Accu=\", best_accuracy )\n",
        "\n",
        "    return best_loss, best_accuracy, best_epoch"
      ]
    },
    {
      "cell_type": "code",
      "execution_count": null,
      "metadata": {
        "id": "fND9HZXCD_Zg"
      },
      "outputs": [],
      "source": [
        "# Function to test the model with the test dataset and print the accuracy for the test images\n",
        "def test(model: torch.nn.Module,\n",
        "         dataloader: torch.utils.data.DataLoader,\n",
        "         loss_fn: torch.nn.Module,\n",
        "         device: torch.device,\n",
        "         verbatim = True):\n",
        "\n",
        "    # Put model in eval mode\n",
        "    model.eval()\n",
        "    model.to(device)\n",
        "    # Setup test loss and test accuracy values\n",
        "    test_loss, test_acc = 0, 0\n",
        "    pred_labels = []\n",
        "    with torch.no_grad():\n",
        "        for data in dataloader:\n",
        "\n",
        "            # get the inputs\n",
        "            images, labels = data\n",
        "            images = Variable(images.to(device))\n",
        "            labels = Variable(labels.to(device))\n",
        "\n",
        "            # 1. run the model on the test set to predict labels\n",
        "            y_pred = model(images)\n",
        "\n",
        "            # 2. Calculate and accumulate loss\n",
        "            loss = loss_fn(y_pred, labels)\n",
        "            test_loss += loss.item()\n",
        "\n",
        "            # 3. Calculate and accumulate accuracy\n",
        "            y_pred_class = torch.argmax(torch.softmax(y_pred, dim=1), dim=1)\n",
        "            test_acc += (y_pred_class == labels).sum().item()/len(y_pred)\n",
        "            pred_labels = y_pred_class.tolist()\n",
        "\n",
        "    # Adjust metrics to get average loss and accuracy per batch\n",
        "    test_loss = test_loss / len(dataloader)\n",
        "    test_acc = test_acc / len(dataloader)\n",
        "\n",
        "    if verbatim:\n",
        "      print(\"Loss =\", test_loss, \"  Accuracy=\", test_acc)\n",
        "    return pred_labels, test_loss, test_acc\n"
      ]
    },
    {
      "cell_type": "markdown",
      "metadata": {
        "id": "qPgyXseBqP5I"
      },
      "source": []
    },
    {
      "cell_type": "code",
      "execution_count": null,
      "metadata": {
        "colab": {
          "base_uri": "https://localhost:8080/"
        },
        "id": "gH7kTp85ECwL",
        "outputId": "06f84abf-eb9f-4533-c85b-170719a5bfe7"
      },
      "outputs": [
        {
          "output_type": "stream",
          "name": "stderr",
          "text": [
            "Epochs:   1%|          | 1/100 [00:21<35:48, 21.70s/epoch]"
          ]
        },
        {
          "output_type": "stream",
          "name": "stdout",
          "text": [
            "Best Epoch # 0  Loss= 0.5830068894094891  Accu= 0.6832222222222222\n"
          ]
        },
        {
          "output_type": "stream",
          "name": "stderr",
          "text": [
            "\rEpochs:   2%|▏         | 2/100 [00:43<35:24, 21.68s/epoch]"
          ]
        },
        {
          "output_type": "stream",
          "name": "stdout",
          "text": [
            "Best Epoch # 1  Loss= 0.46680253664652505  Accu= 0.7801666666666667\n"
          ]
        },
        {
          "output_type": "stream",
          "name": "stderr",
          "text": [
            "\rEpochs:   3%|▎         | 3/100 [01:05<35:01, 21.67s/epoch]"
          ]
        },
        {
          "output_type": "stream",
          "name": "stdout",
          "text": [
            "Best Epoch # 2  Loss= 0.4298453078005049  Accu= 0.8058888888888889\n"
          ]
        },
        {
          "output_type": "stream",
          "name": "stderr",
          "text": [
            "\rEpochs:   4%|▍         | 4/100 [01:26<34:38, 21.66s/epoch]"
          ]
        },
        {
          "output_type": "stream",
          "name": "stdout",
          "text": [
            "Best Epoch # 3  Loss= 0.4081625664830208  Accu= 0.8148888888888889\n"
          ]
        },
        {
          "output_type": "stream",
          "name": "stderr",
          "text": [
            "\rEpochs:   5%|▌         | 5/100 [01:48<34:11, 21.59s/epoch]"
          ]
        },
        {
          "output_type": "stream",
          "name": "stdout",
          "text": [
            "Best Epoch # 4  Loss= 0.3877990692920155  Accu= 0.8276111111111111\n"
          ]
        },
        {
          "output_type": "stream",
          "name": "stderr",
          "text": [
            "\rEpochs:   6%|▌         | 6/100 [02:09<33:49, 21.59s/epoch]"
          ]
        },
        {
          "output_type": "stream",
          "name": "stdout",
          "text": [
            "Best Epoch # 5  Loss= 0.3717162306308746  Accu= 0.8367222222222223\n"
          ]
        },
        {
          "output_type": "stream",
          "name": "stderr",
          "text": [
            "\rEpochs:   7%|▋         | 7/100 [02:31<33:28, 21.60s/epoch]"
          ]
        },
        {
          "output_type": "stream",
          "name": "stdout",
          "text": [
            "Best Epoch # 6  Loss= 0.36202601963943903  Accu= 0.8457222222222223\n"
          ]
        },
        {
          "output_type": "stream",
          "name": "stderr",
          "text": [
            "\rEpochs:   8%|▊         | 8/100 [02:53<33:10, 21.63s/epoch]"
          ]
        },
        {
          "output_type": "stream",
          "name": "stdout",
          "text": [
            "Best Epoch # 7  Loss= 0.3558795263138082  Accu= 0.8473888888888889\n"
          ]
        },
        {
          "output_type": "stream",
          "name": "stderr",
          "text": [
            "\rEpochs:   9%|▉         | 9/100 [03:14<32:46, 21.61s/epoch]"
          ]
        },
        {
          "output_type": "stream",
          "name": "stdout",
          "text": [
            "Best Epoch # 8  Loss= 0.3426227692597442  Accu= 0.8531111111111112\n"
          ]
        },
        {
          "output_type": "stream",
          "name": "stderr",
          "text": [
            "\rEpochs:  10%|█         | 10/100 [03:36<32:24, 21.60s/epoch]"
          ]
        },
        {
          "output_type": "stream",
          "name": "stdout",
          "text": [
            "Best Epoch # 9  Loss= 0.3340263299511539  Accu= 0.8575555555555555\n"
          ]
        },
        {
          "output_type": "stream",
          "name": "stderr",
          "text": [
            "Epochs:  12%|█▏        | 12/100 [04:19<31:43, 21.64s/epoch]"
          ]
        },
        {
          "output_type": "stream",
          "name": "stdout",
          "text": [
            "Best Epoch # 11  Loss= 0.32472748959064485  Accu= 0.8628888888888889\n"
          ]
        },
        {
          "output_type": "stream",
          "name": "stderr",
          "text": [
            "\rEpochs:  13%|█▎        | 13/100 [04:41<31:25, 21.67s/epoch]"
          ]
        },
        {
          "output_type": "stream",
          "name": "stdout",
          "text": [
            "Best Epoch # 12  Loss= 0.3189107125169701  Accu= 0.8677222222222222\n"
          ]
        },
        {
          "output_type": "stream",
          "name": "stderr",
          "text": [
            "\rEpochs:  14%|█▍        | 14/100 [05:02<31:04, 21.68s/epoch]"
          ]
        },
        {
          "output_type": "stream",
          "name": "stdout",
          "text": [
            "Best Epoch # 13  Loss= 0.3135161369972759  Accu= 0.8687222222222222\n"
          ]
        },
        {
          "output_type": "stream",
          "name": "stderr",
          "text": [
            "\rEpochs:  15%|█▌        | 15/100 [05:24<30:40, 21.65s/epoch]"
          ]
        },
        {
          "output_type": "stream",
          "name": "stdout",
          "text": [
            "Best Epoch # 14  Loss= 0.3064015870061186  Accu= 0.8703333333333333\n"
          ]
        },
        {
          "output_type": "stream",
          "name": "stderr",
          "text": [
            "\rEpochs:  16%|█▌        | 16/100 [05:46<30:18, 21.65s/epoch]"
          ]
        },
        {
          "output_type": "stream",
          "name": "stdout",
          "text": [
            "Best Epoch # 15  Loss= 0.3014935211042563  Accu= 0.8727222222222222\n"
          ]
        },
        {
          "output_type": "stream",
          "name": "stderr",
          "text": [
            "\rEpochs:  17%|█▋        | 17/100 [06:07<29:59, 21.68s/epoch]"
          ]
        },
        {
          "output_type": "stream",
          "name": "stdout",
          "text": [
            "Best Epoch # 16  Loss= 0.30144369392262566  Accu= 0.8750555555555556\n"
          ]
        },
        {
          "output_type": "stream",
          "name": "stderr",
          "text": [
            "\rEpochs:  18%|█▊        | 18/100 [06:29<29:37, 21.67s/epoch]"
          ]
        },
        {
          "output_type": "stream",
          "name": "stdout",
          "text": [
            "Best Epoch # 17  Loss= 0.29167660941018  Accu= 0.8816111111111111\n"
          ]
        },
        {
          "output_type": "stream",
          "name": "stderr",
          "text": [
            "Epochs:  20%|██        | 20/100 [07:12<28:51, 21.64s/epoch]"
          ]
        },
        {
          "output_type": "stream",
          "name": "stdout",
          "text": [
            "Best Epoch # 19  Loss= 0.2863163690765699  Accu= 0.883\n"
          ]
        },
        {
          "output_type": "stream",
          "name": "stderr",
          "text": [
            "Epochs:  22%|██▏       | 22/100 [07:56<28:10, 21.67s/epoch]"
          ]
        },
        {
          "output_type": "stream",
          "name": "stdout",
          "text": [
            "Best Epoch # 21  Loss= 0.27903990331954426  Accu= 0.8863333333333333\n"
          ]
        },
        {
          "output_type": "stream",
          "name": "stderr",
          "text": [
            "\rEpochs:  23%|██▎       | 23/100 [08:17<27:49, 21.68s/epoch]"
          ]
        },
        {
          "output_type": "stream",
          "name": "stdout",
          "text": [
            "Best Epoch # 22  Loss= 0.2753701916171445  Accu= 0.8878333333333334\n"
          ]
        },
        {
          "output_type": "stream",
          "name": "stderr",
          "text": [
            "\rEpochs:  24%|██▍       | 24/100 [08:39<27:28, 21.69s/epoch]"
          ]
        },
        {
          "output_type": "stream",
          "name": "stdout",
          "text": [
            "Best Epoch # 23  Loss= 0.27088164631856815  Accu= 0.8898888888888888\n"
          ]
        },
        {
          "output_type": "stream",
          "name": "stderr",
          "text": [
            "\rEpochs:  25%|██▌       | 25/100 [09:01<27:06, 21.69s/epoch]"
          ]
        },
        {
          "output_type": "stream",
          "name": "stdout",
          "text": [
            "Best Epoch # 24  Loss= 0.26912738126019636  Accu= 0.8911666666666667\n"
          ]
        },
        {
          "output_type": "stream",
          "name": "stderr",
          "text": [
            "\rEpochs:  26%|██▌       | 26/100 [09:23<26:46, 21.70s/epoch]"
          ]
        },
        {
          "output_type": "stream",
          "name": "stdout",
          "text": [
            "Best Epoch # 25  Loss= 0.2626484841141436  Accu= 0.8950555555555556\n"
          ]
        },
        {
          "output_type": "stream",
          "name": "stderr",
          "text": [
            "Epochs:  28%|██▊       | 28/100 [10:06<26:01, 21.69s/epoch]"
          ]
        },
        {
          "output_type": "stream",
          "name": "stdout",
          "text": [
            "Best Epoch # 27  Loss= 0.25916436034275425  Accu= 0.8953888888888889\n"
          ]
        },
        {
          "output_type": "stream",
          "name": "stderr",
          "text": [
            "Epochs:  30%|███       | 30/100 [10:49<25:14, 21.64s/epoch]"
          ]
        },
        {
          "output_type": "stream",
          "name": "stdout",
          "text": [
            "Best Epoch # 29  Loss= 0.25559684417314  Accu= 0.8969444444444444\n"
          ]
        },
        {
          "output_type": "stream",
          "name": "stderr",
          "text": [
            "\rEpochs:  31%|███       | 31/100 [11:11<24:55, 21.67s/epoch]"
          ]
        },
        {
          "output_type": "stream",
          "name": "stdout",
          "text": [
            "Best Epoch # 30  Loss= 0.24840800406369898  Accu= 0.8991111111111111\n"
          ]
        },
        {
          "output_type": "stream",
          "name": "stderr",
          "text": [
            "\rEpochs:  32%|███▏      | 32/100 [11:32<24:34, 21.69s/epoch]"
          ]
        },
        {
          "output_type": "stream",
          "name": "stdout",
          "text": [
            "Best Epoch # 31  Loss= 0.24886650116244952  Accu= 0.9002777777777777\n"
          ]
        },
        {
          "output_type": "stream",
          "name": "stderr",
          "text": [
            "\rEpochs:  33%|███▎      | 33/100 [11:54<24:12, 21.67s/epoch]"
          ]
        },
        {
          "output_type": "stream",
          "name": "stdout",
          "text": [
            "Best Epoch # 32  Loss= 0.24480910383827156  Accu= 0.9022222222222223\n"
          ]
        },
        {
          "output_type": "stream",
          "name": "stderr",
          "text": [
            "Epochs:  35%|███▌      | 35/100 [12:37<23:29, 21.68s/epoch]"
          ]
        },
        {
          "output_type": "stream",
          "name": "stdout",
          "text": [
            "Best Epoch # 34  Loss= 0.24027235542734465  Accu= 0.9034444444444445\n"
          ]
        },
        {
          "output_type": "stream",
          "name": "stderr",
          "text": [
            "Epochs:  37%|███▋      | 37/100 [13:21<22:44, 21.65s/epoch]"
          ]
        },
        {
          "output_type": "stream",
          "name": "stdout",
          "text": [
            "Best Epoch # 36  Loss= 0.24027669313384428  Accu= 0.9038888888888889\n"
          ]
        },
        {
          "output_type": "stream",
          "name": "stderr",
          "text": [
            "\rEpochs:  38%|███▊      | 38/100 [13:43<22:28, 21.75s/epoch]"
          ]
        },
        {
          "output_type": "stream",
          "name": "stdout",
          "text": [
            "Best Epoch # 37  Loss= 0.23656465076903502  Accu= 0.9062777777777777\n"
          ]
        },
        {
          "output_type": "stream",
          "name": "stderr",
          "text": [
            "Epochs:  40%|████      | 40/100 [14:26<21:41, 21.70s/epoch]"
          ]
        },
        {
          "output_type": "stream",
          "name": "stdout",
          "text": [
            "Best Epoch # 39  Loss= 0.2281227261275053  Accu= 0.9075\n"
          ]
        },
        {
          "output_type": "stream",
          "name": "stderr",
          "text": [
            "\rEpochs:  41%|████      | 41/100 [14:48<21:20, 21.70s/epoch]"
          ]
        },
        {
          "output_type": "stream",
          "name": "stdout",
          "text": [
            "Best Epoch # 40  Loss= 0.22860479573284587  Accu= 0.9097777777777778\n"
          ]
        },
        {
          "output_type": "stream",
          "name": "stderr",
          "text": [
            "Epochs:  43%|████▎     | 43/100 [15:31<20:35, 21.68s/epoch]"
          ]
        },
        {
          "output_type": "stream",
          "name": "stdout",
          "text": [
            "Best Epoch # 42  Loss= 0.221244699191716  Accu= 0.9124444444444444\n"
          ]
        },
        {
          "output_type": "stream",
          "name": "stderr",
          "text": [
            "Epochs:  49%|████▉     | 49/100 [17:40<18:21, 21.59s/epoch]"
          ]
        },
        {
          "output_type": "stream",
          "name": "stdout",
          "text": [
            "Best Epoch # 48  Loss= 0.21581618747115136  Accu= 0.9140555555555555\n"
          ]
        },
        {
          "output_type": "stream",
          "name": "stderr",
          "text": [
            "Epochs:  51%|█████     | 51/100 [18:24<17:37, 21.58s/epoch]"
          ]
        },
        {
          "output_type": "stream",
          "name": "stdout",
          "text": [
            "Best Epoch # 50  Loss= 0.21010463714930747  Accu= 0.9151666666666667\n"
          ]
        },
        {
          "output_type": "stream",
          "name": "stderr",
          "text": [
            "Epochs:  53%|█████▎    | 53/100 [19:07<16:55, 21.60s/epoch]"
          ]
        },
        {
          "output_type": "stream",
          "name": "stdout",
          "text": [
            "Best Epoch # 52  Loss= 0.2102157014326917  Accu= 0.9161111111111111\n"
          ]
        },
        {
          "output_type": "stream",
          "name": "stderr",
          "text": [
            "\rEpochs:  54%|█████▍    | 54/100 [19:28<16:34, 21.62s/epoch]"
          ]
        },
        {
          "output_type": "stream",
          "name": "stdout",
          "text": [
            "Best Epoch # 53  Loss= 0.2080180047419336  Accu= 0.9176666666666666\n"
          ]
        },
        {
          "output_type": "stream",
          "name": "stderr",
          "text": [
            "Epochs:  56%|█████▌    | 56/100 [20:12<15:52, 21.65s/epoch]"
          ]
        },
        {
          "output_type": "stream",
          "name": "stdout",
          "text": [
            "Best Epoch # 55  Loss= 0.20693437629772557  Accu= 0.9186111111111112\n"
          ]
        },
        {
          "output_type": "stream",
          "name": "stderr",
          "text": [
            "Epochs:  59%|█████▉    | 59/100 [21:16<14:44, 21.58s/epoch]"
          ]
        },
        {
          "output_type": "stream",
          "name": "stdout",
          "text": [
            "Best Epoch # 58  Loss= 0.2038224189115895  Accu= 0.9199444444444445\n"
          ]
        },
        {
          "output_type": "stream",
          "name": "stderr",
          "text": [
            "Epochs:  62%|██████▏   | 62/100 [22:21<13:41, 21.62s/epoch]"
          ]
        },
        {
          "output_type": "stream",
          "name": "stdout",
          "text": [
            "Best Epoch # 61  Loss= 0.19858592094977698  Accu= 0.9222222222222223\n"
          ]
        },
        {
          "output_type": "stream",
          "name": "stderr",
          "text": [
            "Epochs:  66%|██████▌   | 66/100 [23:48<12:16, 21.66s/epoch]"
          ]
        },
        {
          "output_type": "stream",
          "name": "stdout",
          "text": [
            "Best Epoch # 65  Loss= 0.1973522884307636  Accu= 0.9233333333333333\n"
          ]
        },
        {
          "output_type": "stream",
          "name": "stderr",
          "text": [
            "Epochs:  68%|██████▊   | 68/100 [24:31<11:32, 21.65s/epoch]"
          ]
        },
        {
          "output_type": "stream",
          "name": "stdout",
          "text": [
            "Best Epoch # 67  Loss= 0.19260267771201  Accu= 0.9258888888888889\n"
          ]
        },
        {
          "output_type": "stream",
          "name": "stderr",
          "text": [
            "Epochs:  71%|███████   | 71/100 [25:36<10:26, 21.61s/epoch]"
          ]
        },
        {
          "output_type": "stream",
          "name": "stdout",
          "text": [
            "Best Epoch # 70  Loss= 0.1899161305717296  Accu= 0.9262222222222222\n"
          ]
        },
        {
          "output_type": "stream",
          "name": "stderr",
          "text": [
            "Epochs:  73%|███████▎  | 73/100 [26:19<09:44, 21.67s/epoch]"
          ]
        },
        {
          "output_type": "stream",
          "name": "stdout",
          "text": [
            "Best Epoch # 72  Loss= 0.18764244636727703  Accu= 0.9278888888888889\n"
          ]
        },
        {
          "output_type": "stream",
          "name": "stderr",
          "text": [
            "Epochs:  77%|███████▋  | 77/100 [27:46<08:20, 21.77s/epoch]"
          ]
        },
        {
          "output_type": "stream",
          "name": "stdout",
          "text": [
            "Best Epoch # 76  Loss= 0.18480139424072373  Accu= 0.9281666666666667\n"
          ]
        },
        {
          "output_type": "stream",
          "name": "stderr",
          "text": [
            "\rEpochs:  78%|███████▊  | 78/100 [28:08<07:58, 21.74s/epoch]"
          ]
        },
        {
          "output_type": "stream",
          "name": "stdout",
          "text": [
            "Best Epoch # 77  Loss= 0.18516766655362316  Accu= 0.9293333333333333\n"
          ]
        },
        {
          "output_type": "stream",
          "name": "stderr",
          "text": [
            "Epochs:  82%|████████▏ | 82/100 [29:35<06:31, 21.73s/epoch]"
          ]
        },
        {
          "output_type": "stream",
          "name": "stdout",
          "text": [
            "Best Epoch # 81  Loss= 0.1828312956272728  Accu= 0.9293888888888889\n"
          ]
        },
        {
          "output_type": "stream",
          "name": "stderr",
          "text": [
            "Epochs:  85%|████████▌ | 85/100 [30:40<05:26, 21.74s/epoch]"
          ]
        },
        {
          "output_type": "stream",
          "name": "stdout",
          "text": [
            "Best Epoch # 84  Loss= 0.18080155381311974  Accu= 0.9306666666666666\n"
          ]
        },
        {
          "output_type": "stream",
          "name": "stderr",
          "text": [
            "Epochs:  91%|█████████ | 91/100 [32:50<03:14, 21.62s/epoch]"
          ]
        },
        {
          "output_type": "stream",
          "name": "stdout",
          "text": [
            "Best Epoch # 90  Loss= 0.1743188572542535  Accu= 0.9318888888888889\n"
          ]
        },
        {
          "output_type": "stream",
          "name": "stderr",
          "text": [
            "\rEpochs:  92%|█████████▏| 92/100 [33:11<02:53, 21.70s/epoch]"
          ]
        },
        {
          "output_type": "stream",
          "name": "stdout",
          "text": [
            "Best Epoch # 91  Loss= 0.1704873509750598  Accu= 0.9334444444444444\n"
          ]
        },
        {
          "output_type": "stream",
          "name": "stderr",
          "text": [
            "Epochs:  97%|█████████▋| 97/100 [35:00<01:04, 21.65s/epoch]"
          ]
        },
        {
          "output_type": "stream",
          "name": "stdout",
          "text": [
            "Best Epoch # 96  Loss= 0.16975523596174188  Accu= 0.934\n"
          ]
        },
        {
          "output_type": "stream",
          "name": "stderr",
          "text": [
            "\rEpochs:  98%|█████████▊| 98/100 [35:21<00:43, 21.63s/epoch]"
          ]
        },
        {
          "output_type": "stream",
          "name": "stdout",
          "text": [
            "Best Epoch # 97  Loss= 0.16881555987687574  Accu= 0.9342222222222222\n"
          ]
        },
        {
          "output_type": "stream",
          "name": "stderr",
          "text": [
            "\rEpochs:  99%|█████████▉| 99/100 [35:43<00:21, 21.63s/epoch]"
          ]
        },
        {
          "output_type": "stream",
          "name": "stdout",
          "text": [
            "Best Epoch # 98  Loss= 0.1689965299645232  Accu= 0.9352222222222222\n"
          ]
        },
        {
          "output_type": "stream",
          "name": "stderr",
          "text": [
            "Epochs: 100%|██████████| 100/100 [36:05<00:00, 21.65s/epoch]"
          ]
        },
        {
          "output_type": "stream",
          "name": "stdout",
          "text": [
            "Best Epoch # 99  Loss= 0.16520258730153242  Accu= 0.9357222222222222\n"
          ]
        },
        {
          "output_type": "stream",
          "name": "stderr",
          "text": [
            "\n"
          ]
        }
      ],
      "source": [
        "if __name__ == \"__main__\":\n",
        "\n",
        "    model = model.to(device)\n",
        "\n",
        "    # Build our model\n",
        "    best_loss, best_accuracy, best_epoch = train(model=model,\n",
        "                                                    dataloader=train_loader,\n",
        "                                                    loss_fn=loss_fn,\n",
        "                                                    optimizer=optimizer,\n",
        "                                                    device=device,\n",
        "                                                    num_epochs = 170,\n",
        "                                                    path_model = str(\"./myModel_best_A.pth\"),\n",
        "                                                    verbatim = True)"
      ]
    },
    {
      "cell_type": "code",
      "execution_count": null,
      "metadata": {
        "id": "kGUVkp5vIwQ7",
        "colab": {
          "base_uri": "https://localhost:8080/"
        },
        "outputId": "3b3cd203-cc26-4073-a44a-f1c746c50180"
      },
      "outputs": [
        {
          "output_type": "stream",
          "name": "stdout",
          "text": [
            "Loss = 0.2049230250851251   Accuracy= 0.9515\n"
          ]
        }
      ],
      "source": [
        "y_pred, test_loss, test_acc  = test(model=model,\n",
        "                                    dataloader=test_loader,\n",
        "                                    loss_fn=loss_fn,\n",
        "                                    device=device,\n",
        "                                    verbatim = True)"
      ]
    },
    {
      "cell_type": "code",
      "source": [
        "# Load the model\n",
        "model = Network()\n",
        "model = model.to(device)\n",
        "\n",
        "# Path to the saved model\n",
        "saved_model_path = \"./myModel_best_A-9535.pth\"\n",
        "\n",
        "# Load the model's state dictionary\n",
        "checkpoint = torch.load(saved_model_path, map_location=device)\n",
        "model.load_state_dict(checkpoint)\n",
        "\n",
        "# Set model to evaluation mode if you're testing/inferencing\n",
        "model.eval()\n",
        "\n",
        "y_pred, test_loss, test_acc  = test(model=model,\n",
        "                                    dataloader=test_loader,\n",
        "                                    loss_fn=loss_fn,\n",
        "                                    device=device,\n",
        "                                    verbatim = True)"
      ],
      "metadata": {
        "colab": {
          "base_uri": "https://localhost:8080/"
        },
        "id": "adhn-YZR0DlP",
        "outputId": "e1f25f13-db9e-4b67-f4c7-3130b7e2d26c"
      },
      "execution_count": null,
      "outputs": [
        {
          "output_type": "stream",
          "name": "stderr",
          "text": [
            "<ipython-input-54-0ab62ce3ef41>:9: FutureWarning: You are using `torch.load` with `weights_only=False` (the current default value), which uses the default pickle module implicitly. It is possible to construct malicious pickle data which will execute arbitrary code during unpickling (See https://github.com/pytorch/pytorch/blob/main/SECURITY.md#untrusted-models for more details). In a future release, the default value for `weights_only` will be flipped to `True`. This limits the functions that could be executed during unpickling. Arbitrary objects will no longer be allowed to be loaded via this mode unless they are explicitly allowlisted by the user via `torch.serialization.add_safe_globals`. We recommend you start setting `weights_only=True` for any use case where you don't have full control of the loaded file. Please open an issue on GitHub for any issues related to this experimental feature.\n",
            "  checkpoint = torch.load(saved_model_path, map_location=device)\n"
          ]
        },
        {
          "output_type": "stream",
          "name": "stdout",
          "text": [
            "Loss = 0.2049230250851251   Accuracy= 0.9515\n"
          ]
        }
      ]
    },
    {
      "cell_type": "markdown",
      "source": [
        "# b)"
      ],
      "metadata": {
        "id": "F04l3TiwAR6z"
      }
    },
    {
      "cell_type": "code",
      "source": [
        "# Binary Classification DataFrame\n",
        "df_anomaly = df.copy()\n",
        "\n",
        "# Filter out the \"No-Anomaly\" class\n",
        "df_anomaly = df_anomaly[df_anomaly[\"anomaly_class\"] != \"No-Anomaly\"]\n",
        "\n",
        "# Map string labels to numerical labels\n",
        "df_anomaly['anomaly_class'] = df_anomaly['anomaly_class'].apply(\n",
        "    lambda x: 0 if x == 'Cell'\n",
        "              else 1 if x == 'Cell-Multi'\n",
        "              else 2 if x == 'Cracking'\n",
        "              else 3 if x == 'Hot-Spot'\n",
        "              else 4 if x == 'Hot-Spot-Multi'\n",
        "              else 5 if x == 'Shadowing'\n",
        "              else 6 if x == 'Diode'\n",
        "              else 7 if x == 'Diode-Multi'\n",
        "              else 8 if x == 'Vegetation'\n",
        "              else 9 if x == 'Soiling'\n",
        "              else 10 if x == 'Offline-Module'\n",
        "              else 11\n",
        ")\n",
        "\n",
        "# Print the class distribution\n",
        "anomaly_counts = df_anomaly['anomaly_class'].value_counts()\n",
        "print(\"Counts of each anomaly type:\")\n",
        "print(anomaly_counts)\n",
        "\n",
        "\n"
      ],
      "metadata": {
        "id": "AKzIq_Q3-ULQ",
        "outputId": "dfe8d237-5723-4c73-ddbb-5adcbd905c1d",
        "colab": {
          "base_uri": "https://localhost:8080/"
        }
      },
      "execution_count": null,
      "outputs": [
        {
          "output_type": "stream",
          "name": "stdout",
          "text": [
            "Counts of each anomaly type:\n",
            "anomaly_class\n",
            "0     1877\n",
            "8     1639\n",
            "6     1499\n",
            "1     1288\n",
            "5     1056\n",
            "2      940\n",
            "10     827\n",
            "3      249\n",
            "4      246\n",
            "9      204\n",
            "7      175\n",
            "Name: count, dtype: int64\n"
          ]
        }
      ]
    },
    {
      "cell_type": "code",
      "source": [
        "train_ratio_b = 0.9\n",
        "train_data_b, test_data_b = train_test_split(df_anomaly, test_size=(1 - train_ratio_b), train_size=train_ratio_b, random_state=2, stratify=df_anomaly['anomaly_class'])\n",
        "\n",
        "train_data_b.reset_index(drop=True, inplace=True)\n",
        "test_data_b.reset_index(drop=True, inplace=True)"
      ],
      "metadata": {
        "id": "Ea34nsxZ_qmI"
      },
      "execution_count": null,
      "outputs": []
    },
    {
      "cell_type": "code",
      "source": [
        "transform_augmentation_1 = transforms.Compose([\n",
        "    transforms.RandomHorizontalFlip(p=1),   # Random horizontal flip\n",
        "    transforms.ToTensor(),\n",
        "])\n",
        "\n",
        "transform_augmentation_2 = transforms.Compose([\n",
        "    transforms.RandomVerticalFlip(p=1),\n",
        "    transforms.ToTensor(),\n",
        "])\n",
        "\n",
        "transform_augmentation_3 = transforms.Compose([\n",
        "    transforms.RandomVerticalFlip(p=1),\n",
        "    transforms.RandomHorizontalFlip(p=1),\n",
        "    transforms.ToTensor(),\n",
        "])\n",
        "\n",
        "train_transform = transforms.Compose([\n",
        "    #transforms.RandomVerticalFlip(p=0.5),\n",
        "    #transforms.RandomHorizontalFlip(p=0.5),\n",
        "    transforms.RandomRotation(10),\n",
        "    transforms.RandomCrop((40, 24), padding=1),  # Random crop with padding\n",
        "    transforms.ColorJitter(brightness=0.2, contrast=0.2),  # Color jitter\n",
        "    transforms.ToTensor(),\n",
        "    transforms.Normalize(mean=[0.5], std=[0.5])\n",
        "])\n",
        "\n",
        "# Testing transform without augmentation\n",
        "test_transform = transforms.Compose([\n",
        "    transforms.ToTensor(),\n",
        "    transforms.Normalize(mean=[0.5], std=[0.5])\n",
        "])"
      ],
      "metadata": {
        "id": "tOKcoYkdlLZL"
      },
      "execution_count": null,
      "outputs": []
    },
    {
      "cell_type": "code",
      "source": [
        "train_data_b_counts = train_data_b['anomaly_class'].value_counts()\n",
        "print(\"Counts of each anomaly type:\")\n",
        "print(train_data_b_counts)\n",
        "print(\"Size:\", len(train_data_b), \"\\n\")\n",
        "\n",
        "# Datasets\n",
        "train_data_b_balanced = train_data_b.copy()\n",
        "\n",
        "largest_class_count = train_data_b_counts.max()\n",
        "ratios = largest_class_count / train_data_b_counts\n",
        "max_ratio = 4\n",
        "ratios = np.minimum(ratios, max_ratio)\n",
        "\n",
        "ratios_sorted = ratios.sort_index()\n",
        "ratios_matrix=[]\n",
        "\n",
        "for label, ratio in ratios_sorted.items():\n",
        "    ratios_matrix.append([label, ratio])\n",
        "ratios_matrix[0][1]+=0.1\n",
        "print(ratios_matrix)\n",
        "\n",
        "\n",
        "\n",
        "directory = \"/content/images_b\"\n",
        "if os.path.exists(directory):\n",
        "    for filename in os.listdir(directory):\n",
        "        file_path = os.path.join(directory, filename)\n",
        "        try:\n",
        "            if os.path.isdir(file_path):\n",
        "                shutil.rmtree(file_path)\n",
        "            else:\n",
        "                os.remove(file_path)\n",
        "        except Exception as e:\n",
        "            print(f\"Error deleting file {file_path}: {e}\")\n",
        "else:\n",
        "    os.makedirs(directory, exist_ok=True)\n",
        "\n",
        "\n",
        "\n",
        "for i in range(len(train_data_b)):\n",
        "    # Get the row for the current sample\n",
        "    row = train_data_b.iloc[i]\n",
        "    image_path = row[\"image_filepath\"]  # Path to the image\n",
        "    label = row[\"anomaly_class\"]       # Corresponding label\n",
        "\n",
        "    # Load the image using PIL\n",
        "    image_pil = Image.open(image_path).convert(\"L\")\n",
        "\n",
        "    # Get the ratio for this class\n",
        "    ratio = ratios_matrix[int(label)][1]\n",
        "\n",
        "    # Split the ratio into integer and fractional parts\n",
        "    int_part = int(ratio)  # Deterministic augmentations\n",
        "    frac_part = ratio - int_part  # Fractional part for probabilistic augmentation\n",
        "    num1,num2 = random.sample(range(1, 3), 2)\n",
        "    # Perform deterministic augmentations\n",
        "    for n in range(int_part-1):  # Subtract 1 because the original image already counts as 1\n",
        "        random_number = random.randint(1, 3)\n",
        "        if(int_part==1):\n",
        "            if(random_number==1):\n",
        "                transform_augmentation = transform_augmentation_1\n",
        "            elif(random_number==2):\n",
        "                transform_augmentation = transform_augmentation_2\n",
        "            elif(random_number==3):\n",
        "                transform_augmentation = transform_augmentation_3\n",
        "        elif(int_part==2 and n==0):\n",
        "            if(num1==1):\n",
        "                transform_augmentation = transform_augmentation_1\n",
        "            elif(num1==2):\n",
        "                transform_augmentation = transform_augmentation_2\n",
        "            elif(num1==3):\n",
        "                transform_augmentation = transform_augmentation_3\n",
        "        elif(int_part==2 and n==1):\n",
        "            if(num2==1):\n",
        "                transform_augmentation = transform_augmentation_1\n",
        "            elif(num2==2):\n",
        "                transform_augmentation = transform_augmentation_2\n",
        "            elif(num2==3):\n",
        "                transform_augmentation = transform_augmentation_3\n",
        "        elif(int_part==3 and n==0):\n",
        "            transform_augmentation = transform_augmentation_1\n",
        "        elif(int_part==3 and n==1):\n",
        "            transform_augmentation = transform_augmentation_2\n",
        "        elif(int_part==3 and n==2):\n",
        "            transform_augmentation = transform_augmentation_3\n",
        "        elif(int_part==4 and n==0):\n",
        "            transform_augmentation = transform_augmentation_1\n",
        "        elif(int_part==4 and n==1):\n",
        "            transform_augmentation = transform_augmentation_2\n",
        "        elif(int_part==4 and n==2):\n",
        "            transform_augmentation = transform_augmentation_3\n",
        "        elif(int_part==4 and n==3):\n",
        "            if(random_number==1):\n",
        "                transform_augmentation = transform_augmentation_1\n",
        "            elif(random_number==2):\n",
        "                transform_augmentation = transform_augmentation_2\n",
        "            elif(random_number==3):\n",
        "                transform_augmentation = transform_augmentation_3\n",
        "        transformed_image = transform_augmentation(image_pil)\n",
        "        if isinstance(transformed_image, torch.Tensor):\n",
        "            transformed_image = transforms.ToPILImage()(transformed_image)\n",
        "        new_image_path = os.path.join(directory, f\"transformed_image_{int(label)}_{i}_{n}.jpg\")\n",
        "        transformed_image.save(new_image_path, format=\"JPEG\", quality=95)\n",
        "        new_row = {\"image_filepath\": new_image_path, \"anomaly_class\": int(label)}\n",
        "        train_data_b_balanced = pd.concat([train_data_b_balanced, pd.DataFrame([new_row])], ignore_index=True)\n",
        "\n",
        "    # Perform probabilistic augmentation for the fractional part\n",
        "    if random.random() < frac_part:  # Augment with probability equal to the fractional part\n",
        "        random_number = random.randint(1, 3)\n",
        "        if(random_number==1):\n",
        "            transform_augmentation = transform_augmentation_1\n",
        "        elif(random_number==2):\n",
        "            transform_augmentation = transform_augmentation_2\n",
        "        elif(random_number==3):\n",
        "            transform_augmentation = transform_augmentation_3\n",
        "        transformed_image = transform_augmentation(image_pil)\n",
        "        x=1\n",
        "        if isinstance(transformed_image, torch.Tensor):\n",
        "            transformed_image = transforms.ToPILImage()(transformed_image)\n",
        "        new_image_path = os.path.join(directory, f\"transformed_image_2_{int(label)}_{i}_{x}.jpg\")\n",
        "        x+=1\n",
        "        transformed_image.save(new_image_path, format=\"JPEG\", quality=95)\n",
        "        new_row = {\"image_filepath\": new_image_path, \"anomaly_class\": int(label)}\n",
        "        train_data_b_balanced = pd.concat([train_data_b_balanced, pd.DataFrame([new_row])], ignore_index=True)\n",
        "\n",
        "\n",
        "train_data_b_balanced_counts = train_data_b_balanced['anomaly_class'].value_counts()\n",
        "print(\"\\nCounts of each anomaly type:\")\n",
        "print(train_data_b_balanced_counts)\n",
        "print(\"Size:\", len(train_data_b_balanced))"
      ],
      "metadata": {
        "id": "VqVlKmP7Cy17",
        "outputId": "d30b5cdd-64f2-461a-e989-bf02cc127202",
        "colab": {
          "base_uri": "https://localhost:8080/"
        }
      },
      "execution_count": null,
      "outputs": [
        {
          "output_type": "stream",
          "name": "stdout",
          "text": [
            "Counts of each anomaly type:\n",
            "anomaly_class\n",
            "0     1689\n",
            "8     1475\n",
            "6     1349\n",
            "1     1159\n",
            "5      950\n",
            "2      846\n",
            "10     744\n",
            "3      224\n",
            "4      222\n",
            "9      184\n",
            "7      158\n",
            "Name: count, dtype: int64\n",
            "Size: 9000 \n",
            "\n",
            "[[0, 1.1], [1, 1.4572907679033649], [2, 1.99645390070922], [3, 4.0], [4, 4.0], [5, 1.7778947368421052], [6, 1.252038547071905], [7, 4.0], [8, 1.1450847457627118], [9, 4.0], [10, 2.2701612903225805]]\n",
            "\n",
            "Counts of each anomaly type:\n",
            "anomaly_class\n",
            "0     1870\n",
            "6     1706\n",
            "10    1701\n",
            "5     1701\n",
            "1     1690\n",
            "2     1685\n",
            "8     1674\n",
            "3      896\n",
            "4      888\n",
            "9      736\n",
            "7      632\n",
            "Name: count, dtype: int64\n",
            "Size: 15179\n"
          ]
        }
      ]
    },
    {
      "cell_type": "code",
      "source": [
        "class MyImageDataset_b(data.Dataset):\n",
        "    def __init__(self, metadata, transform=None, img_mode=\"L\"):\n",
        "\n",
        "        self.img_labels = metadata[\"anomaly_class\"].values\n",
        "        self.img_paths = metadata[\"image_filepath\"].values\n",
        "        self.transform = transform\n",
        "        self.img_mode = img_mode\n",
        "\n",
        "    def __len__(self):\n",
        "        return len(self.img_labels)\n",
        "\n",
        "    def __getitem__(self, idx):\n",
        "\n",
        "        try:\n",
        "            img_path = self.img_paths[idx]\n",
        "\n",
        "            # Ensure the image file exists\n",
        "            if not os.path.exists(img_path):\n",
        "                raise FileNotFoundError(f\"Image file not found: {img_path}\")\n",
        "\n",
        "            # Open and convert the image\n",
        "            image = Image.open(img_path).convert(self.img_mode)\n",
        "            label = self.img_labels[idx]\n",
        "\n",
        "            # Apply transformations if specified\n",
        "            if self.transform:\n",
        "                image = self.transform(image)\n",
        "\n",
        "            return image, torch.tensor(label, dtype=torch.long)\n",
        "\n",
        "        except Exception as e:\n",
        "            raise RuntimeError(f\"Error loading sample at index {idx}: {e}\")"
      ],
      "metadata": {
        "id": "dX2XQBXdu_e4"
      },
      "execution_count": null,
      "outputs": []
    },
    {
      "cell_type": "code",
      "source": [
        "# DataLoaders\n",
        "#train_dataset_b_balanced = MyImageDataset_b(metadata=train_data_b, transform=train_transform)\n",
        "train_dataset_b_balanced = MyImageDataset_b(metadata=train_data_b_balanced, transform=train_transform)\n",
        "test_dataset_b = MyImageDataset_b(metadata=test_data_b, transform=test_transform)\n",
        "\n",
        "batch_size = 32\n",
        "train_loader_b = data.DataLoader(dataset=train_dataset_b_balanced, batch_size=batch_size, shuffle=True)\n",
        "test_loader_b = data.DataLoader(dataset=test_dataset_b, batch_size=batch_size, shuffle=False)"
      ],
      "metadata": {
        "id": "A_LAR0ETThtP"
      },
      "execution_count": null,
      "outputs": []
    },
    {
      "cell_type": "code",
      "source": [
        "# Obtém um batch de imagens, seus rótulos e os caminhos\n",
        "images_b, labels_b = next(iter(train_loader_b))  # Pega o primeiro batch\n",
        "print(labels_b[0])\n",
        "\n",
        "# Desfazendo a normalização para as imagens\n",
        "images_b = images_b * 0.5 + 0.5  # Inverte a normalização, para voltar ao intervalo [0, 1]\n",
        "\n",
        "# Cria uma figura com múltiplos subplots\n",
        "fig, axes = plt.subplots(4, 8, figsize=(20, 10))  # 4 linhas e 8 colunas\n",
        "axes = axes.flatten()  # Para facilitar o acesso aos eixos (axes)\n",
        "\n",
        "# Loop para exibir as 32 primeiras imagens do batch\n",
        "for i in range(len(images_b)):\n",
        "    image = images_b[i]  # Pega a i-ésima imagem do batch\n",
        "    image_pil = transforms.ToPILImage()(image)  # Converte o tensor para uma imagem PIL\n",
        "\n",
        "    # Exibe a imagem\n",
        "    axes[i].imshow(image_pil)\n",
        "    axes[i].set_title(f\"Label: {labels_b[i].item()}\")  # Exibe o rótulo e o caminho do arquivo\n",
        "    axes[i].axis('off')  # Remove os eixos para uma exibição mais limpa\n",
        "\n",
        "print(images_b[0].shape)\n",
        "plt.tight_layout()  # Ajusta o layout para que as imagens não se sobreponham\n",
        "plt.show()"
      ],
      "metadata": {
        "colab": {
          "base_uri": "https://localhost:8080/",
          "height": 912
        },
        "id": "V1wJgQgRDeXH",
        "outputId": "00e82f43-3fff-4d7f-c5bb-f19c4657a5b5"
      },
      "execution_count": null,
      "outputs": [
        {
          "output_type": "stream",
          "name": "stdout",
          "text": [
            "tensor(4)\n",
            "torch.Size([1, 40, 24])\n"
          ]
        },
        {
          "output_type": "display_data",
          "data": {
            "text/plain": [
              "<Figure size 2000x1000 with 32 Axes>"
            ],
            "image/png": "[encoded data removed]"
          },
          "metadata": {}
        }
      ]
    },
    {
      "cell_type": "code",
      "source": [
        "# Function to save the model\n",
        "def saveModel(model:nn.Module, path):\n",
        "    torch.save(model.state_dict(), path)\n",
        "\n",
        "# Training function. We simply have to loop over our data iterator and feed the inputs to the network and optimize.\n",
        "def train(model: torch.nn.Module,\n",
        "          dataloader: torch.utils.data.DataLoader,\n",
        "          loss_fn: torch.nn.Module,\n",
        "          optimizer: torch.optim.Optimizer,\n",
        "          device: torch.device,\n",
        "          num_epochs,\n",
        "          path_model,\n",
        "          verbatim):\n",
        "    model.train()\n",
        "    model.to(device)\n",
        "    best_accuracy = 0.0\n",
        "    best_loss = 0.0\n",
        "    best_epoch = 0\n",
        "    for epoch in tqdm(range(num_epochs), desc=\"Epochs\", unit=\"epoch\"):  # Adicionando a barra de progresso para os epochs\n",
        "\n",
        "        train_acc = 0.0\n",
        "        train_loss = 0.0\n",
        "        for ibatch, (images, labels) in enumerate(dataloader):  # Adicionando a barra de progresso para os batches\n",
        "\n",
        "            # get the inputs\n",
        "            images = images.to(device)\n",
        "            labels = labels.to(device)\n",
        "\n",
        "            # 1. Forward pass\n",
        "            y_pred = model(images)\n",
        "            y_pred = y_pred.squeeze(dim=1)\n",
        "\n",
        "            # 2. Calculate  and accumulate loss\n",
        "            loss = loss_fn(y_pred, labels)\n",
        "            train_loss += loss.item()\n",
        "\n",
        "            # 3. Optimizer zero grad\n",
        "            optimizer.zero_grad()\n",
        "\n",
        "            # 4. Loss backward\n",
        "            loss.backward()\n",
        "\n",
        "            # 5. Optimizer step\n",
        "            optimizer.step()\n",
        "\n",
        "            # Calculate and accumulate accuracy metric across all batches\n",
        "            y_pred_class = torch.argmax(torch.softmax(y_pred, dim=1), dim=1)\n",
        "            train_acc += (y_pred_class == labels).sum().item()/len(y_pred)\n",
        "\n",
        "        # Adjust metrics to get average loss and accuracy per batch\n",
        "        train_loss = train_loss / len(dataloader)\n",
        "        train_acc = train_acc / len(dataloader)\n",
        "\n",
        "        # we want to save the model if the accuracy is the best\n",
        "\n",
        "\n",
        "        if train_acc > best_accuracy:\n",
        "            path = str(path_model)\n",
        "            saveModel(model, path = path)\n",
        "            best_loss = train_loss\n",
        "            best_accuracy = train_acc\n",
        "            best_epoch = epoch\n",
        "            if verbatim:\n",
        "              print('Best Epoch #', epoch,' Loss=', best_loss, \" Accu=\", best_accuracy )\n",
        "\n",
        "    return best_loss, best_accuracy, best_epoch"
      ],
      "metadata": {
        "id": "rfD_Rnvod-Mw"
      },
      "execution_count": null,
      "outputs": []
    },
    {
      "cell_type": "code",
      "source": [
        "# Function to test the model with the test dataset and print the accuracy for the test images\n",
        "def test(model: torch.nn.Module,\n",
        "         dataloader: torch.utils.data.DataLoader,\n",
        "         loss_fn: torch.nn.Module,\n",
        "         device: torch.device,\n",
        "         verbatim = True):\n",
        "\n",
        "    # Put model in eval mode\n",
        "    model.eval()\n",
        "    model.to(device)\n",
        "    # Setup test loss and test accuracy values\n",
        "    test_loss, test_acc = 0, 0\n",
        "    pred_labels = []\n",
        "    with torch.no_grad():\n",
        "        for data in dataloader:\n",
        "\n",
        "            # get the inputs\n",
        "            images, labels = data\n",
        "            images = Variable(images.to(device))\n",
        "            labels = Variable(labels.to(device))\n",
        "\n",
        "            # 1. run the model on the test set to predict labels\n",
        "            y_pred = model(images)\n",
        "\n",
        "            # 2. Calculate and accumulate loss\n",
        "            loss = loss_fn(y_pred, labels)\n",
        "            test_loss += loss.item()\n",
        "\n",
        "            # 3. Calculate and accumulate accuracy\n",
        "            y_pred_class = torch.argmax(torch.softmax(y_pred, dim=1), dim=1)\n",
        "            test_acc += (y_pred_class == labels).sum().item()/len(y_pred)\n",
        "            pred_labels = y_pred_class.tolist()\n",
        "\n",
        "    # Adjust metrics to get average loss and accuracy per batch\n",
        "    test_loss = test_loss / len(dataloader)\n",
        "    test_acc = test_acc / len(dataloader)\n",
        "\n",
        "    if verbatim:\n",
        "      print(\"Loss =\", test_loss, \"  Accuracy=\", test_acc)\n",
        "    return pred_labels, test_loss, test_acc\n"
      ],
      "metadata": {
        "id": "xx0DV8jWeDCH"
      },
      "execution_count": null,
      "outputs": []
    },
    {
      "cell_type": "code",
      "source": [
        "class Network_b(nn.Module):\n",
        "    def __init__(self):\n",
        "        super().__init__()\n",
        "\n",
        "        # Convolutional and pooling layers with kernel size 5x5 for the first two layers, 3x3 for the third layer\n",
        "        self.conv1 = nn.Conv2d(1, 128, 3)\n",
        "        self.bn1 = nn.BatchNorm2d(128)\n",
        "        self.pool1 = nn.MaxPool2d(2, 2)\n",
        "\n",
        "        self.conv2 = nn.Conv2d(128, 256, 3)\n",
        "        self.bn2 = nn.BatchNorm2d(256)\n",
        "        self.pool2 = nn.MaxPool2d(2, 1)\n",
        "\n",
        "        self.conv3 = nn.Conv2d(256, 512, 3)\n",
        "        self.bn3 = nn.BatchNorm2d(512)\n",
        "        self.pool3 = nn.MaxPool2d(2, 2)\n",
        "\n",
        "        self.conv4 = nn.Conv2d(512, 512, 3)  # Extra layer\n",
        "        self.bn4 = nn.BatchNorm2d(512)\n",
        "\n",
        "        self.dropout_conv = nn.Dropout2d(0.2)\n",
        "\n",
        "        # Calculating the correct input size for the fully connected layer\n",
        "        # Initial    : (40, 24)\n",
        "        # After conv1: (38, 22)\n",
        "        # After pool1: (19, 11)\n",
        "        # After conv2: (17, 9)\n",
        "        # After pool2: (16, 8)\n",
        "        # After conv3: (14, 6)\n",
        "        # After pool3: (7, 3)\n",
        "        # After conv4: (5, 1)\n",
        "\n",
        "        self.fc1 = nn.Linear(512 * 5 * 1, 2048)   # Increase neurons\n",
        "        self.bn_fc1 = nn.BatchNorm1d(2048)        #  TIR\n",
        "        self.dropout1 = nn.Dropout(0.4)           # Dropout\n",
        "\n",
        "        self.fc2 = nn.Linear(2048, 1024)          # Add capacity\n",
        "        self.bn_fc2 = nn.BatchNorm1d(1024)        # Batch normalization\n",
        "        self.dropout2 = nn.Dropout(0.5)\n",
        "\n",
        "        self.fc3 = nn.Linear(1024, 256)           # Add another layer\n",
        "        self.dropout3 = nn.Dropout(0.5)\n",
        "\n",
        "        self.fc4 = nn.Linear(256, 11)\n",
        "\n",
        "    def forward(self, x):\n",
        "        # First convolutional layer, ReLU, and pooling\n",
        "        x = self.pool1(F.relu(self.bn1(self.conv1(x))))\n",
        "        x = self.pool2(F.relu(self.bn2(self.conv2(x))))\n",
        "        x = self.pool3(F.relu(self.bn3(self.conv3(x))))\n",
        "\n",
        "        # Optional additional convolutional layer\n",
        "        x = F.relu(self.bn4(self.conv4(x)))\n",
        "\n",
        "        x = self.dropout_conv(x)  # Dropout after conv layers\n",
        "        x = torch.flatten(x, 1)\n",
        "\n",
        "        # Fully connected layers\n",
        "        x = F.relu(self.bn_fc1(self.fc1(x)))   # Apply batch normalization after fc1\n",
        "        x = self.dropout1(x)                 # Apply dropout after activation\n",
        "\n",
        "        x = F.relu(self.bn_fc2(self.fc2(x)))  # Apply batch normalization after fc2\n",
        "        x = self.dropout2(x)\n",
        "\n",
        "        x = F.relu(self.fc3(x))               # Third fully connected layer, no batch norm\n",
        "        x = self.dropout3(x)                  # Dropout to prevent overfitting\n",
        "\n",
        "        x = self.fc4(x)\n",
        "\n",
        "        return x\n",
        "\n",
        "model_b = Network_b()\n",
        "\n",
        "class_labels = train_data_b_balanced['anomaly_class'].values\n",
        "class_weights = compute_class_weight(class_weight='balanced', classes=np.unique(class_labels), y=class_labels)\n",
        "class_weights /= class_weights.sum()\n",
        "\n",
        "class_weights = torch.tensor(class_weights, dtype=torch.float).to(device)\n",
        "\n",
        "#loss_fn_b = nn.CrossEntropyLoss().to(device)\n",
        "loss_fn_b = nn.CrossEntropyLoss(weight=class_weights).to(device)\n",
        "#loss_fn_b = nn.CrossEntropyLoss().to(device)\n",
        "\n",
        "# Define the optimizer\n",
        "#optimizer = torch.optim.SGD(model.parameters(), lr=0.0025, momentum=0.9, weight_decay=1e-4)\n",
        "optimizer_b = torch.optim.Adam(model_b.parameters(), lr=0.0001, weight_decay=5e-4)"
      ],
      "metadata": {
        "id": "6LvYXJzjEvPn"
      },
      "execution_count": null,
      "outputs": []
    },
    {
      "cell_type": "code",
      "source": [
        "if __name__ == \"__main__\":\n",
        "\n",
        "    model = model_b.to(device)\n",
        "\n",
        "    # Build our model\n",
        "    best_loss, best_accuracy, best_epoch = train(model=model_b,\n",
        "                                                    dataloader=train_loader_b,\n",
        "                                                    loss_fn=loss_fn_b,\n",
        "                                                    optimizer=optimizer_b,\n",
        "                                                    device=device,\n",
        "                                                    num_epochs = 20,\n",
        "                                                    path_model = str(\"./myModel_best_A_b.pth\"),\n",
        "                                                    verbatim = True)"
      ],
      "metadata": {
        "colab": {
          "base_uri": "https://localhost:8080/"
        },
        "id": "fzSxVHrwFySX",
        "outputId": "3bb363f1-1bd0-4a38-8499-42e40a81a29d"
      },
      "execution_count": null,
      "outputs": [
        {
          "output_type": "stream",
          "name": "stderr",
          "text": [
            "Epochs:   5%|▌         | 1/20 [00:42<13:27, 42.49s/epoch]"
          ]
        },
        {
          "output_type": "stream",
          "name": "stdout",
          "text": [
            "New Best Model at Epoch 0: Test Accuracy = 0.3854, Test Loss = 1.7922\n"
          ]
        },
        {
          "output_type": "stream",
          "name": "stderr",
          "text": [
            "\rEpochs:  10%|█         | 2/20 [01:24<12:39, 42.19s/epoch]"
          ]
        },
        {
          "output_type": "stream",
          "name": "stdout",
          "text": [
            "New Best Model at Epoch 1: Test Accuracy = 0.4717, Test Loss = 1.4789\n"
          ]
        },
        {
          "output_type": "stream",
          "name": "stderr",
          "text": [
            "\rEpochs:  15%|█▌        | 3/20 [02:05<11:50, 41.78s/epoch]"
          ]
        },
        {
          "output_type": "stream",
          "name": "stdout",
          "text": [
            "New Best Model at Epoch 2: Test Accuracy = 0.5034, Test Loss = 1.4494\n"
          ]
        },
        {
          "output_type": "stream",
          "name": "stderr",
          "text": [
            "\rEpochs:  20%|██        | 4/20 [02:48<11:12, 42.04s/epoch]"
          ]
        },
        {
          "output_type": "stream",
          "name": "stdout",
          "text": [
            "New Best Model at Epoch 3: Test Accuracy = 0.6005, Test Loss = 1.0887\n"
          ]
        },
        {
          "output_type": "stream",
          "name": "stderr",
          "text": [
            "\rEpochs:  25%|██▌       | 5/20 [03:30<10:33, 42.22s/epoch]"
          ]
        },
        {
          "output_type": "stream",
          "name": "stdout",
          "text": [
            "New Best Model at Epoch 4: Test Accuracy = 0.6092, Test Loss = 1.0437\n"
          ]
        },
        {
          "output_type": "stream",
          "name": "stderr",
          "text": [
            "\rEpochs:  30%|███       | 6/20 [04:13<09:51, 42.28s/epoch]"
          ]
        },
        {
          "output_type": "stream",
          "name": "stdout",
          "text": [
            "New Best Model at Epoch 5: Test Accuracy = 0.6361, Test Loss = 0.9703\n"
          ]
        },
        {
          "output_type": "stream",
          "name": "stderr",
          "text": [
            "Epochs:  40%|████      | 8/20 [05:36<08:24, 42.08s/epoch]"
          ]
        },
        {
          "output_type": "stream",
          "name": "stdout",
          "text": [
            "New Best Model at Epoch 7: Test Accuracy = 0.6893, Test Loss = 0.8573\n"
          ]
        },
        {
          "output_type": "stream",
          "name": "stderr",
          "text": [
            "Epochs:  50%|█████     | 10/20 [07:01<07:01, 42.12s/epoch]"
          ]
        },
        {
          "output_type": "stream",
          "name": "stdout",
          "text": [
            "New Best Model at Epoch 9: Test Accuracy = 0.7021, Test Loss = 0.7619\n"
          ]
        },
        {
          "output_type": "stream",
          "name": "stderr",
          "text": [
            "\rEpochs:  55%|█████▌    | 11/20 [07:43<06:18, 42.11s/epoch]"
          ]
        },
        {
          "output_type": "stream",
          "name": "stdout",
          "text": [
            "New Best Model at Epoch 10: Test Accuracy = 0.7408, Test Loss = 0.6720\n"
          ]
        },
        {
          "output_type": "stream",
          "name": "stderr",
          "text": [
            "\rEpochs:  60%|██████    | 12/20 [08:24<05:35, 41.98s/epoch]"
          ]
        },
        {
          "output_type": "stream",
          "name": "stdout",
          "text": [
            "New Best Model at Epoch 11: Test Accuracy = 0.7563, Test Loss = 0.6275\n"
          ]
        },
        {
          "output_type": "stream",
          "name": "stderr",
          "text": [
            "\rEpochs:  65%|██████▌   | 13/20 [09:07<04:55, 42.16s/epoch]"
          ]
        },
        {
          "output_type": "stream",
          "name": "stdout",
          "text": [
            "New Best Model at Epoch 12: Test Accuracy = 0.7648, Test Loss = 0.5996\n"
          ]
        },
        {
          "output_type": "stream",
          "name": "stderr",
          "text": [
            "\rEpochs:  70%|███████   | 14/20 [09:49<04:12, 42.16s/epoch]"
          ]
        },
        {
          "output_type": "stream",
          "name": "stdout",
          "text": [
            "New Best Model at Epoch 13: Test Accuracy = 0.7813, Test Loss = 0.5680\n"
          ]
        },
        {
          "output_type": "stream",
          "name": "stderr",
          "text": [
            "\rEpochs:  75%|███████▌  | 15/20 [10:31<03:30, 42.15s/epoch]"
          ]
        },
        {
          "output_type": "stream",
          "name": "stdout",
          "text": [
            "New Best Model at Epoch 14: Test Accuracy = 0.7890, Test Loss = 0.5329\n"
          ]
        },
        {
          "output_type": "stream",
          "name": "stderr",
          "text": [
            "\rEpochs:  80%|████████  | 16/20 [11:14<02:48, 42.20s/epoch]"
          ]
        },
        {
          "output_type": "stream",
          "name": "stdout",
          "text": [
            "New Best Model at Epoch 15: Test Accuracy = 0.7900, Test Loss = 0.5269\n"
          ]
        },
        {
          "output_type": "stream",
          "name": "stderr",
          "text": [
            "\rEpochs:  85%|████████▌ | 17/20 [11:55<02:05, 41.85s/epoch]"
          ]
        },
        {
          "output_type": "stream",
          "name": "stdout",
          "text": [
            "New Best Model at Epoch 16: Test Accuracy = 0.8079, Test Loss = 0.4721\n"
          ]
        },
        {
          "output_type": "stream",
          "name": "stderr",
          "text": [
            "\rEpochs:  90%|█████████ | 18/20 [12:36<01:23, 41.81s/epoch]"
          ]
        },
        {
          "output_type": "stream",
          "name": "stdout",
          "text": [
            "New Best Model at Epoch 17: Test Accuracy = 0.8273, Test Loss = 0.4495\n"
          ]
        },
        {
          "output_type": "stream",
          "name": "stderr",
          "text": [
            "Epochs: 100%|██████████| 20/20 [14:02<00:00, 42.13s/epoch]"
          ]
        },
        {
          "output_type": "stream",
          "name": "stdout",
          "text": [
            "New Best Model at Epoch 19: Test Accuracy = 0.8433, Test Loss = 0.3899\n"
          ]
        },
        {
          "output_type": "stream",
          "name": "stderr",
          "text": [
            "\n"
          ]
        }
      ]
    },
    {
      "cell_type": "code",
      "source": [
        "model_test_b = Network_b()\n",
        "model_test_b = model.to(device)\n",
        "\n",
        "saved_model_path = \"./myModel_best_A_b.pth\"\n",
        "checkpoint = torch.load(saved_model_path, map_location=device)\n",
        "model_test_b.load_state_dict(checkpoint)\n",
        "model_test_b.eval()\n",
        "\n",
        "y_pred, test_loss, test_acc  = test(model=model_test_b,\n",
        "                                    dataloader=test_loader_b,\n",
        "                                    loss_fn=loss_fn_b,\n",
        "                                    device=device,\n",
        "                                    verbatim = True)"
      ],
      "metadata": {
        "colab": {
          "base_uri": "https://localhost:8080/"
        },
        "id": "0T7TY4UqGFlP",
        "outputId": "32d9a071-1a2a-4a80-db21-8e3133ca3468"
      },
      "execution_count": null,
      "outputs": [
        {
          "output_type": "stream",
          "name": "stderr",
          "text": [
            "<ipython-input-57-42b10f58806f>:8: FutureWarning: You are using `torch.load` with `weights_only=False` (the current default value), which uses the default pickle module implicitly. It is possible to construct malicious pickle data which will execute arbitrary code during unpickling (See https://github.com/pytorch/pytorch/blob/main/SECURITY.md#untrusted-models for more details). In a future release, the default value for `weights_only` will be flipped to `True`. This limits the functions that could be executed during unpickling. Arbitrary objects will no longer be allowed to be loaded via this mode unless they are explicitly allowlisted by the user via `torch.serialization.add_safe_globals`. We recommend you start setting `weights_only=True` for any use case where you don't have full control of the loaded file. Please open an issue on GitHub for any issues related to this experimental feature.\n",
            "  checkpoint = torch.load(saved_model_path, map_location=device)\n"
          ]
        },
        {
          "output_type": "stream",
          "name": "stdout",
          "text": [
            "Loss = 0.9162224745377898   Accuracy= 0.732421875\n"
          ]
        }
      ]
    },
    {
      "cell_type": "markdown",
      "source": [
        "# c)"
      ],
      "metadata": {
        "id": "itiqZcQAlLVP"
      }
    },
    {
      "cell_type": "code",
      "source": [
        "# Binary Classification DataFrame\n",
        "df_all_classes = df.copy()\n",
        "\n",
        "# Map string labels to numerical labels\n",
        "df_all_classes['anomaly_class'] = df_all_classes['anomaly_class'].apply(\n",
        "    lambda x: 0 if x == 'Cell'\n",
        "              else 1 if x == 'Cell-Multi'\n",
        "              else 2 if x == 'Cracking'\n",
        "              else 3 if x == 'Hot-Spot'\n",
        "              else 4 if x == 'Hot-Spot-Multi'\n",
        "              else 5 if x == 'Shadowing'\n",
        "              else 6 if x == 'Diode'\n",
        "              else 7 if x == 'Diode-Multi'\n",
        "              else 8 if x == 'Vegetation'\n",
        "              else 9 if x == 'Soiling'\n",
        "              else 10 if x == 'Offline-Module'\n",
        "              else 11 if x == 'No-Anomaly'\n",
        "              else 12\n",
        ")\n",
        "\n",
        "# Print the class distribution\n",
        "df_all_classes_count = df_all_classes['anomaly_class'].value_counts()\n",
        "print(\"Counts of each anomaly type:\")\n",
        "print(df_all_classes_count)\n",
        "\n",
        "\n"
      ],
      "metadata": {
        "colab": {
          "base_uri": "https://localhost:8080/"
        },
        "id": "eH1sH-TClP9g",
        "outputId": "55f59c54-90b2-4517-f17a-7412dde70d2c"
      },
      "execution_count": 6,
      "outputs": [
        {
          "output_type": "stream",
          "name": "stdout",
          "text": [
            "Counts of each anomaly type:\n",
            "anomaly_class\n",
            "11    10000\n",
            "0      1877\n",
            "8      1639\n",
            "6      1499\n",
            "1      1288\n",
            "5      1056\n",
            "2       940\n",
            "10      827\n",
            "3       249\n",
            "4       246\n",
            "9       204\n",
            "7       175\n",
            "Name: count, dtype: int64\n"
          ]
        }
      ]
    },
    {
      "cell_type": "code",
      "source": [
        "train_ratio_c = 0.9\n",
        "train_data_c, test_data_c = train_test_split(df_all_classes, test_size=(1 - train_ratio_c), train_size=train_ratio_c, random_state=2, stratify=df_all_classes['anomaly_class'])\n",
        "\n",
        "train_data_c.reset_index(drop=True, inplace=True)\n",
        "test_data_c.reset_index(drop=True, inplace=True)"
      ],
      "metadata": {
        "id": "hs2XCHWdmkA-"
      },
      "execution_count": 10,
      "outputs": []
    },
    {
      "cell_type": "code",
      "source": [
        "transform_augmentation_1 = transforms.Compose([\n",
        "    transforms.RandomHorizontalFlip(p=1),   # Random horizontal flip\n",
        "    transforms.ToTensor(),\n",
        "])\n",
        "\n",
        "transform_augmentation_2 = transforms.Compose([\n",
        "    transforms.RandomVerticalFlip(p=1),\n",
        "    transforms.ToTensor(),\n",
        "])\n",
        "\n",
        "transform_augmentation_3 = transforms.Compose([\n",
        "    transforms.RandomVerticalFlip(p=1),\n",
        "    transforms.RandomHorizontalFlip(p=1),\n",
        "    transforms.ToTensor(),\n",
        "])\n",
        "\n",
        "train_transform = transforms.Compose([\n",
        "    transforms.RandomRotation(10),\n",
        "    #transforms.RandomCrop((40, 24), padding=1),  # Random crop with padding\n",
        "    transforms.ColorJitter(brightness=0.2, contrast=0.2),  # Color jitter\n",
        "    transforms.ToTensor(),\n",
        "    transforms.Normalize(mean=[0.5], std=[0.5])\n",
        "])\n",
        "\n",
        "# Testing transform without augmentation\n",
        "test_transform = transforms.Compose([\n",
        "    transforms.ToTensor(),\n",
        "    transforms.Normalize(mean=[0.5], std=[0.5])\n",
        "])"
      ],
      "metadata": {
        "id": "lcZ77_SZmxtD"
      },
      "execution_count": 11,
      "outputs": []
    },
    {
      "cell_type": "code",
      "source": [
        "train_data_c_counts = train_data_c['anomaly_class'].value_counts()\n",
        "print(\"Counts of each anomaly type:\")\n",
        "print(train_data_c_counts)\n",
        "print(\"Size:\", len(train_data_c), \"\\n\")\n",
        "\n",
        "# Datasets\n",
        "train_data_c_balanced = train_data_c.copy()\n",
        "\n",
        "largest_class_count = train_data_c_counts.max()\n",
        "ratios = largest_class_count / train_data_c_counts\n",
        "max_ratio = 4\n",
        "ratios = np.minimum(ratios, max_ratio)\n",
        "ratios_sorted = ratios.sort_index()\n",
        "ratios_matrix=[]\n",
        "\n",
        "\n",
        "for label, ratio in ratios_sorted.items():\n",
        "    ratios_matrix.append([label, ratio])\n",
        "print(ratios_matrix)\n",
        "\n",
        "\n",
        "\n",
        "directory = \"/content/images_c\"\n",
        "if os.path.exists(directory):\n",
        "    for filename in os.listdir(directory):\n",
        "        file_path = os.path.join(directory, filename)\n",
        "        try:\n",
        "            if os.path.isdir(file_path):\n",
        "                shutil.rmtree(file_path)\n",
        "            else:\n",
        "                os.remove(file_path)\n",
        "        except Exception as e:\n",
        "            print(f\"Error deleting file {file_path}: {e}\")\n",
        "else:\n",
        "    os.makedirs(directory, exist_ok=True)\n",
        "\n",
        "\n",
        "\n",
        "for i in range(len(train_data_c)):\n",
        "    # Get the row for the current sample\n",
        "    row = train_data_c.iloc[i]\n",
        "    image_path = row[\"image_filepath\"]  # Path to the image\n",
        "    label = row[\"anomaly_class\"]       # Corresponding label\n",
        "\n",
        "    # Load the image using PIL\n",
        "    image_pil = Image.open(image_path).convert(\"L\")\n",
        "\n",
        "    # Get the ratio for this class\n",
        "    ratio = ratios_matrix[int(label)][1]\n",
        "\n",
        "    # Split the ratio into integer and fractional parts\n",
        "    int_part = int(ratio)  # Deterministic augmentations\n",
        "    frac_part = ratio - int_part  # Fractional part for probabilistic augmentation\n",
        "    num1,num2 = random.sample(range(1, 3), 2)\n",
        "    # Perform deterministic augmentations\n",
        "    for n in range(int_part-1):  # Subtract 1 because the original image already counts as 1\n",
        "        if(n==0):\n",
        "            transform_augmentation = transform_augmentation_1\n",
        "        elif(n==1):\n",
        "            transform_augmentation = transform_augmentation_2\n",
        "        elif(n==2):\n",
        "            transform_augmentation = transform_augmentation_3\n",
        "\n",
        "        transformed_image = transform_augmentation(image_pil)\n",
        "        if isinstance(transformed_image, torch.Tensor):\n",
        "            transformed_image = transforms.ToPILImage()(transformed_image)\n",
        "        new_image_path = os.path.join(directory, f\"transformed_image_{int(label)}_{i}_{n}.jpg\")\n",
        "        transformed_image.save(new_image_path, format=\"JPEG\", quality=95)\n",
        "        new_row = {\"image_filepath\": new_image_path, \"anomaly_class\": int(label)}\n",
        "        train_data_c_balanced = pd.concat([train_data_c_balanced, pd.DataFrame([new_row])], ignore_index=True)\n",
        "\n",
        "\n",
        "train_data_c_balanced_counts = train_data_c_balanced['anomaly_class'].value_counts()\n",
        "print(\"\\nCounts of each anomaly type:\")\n",
        "print(train_data_c_balanced_counts)\n",
        "print(\"Size:\", len(train_data_c_balanced))"
      ],
      "metadata": {
        "colab": {
          "base_uri": "https://localhost:8080/"
        },
        "id": "SkL1dmd4m8uC",
        "outputId": "f8d6e83a-3c3b-45a2-ac0e-e38daf00aef6"
      },
      "execution_count": 12,
      "outputs": [
        {
          "output_type": "stream",
          "name": "stdout",
          "text": [
            "Counts of each anomaly type:\n",
            "anomaly_class\n",
            "11    9000\n",
            "0     1689\n",
            "8     1475\n",
            "6     1349\n",
            "1     1159\n",
            "5      950\n",
            "2      846\n",
            "10     744\n",
            "3      224\n",
            "4      222\n",
            "9      184\n",
            "7      158\n",
            "Name: count, dtype: int64\n",
            "Size: 18000 \n",
            "\n",
            "[[0, 4.0], [1, 4.0], [2, 4.0], [3, 4.0], [4, 4.0], [5, 4.0], [6, 4.0], [7, 4.0], [8, 4.0], [9, 4.0], [10, 4.0], [11, 1.0]]\n",
            "\n",
            "Counts of each anomaly type:\n",
            "anomaly_class\n",
            "11    9000\n",
            "0     6756\n",
            "8     5900\n",
            "6     5396\n",
            "1     4636\n",
            "5     3800\n",
            "2     3384\n",
            "10    2976\n",
            "3      896\n",
            "4      888\n",
            "9      736\n",
            "7      632\n",
            "Name: count, dtype: int64\n",
            "Size: 45000\n"
          ]
        }
      ]
    },
    {
      "cell_type": "code",
      "source": [
        "class MyImageDataset_c(data.Dataset):\n",
        "    def __init__(self, metadata, transform=None, img_mode=\"L\"):\n",
        "\n",
        "        self.img_labels = metadata[\"anomaly_class\"].values\n",
        "        self.img_paths = metadata[\"image_filepath\"].values\n",
        "        self.transform = transform\n",
        "        self.img_mode = img_mode\n",
        "\n",
        "    def __len__(self):\n",
        "        return len(self.img_labels)\n",
        "\n",
        "    def __getitem__(self, idx):\n",
        "\n",
        "        try:\n",
        "            img_path = self.img_paths[idx]\n",
        "\n",
        "            # Ensure the image file exists\n",
        "            if not os.path.exists(img_path):\n",
        "                raise FileNotFoundError(f\"Image file not found: {img_path}\")\n",
        "\n",
        "            # Open and convert the image\n",
        "            image = Image.open(img_path).convert(self.img_mode)\n",
        "            label = self.img_labels[idx]\n",
        "\n",
        "            # Apply transformations if specified\n",
        "            if self.transform:\n",
        "                image = self.transform(image)\n",
        "\n",
        "            return image, torch.tensor(label, dtype=torch.long)\n",
        "\n",
        "        except Exception as e:\n",
        "            raise RuntimeError(f\"Error loading sample at index {idx}: {e}\")"
      ],
      "metadata": {
        "id": "7WXnkks_pgLr"
      },
      "execution_count": 13,
      "outputs": []
    },
    {
      "cell_type": "code",
      "source": [
        "# DataLoaders\n",
        "#train_dataset_b_balanced = MyImageDataset_b(metadata=train_data_b, transform=train_transform)\n",
        "train_dataset_c_balanced = MyImageDataset_c(metadata=train_data_c_balanced, transform=train_transform)\n",
        "test_dataset_c = MyImageDataset_c(metadata=test_data_c, transform=test_transform)\n",
        "\n",
        "batch_size = 32\n",
        "train_loader_c = data.DataLoader(dataset=train_dataset_c_balanced, batch_size=batch_size, shuffle=True)\n",
        "test_loader_c = data.DataLoader(dataset=test_dataset_c, batch_size=batch_size, shuffle=False)"
      ],
      "metadata": {
        "id": "czuxIab0pluz"
      },
      "execution_count": 14,
      "outputs": []
    },
    {
      "cell_type": "code",
      "source": [
        "# Obtém um batch de imagens, seus rótulos e os caminhos\n",
        "images_c, labels_c = next(iter(train_loader_c))  # Pega o primeiro batch\n",
        "print(labels_c[0])\n",
        "\n",
        "# Desfazendo a normalização para as imagens\n",
        "images_c = images_c * 0.5 + 0.5  # Inverte a normalização, para voltar ao intervalo [0, 1]\n",
        "\n",
        "# Cria uma figura com múltiplos subplots\n",
        "fig, axes = plt.subplots(4, 8, figsize=(20, 10))  # 4 linhas e 8 colunas\n",
        "axes = axes.flatten()  # Para facilitar o acesso aos eixos (axes)\n",
        "\n",
        "# Loop para exibir as 32 primeiras imagens do batch\n",
        "for i in range(len(images_c)):\n",
        "    image = images_c[i]  # Pega a i-ésima imagem do batch\n",
        "    image_pil = transforms.ToPILImage()(image)  # Converte o tensor para uma imagem PIL\n",
        "\n",
        "    # Exibe a imagem\n",
        "    axes[i].imshow(image_pil)\n",
        "    axes[i].set_title(f\"Label: {labels_c[i].item()}\")  # Exibe o rótulo e o caminho do arquivo\n",
        "    axes[i].axis('off')  # Remove os eixos para uma exibição mais limpa\n",
        "\n",
        "print(images_c[0].shape)\n",
        "plt.tight_layout()  # Ajusta o layout para que as imagens não se sobreponham\n",
        "plt.show()"
      ],
      "metadata": {
        "colab": {
          "base_uri": "https://localhost:8080/",
          "height": 981
        },
        "id": "nq3vEHHzsGfZ",
        "outputId": "aba56f4c-ee26-4b4f-fe0a-109a7df401ce"
      },
      "execution_count": 15,
      "outputs": [
        {
          "output_type": "stream",
          "name": "stdout",
          "text": [
            "tensor(0)\n",
            "torch.Size([1, 40, 24])\n"
          ]
        },
        {
          "output_type": "display_data",
          "data": {
            "text/plain": [
              "<Figure size 2000x1000 with 32 Axes>"
            ],
            "image/png": "[encoded data removed]"
          },
          "metadata": {}
        }
      ]
    },
    {
      "cell_type": "code",
      "source": [
        "from torch.optim.lr_scheduler import ReduceLROnPlateau\n",
        "\n",
        "def saveModel(model:nn.Module, path):\n",
        "    torch.save(model.state_dict(), path)\n",
        "\n",
        "def train(model: torch.nn.Module,\n",
        "          dataloader: torch.utils.data.DataLoader,\n",
        "          loss_fn: torch.nn.Module,\n",
        "          optimizer: torch.optim.Optimizer,\n",
        "          scheduler,\n",
        "          device: torch.device,\n",
        "          num_epochs,\n",
        "          path_model,\n",
        "          verbatim):\n",
        "    model.train()\n",
        "    model.to(device)\n",
        "    best_accuracy = 0.0\n",
        "    best_loss = float('inf')  # Initialize with a large value\n",
        "    best_epoch = 0\n",
        "    best_f1 = 0.0  # To keep track of the best F1-score\n",
        "\n",
        "    for epoch in tqdm(range(num_epochs), desc=\"Epochs\", unit=\"epoch\"):  # Progress bar for epochs\n",
        "\n",
        "        train_acc = 0.0\n",
        "        train_loss = 0.0\n",
        "        all_preds = []\n",
        "        all_labels = []\n",
        "\n",
        "        for ibatch, (images, labels) in enumerate(dataloader):  # Progress bar for batches\n",
        "\n",
        "            # Get the inputs\n",
        "            images = images.to(device)\n",
        "            labels = labels.to(device)\n",
        "\n",
        "            # 1. Forward pass\n",
        "            y_pred = model(images)\n",
        "            y_pred = y_pred.squeeze(dim=1)\n",
        "\n",
        "            # 2. Calculate and accumulate loss\n",
        "            loss = loss_fn(y_pred, labels)\n",
        "            train_loss += loss.item()\n",
        "\n",
        "            # 3. Optimizer zero grad\n",
        "            optimizer.zero_grad()\n",
        "\n",
        "            # 4. Loss backward\n",
        "            loss.backward()\n",
        "\n",
        "            # 5. Optimizer step\n",
        "            optimizer.step()\n",
        "\n",
        "            # Calculate and accumulate accuracy metric across all batches\n",
        "            y_pred_class = torch.argmax(torch.softmax(y_pred, dim=1), dim=1)\n",
        "            train_acc += (y_pred_class == labels).sum().item() / len(y_pred)\n",
        "\n",
        "            # Collect predictions and labels for F1-score calculation\n",
        "            all_preds.extend(y_pred_class.cpu().numpy())\n",
        "            all_labels.extend(labels.cpu().numpy())\n",
        "\n",
        "        # Adjust metrics to get average loss and accuracy per batch\n",
        "        train_loss = train_loss / len(dataloader)\n",
        "        train_acc = train_acc / len(dataloader)\n",
        "\n",
        "        # Calculate F1-score for the epoch\n",
        "        epoch_f1 = f1_score(all_labels, all_preds, average=\"weighted\")  # \"weighted\" accounts for class imbalance\n",
        "\n",
        "        # Save the model if accuracy or F1-score is the best\n",
        "        if train_loss < best_loss or epoch_f1 > best_f1:\n",
        "            path = str(path_model)\n",
        "            saveModel(model, path=path)\n",
        "            best_loss = train_loss\n",
        "            best_accuracy = train_acc\n",
        "            best_epoch = epoch\n",
        "            best_f1 = epoch_f1\n",
        "\n",
        "        # Step the scheduler\n",
        "        scheduler.step(train_loss)  # Pass in train_loss to monitor for plateau\n",
        "\n",
        "        if verbatim:\n",
        "            print(f'Epoch #{epoch}: Loss={train_loss:.4f}, F1-score={epoch_f1:.4f}, Accuracy={train_acc:.4f}')\n",
        "\n",
        "    return best_loss, best_accuracy, best_epoch, best_f1\n"
      ],
      "metadata": {
        "id": "a_4K2sx4scif"
      },
      "execution_count": 16,
      "outputs": []
    },
    {
      "cell_type": "code",
      "source": [
        "from sklearn.metrics import f1_score\n",
        "\n",
        "# Function to test the model with the test dataset and print the accuracy and F1-score for the test images\n",
        "def test(model: torch.nn.Module,\n",
        "         dataloader: torch.utils.data.DataLoader,\n",
        "         loss_fn: torch.nn.Module,\n",
        "         device: torch.device,\n",
        "         verbatim=True):\n",
        "\n",
        "    # Put model in eval mode\n",
        "    model.eval()\n",
        "    model.to(device)\n",
        "    # Setup test loss and test accuracy values\n",
        "    test_loss, test_acc = 0, 0\n",
        "    all_preds = []\n",
        "    all_labels = []\n",
        "\n",
        "    with torch.no_grad():\n",
        "        for data in dataloader:\n",
        "            # Get the inputs\n",
        "            images, labels = data\n",
        "            images = Variable(images.to(device))\n",
        "            labels = Variable(labels.to(device))\n",
        "\n",
        "            # 1. Run the model on the test set to predict labels\n",
        "            y_pred = model(images)\n",
        "\n",
        "            # 2. Calculate and accumulate loss\n",
        "            loss = loss_fn(y_pred, labels)\n",
        "            test_loss += loss.item()\n",
        "\n",
        "            # 3. Calculate and accumulate accuracy\n",
        "            y_pred_class = torch.argmax(torch.softmax(y_pred, dim=1), dim=1)\n",
        "            test_acc += (y_pred_class == labels).sum().item() / len(y_pred)\n",
        "\n",
        "            # Collect predictions and true labels for F1-score calculation\n",
        "            all_preds.extend(y_pred_class.cpu().numpy())\n",
        "            all_labels.extend(labels.cpu().numpy())\n",
        "\n",
        "    # Adjust metrics to get average loss and accuracy per batch\n",
        "    test_loss = test_loss / len(dataloader)\n",
        "    test_acc = test_acc / len(dataloader)\n",
        "\n",
        "    # Calculate F1-score\n",
        "    test_f1 = f1_score(all_labels, all_preds, average=\"weighted\")\n",
        "\n",
        "    if verbatim:\n",
        "        print(f\"Loss = {test_loss:.4f}, F1-score = {test_f1:.4f}, Accuracy = {test_acc:.4f}\")\n",
        "\n",
        "    return all_preds, test_loss, test_acc, test_f1\n"
      ],
      "metadata": {
        "id": "P8lcNM4Dsfjb"
      },
      "execution_count": 17,
      "outputs": []
    },
    {
      "cell_type": "code",
      "source": [
        "class Network_c(nn.Module):\n",
        "    def __init__(self):\n",
        "        super().__init__()\n",
        "\n",
        "        # Convolutional and pooling layers with kernel size 5x5 for the first two layers, 3x3 for the third layer\n",
        "        self.conv1 = nn.Conv2d(1, 128, 3)\n",
        "        self.bn1 = nn.BatchNorm2d(128)\n",
        "        self.pool1 = nn.MaxPool2d(2, 2)\n",
        "\n",
        "        self.conv2 = nn.Conv2d(128, 256, 3)\n",
        "        self.bn2 = nn.BatchNorm2d(256)\n",
        "        self.pool2 = nn.MaxPool2d(2, 1)\n",
        "\n",
        "        self.conv3 = nn.Conv2d(256, 512, 3)\n",
        "        self.bn3 = nn.BatchNorm2d(512)\n",
        "        self.pool3 = nn.MaxPool2d(2, 2)\n",
        "\n",
        "        self.conv4 = nn.Conv2d(512, 512, 3)  # Extra layer\n",
        "        self.bn4 = nn.BatchNorm2d(512)\n",
        "\n",
        "        self.dropout_conv = nn.Dropout2d(0.2)\n",
        "\n",
        "        # Calculating the correct input size for the fully connected layer\n",
        "        # Initial    : (40, 24)\n",
        "        # After conv1: (38, 22)\n",
        "        # After pool1: (19, 11)\n",
        "        # After conv2: (17, 9)\n",
        "        # After pool2: (16, 8)\n",
        "        # After conv3: (14, 6)\n",
        "        # After pool3: (7, 3)\n",
        "        # After conv4: (5, 1)\n",
        "\n",
        "        self.fc1 = nn.Linear(512 * 5 * 1, 2048)   # Increase neurons\n",
        "        self.bn_fc1 = nn.BatchNorm1d(2048)        #  TIR\n",
        "        self.dropout1 = nn.Dropout(0.4)           # Dropout\n",
        "\n",
        "        self.fc2 = nn.Linear(2048, 1024)          # Add capacity\n",
        "        self.bn_fc2 = nn.BatchNorm1d(1024)        # Batch normalization\n",
        "        self.dropout2 = nn.Dropout(0.5)\n",
        "\n",
        "        self.fc3 = nn.Linear(1024, 256)           # Add another layer\n",
        "        self.dropout3 = nn.Dropout(0.5)\n",
        "\n",
        "        self.fc4 = nn.Linear(256, 12)\n",
        "\n",
        "    def forward(self, x):\n",
        "        # First convolutional layer, ReLU, and pooling\n",
        "        x = self.pool1(F.relu(self.bn1(self.conv1(x))))\n",
        "        x = self.pool2(F.relu(self.bn2(self.conv2(x))))\n",
        "        x = self.pool3(F.relu(self.bn3(self.conv3(x))))\n",
        "\n",
        "        # Optional additional convolutional layer\n",
        "        x = F.relu(self.bn4(self.conv4(x)))\n",
        "\n",
        "        x = self.dropout_conv(x)  # Dropout after conv layers\n",
        "        x = torch.flatten(x, 1)\n",
        "\n",
        "        # Fully connected layers\n",
        "        x = F.relu(self.bn_fc1(self.fc1(x)))   # Apply batch normalization after fc1\n",
        "        x = self.dropout1(x)                 # Apply dropout after activation\n",
        "\n",
        "        x = F.relu(self.bn_fc2(self.fc2(x)))  # Apply batch normalization after fc2\n",
        "        x = self.dropout2(x)\n",
        "\n",
        "        x = F.relu(self.fc3(x))               # Third fully connected layer, no batch norm\n",
        "        x = self.dropout3(x)                  # Dropout to prevent overfitting\n",
        "\n",
        "        x = self.fc4(x)\n",
        "\n",
        "        return x\n",
        "\n",
        "model_c = Network_c()\n",
        "\n",
        "class_labels = train_data_c_balanced['anomaly_class'].values\n",
        "class_weights = compute_class_weight(class_weight='balanced', classes=np.unique(class_labels), y=class_labels)\n",
        "class_weights /= class_weights.sum()\n",
        "print(class_weights)\n",
        "\n",
        "class_weights = torch.tensor(class_weights, dtype=torch.float).to(device)\n",
        "\n",
        "#loss_fn_b = nn.CrossEntropyLoss().to(device)\n",
        "loss_fn_c = nn.CrossEntropyLoss(weight=class_weights).to(device)\n",
        "#loss_fn_b = nn.CrossEntropyLoss().to(device)\n",
        "\n",
        "# Define the optimizer\n",
        "#optimizer = torch.optim.SGD(model.parameters(), lr=0.0025, momentum=0.9, weight_decay=1e-4)\n",
        "optimizer_c = torch.optim.Adam(model_c.parameters(), lr=0.0001, weight_decay=5e-4)\n",
        "scheduler_c = ReduceLROnPlateau(optimizer_c, mode='min', factor=0.1, patience=5, verbose=True)"
      ],
      "metadata": {
        "id": "o9OCfMntskGN",
        "colab": {
          "base_uri": "https://localhost:8080/"
        },
        "outputId": "38e2e1ad-1e44-48e7-b79d-64256e6fa0c8"
      },
      "execution_count": 30,
      "outputs": [
        {
          "output_type": "stream",
          "name": "stdout",
          "text": [
            "[0.02142837 0.03122737 0.04278076 0.16157376 0.16302938 0.03809739\n",
            " 0.02682915 0.2290666  0.0245373  0.19669849 0.04864586 0.01608557]\n"
          ]
        },
        {
          "output_type": "stream",
          "name": "stderr",
          "text": [
            "/usr/local/lib/python3.10/dist-packages/torch/optim/lr_scheduler.py:62: UserWarning: The verbose parameter is deprecated. Please use get_last_lr() to access the learning rate.\n",
            "  warnings.warn(\n"
          ]
        }
      ]
    },
    {
      "cell_type": "code",
      "source": [
        "saved_model_path = \"./myModel_best_A_c_78.pth\"\n",
        "checkpoint = torch.load(saved_model_path, map_location=device)\n",
        "model_c.load_state_dict(checkpoint)"
      ],
      "metadata": {
        "colab": {
          "base_uri": "https://localhost:8080/"
        },
        "id": "uaQvPwgSO6go",
        "outputId": "7c88cf61-410d-4b31-9bf5-815dfb64c98c"
      },
      "execution_count": 31,
      "outputs": [
        {
          "output_type": "stream",
          "name": "stderr",
          "text": [
            "<ipython-input-31-905bf20eaf66>:2: FutureWarning: You are using `torch.load` with `weights_only=False` (the current default value), which uses the default pickle module implicitly. It is possible to construct malicious pickle data which will execute arbitrary code during unpickling (See https://github.com/pytorch/pytorch/blob/main/SECURITY.md#untrusted-models for more details). In a future release, the default value for `weights_only` will be flipped to `True`. This limits the functions that could be executed during unpickling. Arbitrary objects will no longer be allowed to be loaded via this mode unless they are explicitly allowlisted by the user via `torch.serialization.add_safe_globals`. We recommend you start setting `weights_only=True` for any use case where you don't have full control of the loaded file. Please open an issue on GitHub for any issues related to this experimental feature.\n",
            "  checkpoint = torch.load(saved_model_path, map_location=device)\n"
          ]
        },
        {
          "output_type": "execute_result",
          "data": {
            "text/plain": [
              "<All keys matched successfully>"
            ]
          },
          "metadata": {},
          "execution_count": 31
        }
      ]
    },
    {
      "cell_type": "code",
      "source": [
        "if __name__ == \"__main__\":\n",
        "\n",
        "    model = model_c.to(device)\n",
        "\n",
        "    # Build our model\n",
        "    best_loss, best_accuracy, best_epoch, best_f1 = train(model=model_c,\n",
        "                                                          dataloader=train_loader_c,\n",
        "                                                          loss_fn=loss_fn_c,\n",
        "                                                          optimizer=optimizer_c,\n",
        "                                                          scheduler=scheduler_c,\n",
        "                                                          device=device,\n",
        "                                                          num_epochs = 30,\n",
        "                                                          path_model = str(\"./myModel_best_A_c_78.pth\"),\n",
        "                                                          verbatim = True)"
      ],
      "metadata": {
        "colab": {
          "base_uri": "https://localhost:8080/"
        },
        "id": "_5Xg1t1ksyJK",
        "outputId": "d6170a41-b7af-46a8-8d98-6234d3139426"
      },
      "execution_count": 32,
      "outputs": [
        {
          "output_type": "stream",
          "name": "stderr",
          "text": [
            "Epochs:   3%|▎         | 1/30 [01:01<29:52, 61.81s/epoch]"
          ]
        },
        {
          "output_type": "stream",
          "name": "stdout",
          "text": [
            "Epoch #0: Loss=0.7317, F1-score=0.7558, Accuracy=0.7528\n"
          ]
        },
        {
          "output_type": "stream",
          "name": "stderr",
          "text": [
            "\rEpochs:   7%|▋         | 2/30 [02:05<29:14, 62.66s/epoch]"
          ]
        },
        {
          "output_type": "stream",
          "name": "stdout",
          "text": [
            "Epoch #1: Loss=0.6066, F1-score=0.7755, Accuracy=0.7736\n"
          ]
        },
        {
          "output_type": "stream",
          "name": "stderr",
          "text": [
            "\rEpochs:  10%|█         | 3/30 [03:06<27:58, 62.15s/epoch]"
          ]
        },
        {
          "output_type": "stream",
          "name": "stdout",
          "text": [
            "Epoch #2: Loss=0.5783, F1-score=0.7813, Accuracy=0.7798\n"
          ]
        },
        {
          "output_type": "stream",
          "name": "stderr",
          "text": [
            "\rEpochs:  13%|█▎        | 4/30 [04:07<26:45, 61.75s/epoch]"
          ]
        },
        {
          "output_type": "stream",
          "name": "stdout",
          "text": [
            "Epoch #3: Loss=0.5477, F1-score=0.7878, Accuracy=0.7869\n"
          ]
        },
        {
          "output_type": "stream",
          "name": "stderr",
          "text": [
            "\rEpochs:  17%|█▋        | 5/30 [05:09<25:40, 61.64s/epoch]"
          ]
        },
        {
          "output_type": "stream",
          "name": "stdout",
          "text": [
            "Epoch #4: Loss=0.5192, F1-score=0.7948, Accuracy=0.7943\n"
          ]
        },
        {
          "output_type": "stream",
          "name": "stderr",
          "text": [
            "\rEpochs:  20%|██        | 6/30 [06:10<24:39, 61.63s/epoch]"
          ]
        },
        {
          "output_type": "stream",
          "name": "stdout",
          "text": [
            "Epoch #5: Loss=0.5020, F1-score=0.7984, Accuracy=0.7978\n"
          ]
        },
        {
          "output_type": "stream",
          "name": "stderr",
          "text": [
            "\rEpochs:  23%|██▎       | 7/30 [07:14<23:49, 62.16s/epoch]"
          ]
        },
        {
          "output_type": "stream",
          "name": "stdout",
          "text": [
            "Epoch #6: Loss=0.4842, F1-score=0.8060, Accuracy=0.8055\n"
          ]
        },
        {
          "output_type": "stream",
          "name": "stderr",
          "text": [
            "\rEpochs:  27%|██▋       | 8/30 [08:17<22:58, 62.64s/epoch]"
          ]
        },
        {
          "output_type": "stream",
          "name": "stdout",
          "text": [
            "Epoch #7: Loss=0.4645, F1-score=0.8119, Accuracy=0.8116\n"
          ]
        },
        {
          "output_type": "stream",
          "name": "stderr",
          "text": [
            "\rEpochs:  30%|███       | 9/30 [09:19<21:50, 62.40s/epoch]"
          ]
        },
        {
          "output_type": "stream",
          "name": "stdout",
          "text": [
            "Epoch #8: Loss=0.4534, F1-score=0.8164, Accuracy=0.8161\n"
          ]
        },
        {
          "output_type": "stream",
          "name": "stderr",
          "text": [
            "\rEpochs:  33%|███▎      | 10/30 [10:22<20:49, 62.49s/epoch]"
          ]
        },
        {
          "output_type": "stream",
          "name": "stdout",
          "text": [
            "Epoch #9: Loss=0.4435, F1-score=0.8185, Accuracy=0.8184\n"
          ]
        },
        {
          "output_type": "stream",
          "name": "stderr",
          "text": [
            "\rEpochs:  37%|███▋      | 11/30 [11:23<19:42, 62.24s/epoch]"
          ]
        },
        {
          "output_type": "stream",
          "name": "stdout",
          "text": [
            "Epoch #10: Loss=0.4315, F1-score=0.8200, Accuracy=0.8198\n"
          ]
        },
        {
          "output_type": "stream",
          "name": "stderr",
          "text": [
            "\rEpochs:  40%|████      | 12/30 [12:26<18:42, 62.36s/epoch]"
          ]
        },
        {
          "output_type": "stream",
          "name": "stdout",
          "text": [
            "Epoch #11: Loss=0.4306, F1-score=0.8232, Accuracy=0.8229\n"
          ]
        },
        {
          "output_type": "stream",
          "name": "stderr",
          "text": [
            "\rEpochs:  43%|████▎     | 13/30 [13:28<17:36, 62.17s/epoch]"
          ]
        },
        {
          "output_type": "stream",
          "name": "stdout",
          "text": [
            "Epoch #12: Loss=0.4031, F1-score=0.8326, Accuracy=0.8322\n"
          ]
        },
        {
          "output_type": "stream",
          "name": "stderr",
          "text": [
            "\rEpochs:  47%|████▋     | 14/30 [14:30<16:34, 62.16s/epoch]"
          ]
        },
        {
          "output_type": "stream",
          "name": "stdout",
          "text": [
            "Epoch #13: Loss=0.4085, F1-score=0.8309, Accuracy=0.8306\n"
          ]
        },
        {
          "output_type": "stream",
          "name": "stderr",
          "text": [
            "\rEpochs:  50%|█████     | 15/30 [15:32<15:31, 62.11s/epoch]"
          ]
        },
        {
          "output_type": "stream",
          "name": "stdout",
          "text": [
            "Epoch #14: Loss=0.3946, F1-score=0.8339, Accuracy=0.8337\n"
          ]
        },
        {
          "output_type": "stream",
          "name": "stderr",
          "text": [
            "\rEpochs:  53%|█████▎    | 16/30 [16:34<14:31, 62.23s/epoch]"
          ]
        },
        {
          "output_type": "stream",
          "name": "stdout",
          "text": [
            "Epoch #15: Loss=0.3935, F1-score=0.8363, Accuracy=0.8359\n"
          ]
        },
        {
          "output_type": "stream",
          "name": "stderr",
          "text": [
            "\rEpochs:  57%|█████▋    | 17/30 [17:36<13:27, 62.12s/epoch]"
          ]
        },
        {
          "output_type": "stream",
          "name": "stdout",
          "text": [
            "Epoch #16: Loss=0.3830, F1-score=0.8389, Accuracy=0.8386\n"
          ]
        },
        {
          "output_type": "stream",
          "name": "stderr",
          "text": [
            "\rEpochs:  60%|██████    | 18/30 [18:39<12:27, 62.28s/epoch]"
          ]
        },
        {
          "output_type": "stream",
          "name": "stdout",
          "text": [
            "Epoch #17: Loss=0.3783, F1-score=0.8407, Accuracy=0.8406\n"
          ]
        },
        {
          "output_type": "stream",
          "name": "stderr",
          "text": [
            "\rEpochs:  63%|██████▎   | 19/30 [19:42<11:26, 62.44s/epoch]"
          ]
        },
        {
          "output_type": "stream",
          "name": "stdout",
          "text": [
            "Epoch #18: Loss=0.3655, F1-score=0.8451, Accuracy=0.8450\n"
          ]
        },
        {
          "output_type": "stream",
          "name": "stderr",
          "text": [
            "\rEpochs:  67%|██████▋   | 20/30 [20:44<10:22, 62.29s/epoch]"
          ]
        },
        {
          "output_type": "stream",
          "name": "stdout",
          "text": [
            "Epoch #19: Loss=0.3660, F1-score=0.8473, Accuracy=0.8472\n"
          ]
        },
        {
          "output_type": "stream",
          "name": "stderr",
          "text": [
            "\rEpochs:  70%|███████   | 21/30 [21:46<09:21, 62.39s/epoch]"
          ]
        },
        {
          "output_type": "stream",
          "name": "stdout",
          "text": [
            "Epoch #20: Loss=0.3584, F1-score=0.8512, Accuracy=0.8512\n"
          ]
        },
        {
          "output_type": "stream",
          "name": "stderr",
          "text": [
            "\rEpochs:  73%|███████▎  | 22/30 [22:49<08:19, 62.47s/epoch]"
          ]
        },
        {
          "output_type": "stream",
          "name": "stdout",
          "text": [
            "Epoch #21: Loss=0.3545, F1-score=0.8515, Accuracy=0.8513\n"
          ]
        },
        {
          "output_type": "stream",
          "name": "stderr",
          "text": [
            "\rEpochs:  77%|███████▋  | 23/30 [23:51<07:17, 62.46s/epoch]"
          ]
        },
        {
          "output_type": "stream",
          "name": "stdout",
          "text": [
            "Epoch #22: Loss=0.3436, F1-score=0.8553, Accuracy=0.8553\n"
          ]
        },
        {
          "output_type": "stream",
          "name": "stderr",
          "text": [
            "\rEpochs:  80%|████████  | 24/30 [24:53<06:12, 62.05s/epoch]"
          ]
        },
        {
          "output_type": "stream",
          "name": "stdout",
          "text": [
            "Epoch #23: Loss=0.3380, F1-score=0.8583, Accuracy=0.8583\n"
          ]
        },
        {
          "output_type": "stream",
          "name": "stderr",
          "text": [
            "\rEpochs:  83%|████████▎ | 25/30 [25:55<05:10, 62.19s/epoch]"
          ]
        },
        {
          "output_type": "stream",
          "name": "stdout",
          "text": [
            "Epoch #24: Loss=0.3421, F1-score=0.8556, Accuracy=0.8553\n"
          ]
        },
        {
          "output_type": "stream",
          "name": "stderr",
          "text": [
            "\rEpochs:  87%|████████▋ | 26/30 [26:57<04:08, 62.17s/epoch]"
          ]
        },
        {
          "output_type": "stream",
          "name": "stdout",
          "text": [
            "Epoch #25: Loss=0.3355, F1-score=0.8622, Accuracy=0.8621\n"
          ]
        },
        {
          "output_type": "stream",
          "name": "stderr",
          "text": [
            "\rEpochs:  90%|█████████ | 27/30 [28:00<03:07, 62.41s/epoch]"
          ]
        },
        {
          "output_type": "stream",
          "name": "stdout",
          "text": [
            "Epoch #26: Loss=0.3254, F1-score=0.8621, Accuracy=0.8621\n"
          ]
        },
        {
          "output_type": "stream",
          "name": "stderr",
          "text": [
            "\rEpochs:  93%|█████████▎| 28/30 [29:03<02:04, 62.47s/epoch]"
          ]
        },
        {
          "output_type": "stream",
          "name": "stdout",
          "text": [
            "Epoch #27: Loss=0.3219, F1-score=0.8631, Accuracy=0.8629\n"
          ]
        },
        {
          "output_type": "stream",
          "name": "stderr",
          "text": [
            "\rEpochs:  97%|█████████▋| 29/30 [30:06<01:02, 62.60s/epoch]"
          ]
        },
        {
          "output_type": "stream",
          "name": "stdout",
          "text": [
            "Epoch #28: Loss=0.3261, F1-score=0.8630, Accuracy=0.8628\n"
          ]
        },
        {
          "output_type": "stream",
          "name": "stderr",
          "text": [
            "Epochs: 100%|██████████| 30/30 [31:08<00:00, 62.29s/epoch]"
          ]
        },
        {
          "output_type": "stream",
          "name": "stdout",
          "text": [
            "Epoch #29: Loss=0.3128, F1-score=0.8687, Accuracy=0.8685\n"
          ]
        },
        {
          "output_type": "stream",
          "name": "stderr",
          "text": [
            "\n"
          ]
        }
      ]
    },
    {
      "cell_type": "code",
      "source": [
        "model_test_c = Network_c()\n",
        "model_test_c = model.to(device)\n",
        "\n",
        "saved_model_path = \"./myModel_best_A_c_78.pth\"\n",
        "checkpoint = torch.load(saved_model_path, map_location=device)\n",
        "model_test_c.load_state_dict(checkpoint)\n",
        "model_test_c.eval()\n",
        "\n",
        "all_preds, test_loss, test_acc, test_f1  = test(model=model_test_c,\n",
        "                                                dataloader=test_loader_c,\n",
        "                                                loss_fn=loss_fn_c,\n",
        "                                                device=device,\n",
        "                                                verbatim = True)"
      ],
      "metadata": {
        "id": "vpq5M3-TwJLQ",
        "outputId": "aff1d97a-0b24-4465-eac2-c290eb4f417d",
        "colab": {
          "base_uri": "https://localhost:8080/"
        }
      },
      "execution_count": 33,
      "outputs": [
        {
          "output_type": "stream",
          "name": "stderr",
          "text": [
            "<ipython-input-33-34ed78df1dd2>:5: FutureWarning: You are using `torch.load` with `weights_only=False` (the current default value), which uses the default pickle module implicitly. It is possible to construct malicious pickle data which will execute arbitrary code during unpickling (See https://github.com/pytorch/pytorch/blob/main/SECURITY.md#untrusted-models for more details). In a future release, the default value for `weights_only` will be flipped to `True`. This limits the functions that could be executed during unpickling. Arbitrary objects will no longer be allowed to be loaded via this mode unless they are explicitly allowlisted by the user via `torch.serialization.add_safe_globals`. We recommend you start setting `weights_only=True` for any use case where you don't have full control of the loaded file. Please open an issue on GitHub for any issues related to this experimental feature.\n",
            "  checkpoint = torch.load(saved_model_path, map_location=device)\n"
          ]
        },
        {
          "output_type": "stream",
          "name": "stdout",
          "text": [
            "Loss = 0.8884, F1-score = 0.8137, Accuracy = 0.8140\n"
          ]
        }
      ]
    }
  ],
  "metadata": {
    "colab": {
      "provenance": [],
      "gpuType": "T4",
      "collapsed_sections": [
        "j_72JjR4D144",
        "7Jhbkz1QDpUj"
      ]
    },
    "kernelspec": {
      "display_name": "Python 3",
      "name": "python3"
    },
    "language_info": {
      "name": "python"
    },
    "accelerator": "GPU"
  },
  "nbformat": 4,
  "nbformat_minor": 0
}