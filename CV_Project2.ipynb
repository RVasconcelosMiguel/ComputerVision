{
  "nbformat": 4,
  "nbformat_minor": 0,
  "metadata": {
    "colab": {
      "provenance": [],
      "gpuType": "T4",
      "include_colab_link": true
    },
    "kernelspec": {
      "name": "python3",
      "display_name": "Python 3"
    },
    "language_info": {
      "name": "python"
    },
    "accelerator": "GPU"
  },
  "cells": [
    {
      "cell_type": "markdown",
      "metadata": {
        "id": "view-in-github",
        "colab_type": "text"
      },
      "source": [
        "<a href=\"https://colab.research.google.com/github/RVasconcelosMiguel/ComputerVision/blob/main/CV_Project2.ipynb\" target=\"_parent\"><img src=\"https://colab.research.google.com/assets/colab-badge.svg\" alt=\"Open In Colab\"/></a>"
      ]
    },
    {
      "cell_type": "code",
      "source": [
        "pip install tqdm"
      ],
      "metadata": {
        "id": "ohrqiqTYX0Rs",
        "outputId": "70eeb475-8753-478c-8789-013241bf42a6",
        "colab": {
          "base_uri": "https://localhost:8080/"
        }
      },
      "execution_count": 1,
      "outputs": [
        {
          "output_type": "stream",
          "name": "stdout",
          "text": [
            "Requirement already satisfied: tqdm in /usr/local/lib/python3.10/dist-packages (4.66.6)\n"
          ]
        }
      ]
    },
    {
      "cell_type": "code",
      "source": [
        "import cv2\n",
        "from google.colab.patches import cv2_imshow\n",
        "import matplotlib.pyplot as plt\n",
        "import numpy as np\n",
        "import random\n",
        "from tqdm import tqdm  # Importar tqdm\n",
        "\n",
        "import os\n",
        "import pandas as pd\n",
        "import json\n",
        "\n",
        "import torch\n",
        "import torch.nn as nn\n",
        "import torch.nn.functional as F\n",
        "import torch.utils.data as data\n",
        "from torch.autograd import Variable\n",
        "from torch.optim import Adam, SGD, NAdam\n",
        "import torch.optim as optim\n",
        "import torch.optim.lr_scheduler as lr_scheduler\n",
        "\n",
        "\n",
        "import torchvision\n",
        "from torchvision import models, transforms\n",
        "from torchvision.io import read_image\n",
        "\n",
        "from torchsummary import summary\n",
        "\n",
        "from sklearn.model_selection import train_test_split\n",
        "from sklearn.preprocessing import LabelEncoder, label_binarize\n",
        "from sklearn.utils.class_weight import compute_class_weight\n",
        "from sklearn.metrics import confusion_matrix, ConfusionMatrixDisplay\n",
        "\n",
        "from PIL import Image\n",
        "import zipfile"
      ],
      "metadata": {
        "id": "uEQHgJJ0X5YS"
      },
      "execution_count": 2,
      "outputs": []
    },
    {
      "cell_type": "code",
      "execution_count": 3,
      "metadata": {
        "id": "egEVyeavSsNL",
        "outputId": "b7d95811-a5e2-42b7-8433-d9fe6cf88175",
        "colab": {
          "base_uri": "https://localhost:8080/"
        }
      },
      "outputs": [
        {
          "output_type": "stream",
          "name": "stdout",
          "text": [
            "The model will be running on cuda:0 device\n"
          ]
        }
      ],
      "source": [
        "device = torch.device(\"cuda:0\" if torch.cuda.is_available() else \"cpu\")\n",
        "print(\"The model will be running on\", device, \"device\")"
      ]
    },
    {
      "cell_type": "code",
      "source": [
        "import zipfile\n",
        "\n",
        "#Limpa arquivos existentes do sistema antes de iniciar as operações.\n",
        "!rm -f -r \"images\"\n",
        "!rm -f \"module_metadada.json\"\n",
        "\n",
        "#Definição de caminhos\n",
        "download_path = \"/content/InfraredSolarModules/\"\n",
        "download_path_file = \"/content/InfraredSolarModules/2020-02-14_InfraredSolarModules.zip\"\n",
        "zip_path = \"/content/2020-02-14_InfraredSolarModules.zip\"\n",
        "extract_path = \"/content\"\n",
        "\n",
        "# Clonar o repositorio e fazer unzip\n",
        "!git clone https://github.com/RaptorMaps/InfraredSolarModules.git $download_path\n",
        "!mv $download_path_file $extract_path\n",
        "!unzip -uq $zip_path -d $extract_path\n",
        "\n",
        "# Imagens\n",
        "image_folder_path = \"/content/InfraredSolarModules/images\"\n",
        "!mv $image_folder_path $extract_path\n",
        "\n",
        "# module_metadata.json\n",
        "metadata_file_path = \"/content/InfraredSolarModules/module_metadata.json\"\n",
        "!mv $metadata_file_path $extract_path\n",
        "\n",
        "#Remoção de arquivos desnecessários\n",
        "!rm -f $zip_path\n",
        "!rm -f -r $download_path\n",
        "!rm -r \"__MACOSX\""
      ],
      "metadata": {
        "id": "-LBuvOx_T7QK",
        "outputId": "196630b3-90e2-40b5-9c9f-3fce428066ed",
        "colab": {
          "base_uri": "https://localhost:8080/"
        }
      },
      "execution_count": 4,
      "outputs": [
        {
          "output_type": "stream",
          "name": "stdout",
          "text": [
            "Cloning into '/content/InfraredSolarModules'...\n",
            "remote: Enumerating objects: 24, done.\u001b[K\n",
            "remote: Counting objects: 100% (24/24), done.\u001b[K\n",
            "remote: Compressing objects: 100% (17/17), done.\u001b[K\n",
            "remote: Total 24 (delta 10), reused 12 (delta 5), pack-reused 0 (from 0)\u001b[K\n",
            "Receiving objects: 100% (24/24), 5.49 MiB | 8.46 MiB/s, done.\n",
            "Resolving deltas: 100% (10/10), done.\n"
          ]
        }
      ]
    },
    {
      "cell_type": "code",
      "source": [
        "classes_a = (\"anomaly\", \"no-anomaly\")\n",
        "classes_b=(\"cell\",\"cell-multi\",\"cracking\",\"hotspot\",\"hot-spot-multi\",\"shadowing\",\"diode\",\"diode-multi\",\"vegetation\",\"soiling\",\"offlinemodule\")\n",
        "classes_c=(\"cell\",\"cell-multi\",\"cracking\",\"hotspot\",\"hot-spot-multi\",\"shadowing\",\"diode\",\"diode-multi\",\"vegetation\",\"soiling\",\"offlinemodule\",\"no-anomaly\")\n",
        "\n",
        "\n",
        "metadata_path = '/content/module_metadata.json'\n",
        "with open(metadata_path, 'r') as f:\n",
        "    metadata = json.load(f)\n",
        "\n",
        "metadata_df_a = pd.DataFrame.from_dict(metadata, orient='index')\n",
        "metadata_df_b = pd.DataFrame.from_dict(metadata, orient='index')\n",
        "metadata_df_c = pd.DataFrame.from_dict(metadata, orient='index')\n",
        "\n",
        "metadata_df_a['anomaly_class'] = metadata_df_a['anomaly_class'].apply(lambda x: 'Anomaly' if x != 'No-Anomaly' else 'No-Anomaly')\n",
        "metadata_df_b = metadata_df_b[metadata_df_b[\"anomaly_class\"] != \"No-Anomaly\"]\n",
        "\n",
        "print(\"---------a) dataframe------------\")\n",
        "print(\"\\n Data \\n\",metadata_df_a.tail(10))\n",
        "print(\"\\n Data size :\",metadata_df_a.shape[0])\n",
        "print(\"\\n\")\n",
        "\n",
        "print(\"---------b) dataframe------------\")\n",
        "print(\"\\n Data \\n\",metadata_df_b.tail(10))\n",
        "print(\"\\n Data size :\",metadata_df_b.shape[0])\n",
        "print(\"\\n\")\n",
        "\n",
        "print(\"---------c) dataframe------------\")\n",
        "print(\"\\n Data \\n\",metadata_df_c.tail(10))\n",
        "print(\"\\n Data size :\",metadata_df_c.shape[0])\n",
        "print(\"\\n\")"
      ],
      "metadata": {
        "id": "zxdPk4GBYWLT",
        "outputId": "afccff75-3a63-4b45-ebf6-2bea348a6d45",
        "colab": {
          "base_uri": "https://localhost:8080/"
        }
      },
      "execution_count": 5,
      "outputs": [
        {
          "output_type": "stream",
          "name": "stdout",
          "text": [
            "---------a) dataframe------------\n",
            "\n",
            " Data \n",
            "          image_filepath anomaly_class\n",
            "8483    images/8483.jpg       Anomaly\n",
            "8484    images/8484.jpg       Anomaly\n",
            "8485    images/8485.jpg       Anomaly\n",
            "8486    images/8486.jpg       Anomaly\n",
            "8487    images/8487.jpg       Anomaly\n",
            "8488    images/8488.jpg       Anomaly\n",
            "8489    images/8489.jpg       Anomaly\n",
            "7464    images/7464.jpg       Anomaly\n",
            "18065  images/18065.jpg    No-Anomaly\n",
            "13354  images/13354.jpg    No-Anomaly\n",
            "\n",
            " Data size : 20000\n",
            "\n",
            "\n",
            "---------b) dataframe------------\n",
            "\n",
            " Data \n",
            "        image_filepath anomaly_class\n",
            "8481  images/8481.jpg    Vegetation\n",
            "8482  images/8482.jpg    Vegetation\n",
            "8483  images/8483.jpg    Vegetation\n",
            "8484  images/8484.jpg    Vegetation\n",
            "8485  images/8485.jpg    Vegetation\n",
            "8486  images/8486.jpg    Vegetation\n",
            "8487  images/8487.jpg    Vegetation\n",
            "8488  images/8488.jpg    Vegetation\n",
            "8489  images/8489.jpg    Vegetation\n",
            "7464  images/7464.jpg      Cracking\n",
            "\n",
            " Data size : 10000\n",
            "\n",
            "\n",
            "---------c) dataframe------------\n",
            "\n",
            " Data \n",
            "          image_filepath anomaly_class\n",
            "8483    images/8483.jpg    Vegetation\n",
            "8484    images/8484.jpg    Vegetation\n",
            "8485    images/8485.jpg    Vegetation\n",
            "8486    images/8486.jpg    Vegetation\n",
            "8487    images/8487.jpg    Vegetation\n",
            "8488    images/8488.jpg    Vegetation\n",
            "8489    images/8489.jpg    Vegetation\n",
            "7464    images/7464.jpg      Cracking\n",
            "18065  images/18065.jpg    No-Anomaly\n",
            "13354  images/13354.jpg    No-Anomaly\n",
            "\n",
            " Data size : 20000\n",
            "\n",
            "\n"
          ]
        }
      ]
    },
    {
      "cell_type": "code",
      "source": [
        "#NO-Anomaly=0 Anomalia=1\n",
        "metadata_df_a['anomaly_class'] = metadata_df_a['anomaly_class'].apply(lambda x: 1 if x != 'No-Anomaly' else 0)# as anomalias ficam todas Anomaly\n",
        "print(\"*************** Alinea a dataframe ***************\")\n",
        "print(\"\\n Dados \\n\",metadata_df_a.head(20)) # Verificar as primeiras linhas\n",
        "print(\"\\n numero de linhas :\",metadata_df_a.shape[0])\n",
        "print(\"\\n\")\n",
        "\n",
        "metadata_df_b['anomaly_class'] = metadata_df_b['anomaly_class'].apply(\n",
        "    lambda x: 0 if x == 'Cell'\n",
        "              else 1 if x == 'Cell-Multi'\n",
        "              else 2 if x == 'Cracking'\n",
        "              else 3 if x == 'Hot-Spot'\n",
        "              else 4 if x == 'Hot-Spot-Multi'\n",
        "              else 5 if x == 'Shadowing'\n",
        "              else 6 if x == 'Diode'\n",
        "              else 7 if x == 'Diode-Multi'\n",
        "              else 8 if x == 'Vegetation'\n",
        "              else 9 if x == 'Soiling'\n",
        "              else 10 if x == 'Offline-Module'\n",
        "              else 11\n",
        ")\n",
        "print(\"*************** Alinea b dataframe ***************\")\n",
        "print(\"\\n Dados \\n\",metadata_df_b.head(20)) # Verificar as primeiras linhas\n",
        "print(\"\\n numero de linhas :\",metadata_df_b.shape[0])\n",
        "print(\"\\n\")\n",
        "\n",
        "metadata_df_c['anomaly_class'] = metadata_df_c['anomaly_class'].apply(\n",
        "    lambda x: 0 if x == 'Cell'\n",
        "              else 1 if x == 'Cell-Multi'\n",
        "              else 2 if x == 'Cracking'\n",
        "              else 3 if x == 'Hot-Spot'\n",
        "              else 4 if x == 'Hot-Spot-Multi'\n",
        "              else 5 if x == 'Shadowing'\n",
        "              else 6 if x == 'Diode'\n",
        "              else 7 if x == 'Diode-Multi'\n",
        "              else 8 if x == 'Vegetation'\n",
        "              else 9 if x == 'Soiling'\n",
        "              else 10 if x == 'Offline-Module'\n",
        "              else 11 if x == 'No-Anomaly'\n",
        "              else 12\n",
        ")\n",
        "print(\"*************** Alinea c dataframe ***************\")\n",
        "print(\"\\n Dados \\n\",metadata_df_c.head(20)) # Verificar as primeiras linhas\n",
        "print(\"\\n numero de linhas :\",metadata_df_c.shape[0])\n",
        "print(\"\\n\")"
      ],
      "metadata": {
        "id": "WHXIFVCofZMJ",
        "outputId": "9ed42c1d-a1a3-487e-8d4b-29371c24d273",
        "colab": {
          "base_uri": "https://localhost:8080/"
        }
      },
      "execution_count": 6,
      "outputs": [
        {
          "output_type": "stream",
          "name": "stdout",
          "text": [
            "*************** Alinea a dataframe ***************\n",
            "\n",
            " Dados \n",
            "          image_filepath  anomaly_class\n",
            "13357  images/13357.jpg              0\n",
            "13356  images/13356.jpg              0\n",
            "19719  images/19719.jpg              0\n",
            "11542  images/11542.jpg              0\n",
            "11543  images/11543.jpg              0\n",
            "11540  images/11540.jpg              0\n",
            "11541  images/11541.jpg              0\n",
            "11546  images/11546.jpg              0\n",
            "11547  images/11547.jpg              0\n",
            "11544  images/11544.jpg              0\n",
            "11545  images/11545.jpg              0\n",
            "14545  images/14545.jpg              0\n",
            "11548  images/11548.jpg              0\n",
            "11549  images/11549.jpg              0\n",
            "16426  images/16426.jpg              0\n",
            "19927  images/19927.jpg              0\n",
            "5988    images/5988.jpg              1\n",
            "5989    images/5989.jpg              1\n",
            "19399  images/19399.jpg              0\n",
            "19398  images/19398.jpg              0\n",
            "\n",
            " numero de linhas : 20000\n",
            "\n",
            "\n",
            "*************** Alinea b dataframe ***************\n",
            "\n",
            " Dados \n",
            "        image_filepath  anomaly_class\n",
            "5988  images/5988.jpg              0\n",
            "5989  images/5989.jpg              0\n",
            "5982  images/5982.jpg              0\n",
            "5983  images/5983.jpg              0\n",
            "5980  images/5980.jpg              0\n",
            "5981  images/5981.jpg              0\n",
            "5986  images/5986.jpg              0\n",
            "5987  images/5987.jpg              0\n",
            "5984  images/5984.jpg              0\n",
            "5985  images/5985.jpg              0\n",
            "6796  images/6796.jpg              3\n",
            "6797  images/6797.jpg              3\n",
            "6794  images/6794.jpg              3\n",
            "6795  images/6795.jpg              3\n",
            "6792  images/6792.jpg              3\n",
            "6793  images/6793.jpg              3\n",
            "6790  images/6790.jpg              3\n",
            "6791  images/6791.jpg              3\n",
            "6798  images/6798.jpg              3\n",
            "6799  images/6799.jpg              3\n",
            "\n",
            " numero de linhas : 10000\n",
            "\n",
            "\n",
            "*************** Alinea c dataframe ***************\n",
            "\n",
            " Dados \n",
            "          image_filepath  anomaly_class\n",
            "13357  images/13357.jpg             11\n",
            "13356  images/13356.jpg             11\n",
            "19719  images/19719.jpg             11\n",
            "11542  images/11542.jpg             11\n",
            "11543  images/11543.jpg             11\n",
            "11540  images/11540.jpg             11\n",
            "11541  images/11541.jpg             11\n",
            "11546  images/11546.jpg             11\n",
            "11547  images/11547.jpg             11\n",
            "11544  images/11544.jpg             11\n",
            "11545  images/11545.jpg             11\n",
            "14545  images/14545.jpg             11\n",
            "11548  images/11548.jpg             11\n",
            "11549  images/11549.jpg             11\n",
            "16426  images/16426.jpg             11\n",
            "19927  images/19927.jpg             11\n",
            "5988    images/5988.jpg              0\n",
            "5989    images/5989.jpg              0\n",
            "19399  images/19399.jpg             11\n",
            "19398  images/19398.jpg             11\n",
            "\n",
            " numero de linhas : 20000\n",
            "\n",
            "\n"
          ]
        },
        {
          "output_type": "stream",
          "name": "stderr",
          "text": [
            "<ipython-input-6-52b512ad38d7>:8: SettingWithCopyWarning: \n",
            "A value is trying to be set on a copy of a slice from a DataFrame.\n",
            "Try using .loc[row_indexer,col_indexer] = value instead\n",
            "\n",
            "See the caveats in the documentation: https://pandas.pydata.org/pandas-docs/stable/user_guide/indexing.html#returning-a-view-versus-a-copy\n",
            "  metadata_df_b['anomaly_class'] = metadata_df_b['anomaly_class'].apply(\n"
          ]
        }
      ]
    },
    {
      "cell_type": "code",
      "source": [
        "train_data, test_data=train_test_split(metadata_df_a, test_size=0.15,train_size=0.85, random_state=2, stratify=metadata_df_a[\"anomaly_class\"])\n",
        "train_data.reset_index(drop=True, inplace=True)\n",
        "test_data.reset_index(drop=True, inplace=True)"
      ],
      "metadata": {
        "id": "-goSwgbJeQCo"
      },
      "execution_count": 7,
      "outputs": []
    },
    {
      "cell_type": "markdown",
      "source": [
        "ESTÁ IGUAL AO DO VITOR TEMOS QUE MUDAR DAQUI PARA BAIXO"
      ],
      "metadata": {
        "id": "Vm84vaMxsSJe"
      }
    },
    {
      "cell_type": "code",
      "source": [
        "class MyImageDataset(data.Dataset):\n",
        "    def __init__(self, metadata, transform=None):\n",
        "        self.img_labels = metadata[\"anomaly_class\"].values\n",
        "        self.img_paths = metadata[\"image_filepath\"].values\n",
        "        self.transform = transform\n",
        "\n",
        "    def __len__(self):\n",
        "        return len(self.img_labels)\n",
        "\n",
        "    def __getitem__(self, idx):#posteriormente o dataloader vai passar por todos os idx\n",
        "        img_path = self.img_paths[idx]\n",
        "        image = Image.open(img_path).convert(\"L\") # Abrir a imagem como RGB\n",
        "        label = self.img_labels[idx]\n",
        "\n",
        "        if self.transform:\n",
        "            image = self.transform(image)\n",
        "\n",
        "        return image, torch.tensor(label, dtype=torch.long)\n"
      ],
      "metadata": {
        "id": "gO93n3hZk68-"
      },
      "execution_count": 8,
      "outputs": []
    },
    {
      "cell_type": "code",
      "source": [
        "# Transformações\n",
        "transform = transforms.Compose([\n",
        "\n",
        "    transforms.ToTensor(),  # Converte para tensor\n",
        "    transforms.Normalize(mean=[0.5], std=[0.5])  # Normaliza\n",
        "])\n",
        "\n",
        "# Datasets\n",
        "train_dataset = MyImageDataset(metadata=train_data, transform=transform)\n",
        "test_dataset = MyImageDataset(metadata=test_data, transform=transform)\n",
        "\n",
        "# DataLoaders\n",
        "batch_size = 32\n",
        "train_loader = data.DataLoader(dataset=train_dataset, batch_size=batch_size, shuffle=True)\n",
        "test_loader = data.DataLoader(dataset=test_dataset, batch_size=batch_size, shuffle=False)\n",
        "\n"
      ],
      "metadata": {
        "id": "98SQjeJzmxZ1"
      },
      "execution_count": 9,
      "outputs": []
    },
    {
      "cell_type": "code",
      "source": [
        "# Obtém um batch de imagens, seus rótulos e os caminhos\n",
        "images, labels = next(iter(train_loader))  # Pega o primeiro batch\n",
        "\n",
        "# Desfazendo a normalização para as imagens\n",
        "images = images * 0.5 + 0.5  # Inverte a normalização, para voltar ao intervalo [0, 1]\n",
        "\n",
        "# Cria uma figura com múltiplos subplots\n",
        "fig, axes = plt.subplots(4, 8, figsize=(20, 10))  # 4 linhas e 8 colunas\n",
        "axes = axes.flatten()  # Para facilitar o acesso aos eixos (axes)\n",
        "\n",
        "# Loop para exibir as 32 primeiras imagens do batch\n",
        "for i in range(len(images)):\n",
        "    image = images[i]  # Pega a i-ésima imagem do batch\n",
        "    image_pil = transforms.ToPILImage()(image)  # Converte o tensor para uma imagem PIL\n",
        "\n",
        "    # Exibe a imagem\n",
        "    axes[i].imshow(image_pil)\n",
        "    axes[i].set_title(f\"Label: {labels[i].item()}\")  # Exibe o rótulo e o caminho do arquivo\n",
        "    axes[i].axis('off')  # Remove os eixos para uma exibição mais limpa\n",
        "\n",
        "plt.tight_layout()  # Ajusta o layout para que as imagens não se sobreponham\n",
        "plt.show()\n",
        "\n",
        "\n",
        "\n",
        "\n",
        "\n"
      ],
      "metadata": {
        "id": "XRxSS22joz2D",
        "outputId": "ff48810c-4e1e-480f-88ae-94bba5f4a037",
        "colab": {
          "base_uri": "https://localhost:8080/",
          "height": 761
        }
      },
      "execution_count": 10,
      "outputs": [
        {
          "output_type": "display_data",
          "data": {
            "text/plain": [
              "<Figure size 2000x1000 with 32 Axes>"
            ],
            "image/png": "[encoded data removed]"
          },
          "metadata": {}
        }
      ]
    },
    {
      "cell_type": "code",
      "source": [
        "#Mesmo da prática\n",
        "class Network(nn.Module):\n",
        "    def __init__(self):\n",
        "        super().__init__()\n",
        "\n",
        "        # Camadas convolucionais e de pooling\n",
        "        self.conv1 = nn.Conv2d(1, 64, 5)  # Tem de ser assim o 1 e\n",
        "        self.bn1 = nn.BatchNorm2d(64)\n",
        "        self.conv2 = nn.Conv2d(64, 128, 3)  # Tamanho esperado: [128, 18, 34] (kernel 3x3)\n",
        "        self.bn2 = nn.BatchNorm2d(128)\n",
        "        self.pool1 = nn.MaxPool2d(2, 2)  # Tamanho esperado após pool1: [128, 9, 17] (redução pelo max pool)\n",
        "        self.conv3 = nn.Conv2d(128, 256, 3)  # Tamanho esperado: [256, 7, 15] (kernel 3x3)\n",
        "        self.bn3 = nn.BatchNorm2d(256)\n",
        "        self.conv4 = nn.Conv2d(256, 512, 3)  # Tamanho esperado: [512, 5, 13] (kernel 3x3)\n",
        "        self.bn4 = nn.BatchNorm2d(512)\n",
        "        self.pool2 = nn.MaxPool2d(2, 2)  # Tamanho esperado após pool2: [512, 2, 6] (redução pelo max pool)\n",
        "\n",
        "        # Calculando a entrada correta para a camada fully connected (Linear)\n",
        "        self.fc1 = nn.Linear(512 * 2 * 6, 1024)  # O valor de 512*2*6 vem das dimensões finais após a convolução\n",
        "        self.dropout1 = nn.Dropout(0.5)\n",
        "        self.fc2 = nn.Linear(1024, 512)\n",
        "        self.dropout2 = nn.Dropout(0.5)\n",
        "        self.fc3 = nn.Linear(512, 256)\n",
        "        self.dropout3 = nn.Dropout(0.5)\n",
        "        self.fc4 = nn.Linear(256, 2)  # 2 saidas , deixar o 2 pq sao apenas duas saidas mas nos restantes é 11 e 12\n",
        "\n",
        "    def forward(self, x):\n",
        "        # Passa pela primeira camada convolucional, ReLU, e pooling\n",
        "        x = F.relu(self.bn1(self.conv1(x)))\n",
        "        x = self.pool1(F.relu(self.bn2(self.conv2(x))))\n",
        "\n",
        "        # Passa pela segunda camada convolucional, ReLU e pooling\n",
        "        x = F.relu(self.bn3(self.conv3(x)))\n",
        "        x = self.pool2(F.relu(self.bn4(self.conv4(x))))\n",
        "\n",
        "\n",
        "        # Achata a saída para a camada Linear\n",
        "        x = torch.flatten(x, 1)  # Achata para [batch_size, 512*2*6]\n",
        "\n",
        "        # Passa pelas camadas Fully Connected e Dropout\n",
        "        x = F.relu(self.fc1(x))\n",
        "        x = self.dropout1(x)\n",
        "        x = F.relu(self.fc2(x))\n",
        "        x = self.dropout2(x)\n",
        "        x = F.relu(self.fc3(x))\n",
        "        x = self.dropout3(x)\n",
        "        x = self.fc4(x)\n",
        "\n",
        "        return x\n",
        "model = Network()\n",
        "# Define the loss function\n",
        "loss_fn = nn.CrossEntropyLoss().to(device)\n",
        "\n",
        "# Define the optimizer\n",
        "optimizer = SGD(model.parameters(), lr=0.005, momentum=0.9)"
      ],
      "metadata": {
        "id": "GxFwtr7jD7F6"
      },
      "execution_count": 11,
      "outputs": []
    },
    {
      "cell_type": "code",
      "source": [
        "from torch.autograd import Variable\n",
        "\n",
        "# Function to save the model\n",
        "def saveModel(model:nn.Module, path):\n",
        "    torch.save(model.state_dict(), path)\n",
        "\n",
        "# Training function. We simply have to loop over our data iterator and feed the inputs to the network and optimize.\n",
        "def train(model: torch.nn.Module,\n",
        "          dataloader: torch.utils.data.DataLoader,\n",
        "          loss_fn: torch.nn.Module,\n",
        "          optimizer: torch.optim.Optimizer,\n",
        "          device: torch.device,\n",
        "          num_epochs,\n",
        "          path_model,\n",
        "          verbatim):\n",
        "    model.train()\n",
        "    model.to(device)\n",
        "    best_accuracy = 0.0\n",
        "    best_loss = 0.0\n",
        "    best_epoch = 0\n",
        "    for epoch in tqdm(range(num_epochs), desc=\"Epochs\", unit=\"epoch\"):  # Adicionando a barra de progresso para os epochs\n",
        "\n",
        "        train_acc = 0.0\n",
        "        train_loss = 0.0\n",
        "        for ibatch, (images, labels) in enumerate(dataloader):  # Adicionando a barra de progresso para os batches\n",
        "\n",
        "            # get the inputs\n",
        "            images = images.to(device)\n",
        "            labels = labels.to(device)\n",
        "\n",
        "            # 1. Forward pass\n",
        "            y_pred = model(images)\n",
        "            y_pred = y_pred.squeeze(dim=1)\n",
        "\n",
        "            # 2. Calculate  and accumulate loss\n",
        "            loss = loss_fn(y_pred, labels)\n",
        "            train_loss += loss.item()\n",
        "\n",
        "            # 3. Optimizer zero grad\n",
        "            optimizer.zero_grad()\n",
        "\n",
        "            # 4. Loss backward\n",
        "            loss.backward()\n",
        "\n",
        "            # 5. Optimizer step\n",
        "            optimizer.step()\n",
        "\n",
        "            # Calculate and accumulate accuracy metric across all batches\n",
        "            y_pred_class = torch.argmax(torch.softmax(y_pred, dim=1), dim=1)\n",
        "            train_acc += (y_pred_class == labels).sum().item()/len(y_pred)\n",
        "\n",
        "        # Adjust metrics to get average loss and accuracy per batch\n",
        "        train_loss = train_loss / len(dataloader)\n",
        "        train_acc = train_acc / len(dataloader)\n",
        "\n",
        "        # we want to save the model if the accuracy is the best\n",
        "\n",
        "\n",
        "        if train_acc > best_accuracy:\n",
        "            path = str(path_model)\n",
        "            saveModel(model, path = path)\n",
        "            best_loss = train_loss\n",
        "            best_accuracy = train_acc\n",
        "            best_epoch = epoch\n",
        "            if verbatim:\n",
        "              print('Best Epoch #', epoch,' Loss=', best_loss, \" Accu=\", best_accuracy )\n",
        "\n",
        "    return best_loss, best_accuracy, best_epoch"
      ],
      "metadata": {
        "id": "WhRdO4LFD8Gn"
      },
      "execution_count": 12,
      "outputs": []
    },
    {
      "cell_type": "code",
      "source": [
        "# Function to test the model with the test dataset and print the accuracy for the test images\n",
        "def test(model: torch.nn.Module,\n",
        "         dataloader: torch.utils.data.DataLoader,\n",
        "         loss_fn: torch.nn.Module,\n",
        "         device: torch.device,\n",
        "         verbatim = True):\n",
        "\n",
        "    # Put model in eval mode\n",
        "    model.eval()\n",
        "    model.to(device)\n",
        "    # Setup test loss and test accuracy values\n",
        "    test_loss, test_acc = 0, 0\n",
        "    pred_labels = []\n",
        "    with torch.no_grad():\n",
        "        for data in dataloader:\n",
        "\n",
        "            # get the inputs\n",
        "            images, labels = data\n",
        "            images = Variable(images.to(device))\n",
        "            labels = Variable(labels.to(device))\n",
        "\n",
        "            # 1. run the model on the test set to predict labels\n",
        "            y_pred = model(images)\n",
        "\n",
        "            # 2. Calculate and accumulate loss\n",
        "            loss = loss_fn(y_pred, labels)\n",
        "            test_loss += loss.item()\n",
        "\n",
        "            # 3. Calculate and accumulate accuracy\n",
        "            y_pred_class = torch.argmax(torch.softmax(y_pred, dim=1), dim=1)\n",
        "            test_acc += (y_pred_class == labels).sum().item()/len(y_pred)\n",
        "            pred_labels = y_pred_class.tolist()\n",
        "\n",
        "    # Adjust metrics to get average loss and accuracy per batch\n",
        "    test_loss = test_loss / len(dataloader)\n",
        "    test_acc = test_acc / len(dataloader)\n",
        "\n",
        "    if verbatim:\n",
        "      print(\"Loss =\", test_loss, \"  Accuracy=\", test_acc)\n",
        "    return pred_labels, test_loss, test_acc\n"
      ],
      "metadata": {
        "id": "fND9HZXCD_Zg"
      },
      "execution_count": 13,
      "outputs": []
    },
    {
      "cell_type": "code",
      "source": [
        "if __name__ == \"__main__\":\n",
        "\n",
        "    model = model.to(device)\n",
        "\n",
        "    # Build our model\n",
        "    best_loss, best_accuracy, best_epoch = train(model=model,\n",
        "                                                    dataloader=train_loader,\n",
        "                                                    loss_fn=loss_fn,\n",
        "                                                    optimizer=optimizer,\n",
        "                                                    device=device,\n",
        "                                                    num_epochs = 20,\n",
        "                                                    path_model = str(\"./myModel_best_A.pth\"),\n",
        "                                                    verbatim = True)"
      ],
      "metadata": {
        "id": "gH7kTp85ECwL",
        "colab": {
          "base_uri": "https://localhost:8080/"
        },
        "outputId": "128e14c9-824d-46ef-fd0f-42987d619fca"
      },
      "execution_count": 14,
      "outputs": [
        {
          "output_type": "stream",
          "name": "stderr",
          "text": [
            "Epochs:   5%|▌         | 1/20 [00:30<09:39, 30.51s/epoch]"
          ]
        },
        {
          "output_type": "stream",
          "name": "stdout",
          "text": [
            "Best Epoch # 0  Loss= 0.5162723805839405  Accu= 0.7410126879699248\n"
          ]
        },
        {
          "output_type": "stream",
          "name": "stderr",
          "text": [
            "\rEpochs:  10%|█         | 2/20 [00:43<06:08, 20.48s/epoch]"
          ]
        },
        {
          "output_type": "stream",
          "name": "stdout",
          "text": [
            "Best Epoch # 1  Loss= 0.4005613546062233  Accu= 0.8243656015037594\n"
          ]
        },
        {
          "output_type": "stream",
          "name": "stderr",
          "text": [
            "\rEpochs:  15%|█▌        | 3/20 [00:57<04:54, 17.33s/epoch]"
          ]
        },
        {
          "output_type": "stream",
          "name": "stdout",
          "text": [
            "Best Epoch # 2  Loss= 0.3525206109971032  Accu= 0.8526785714285714\n"
          ]
        },
        {
          "output_type": "stream",
          "name": "stderr",
          "text": [
            "\rEpochs:  20%|██        | 4/20 [01:11<04:14, 15.90s/epoch]"
          ]
        },
        {
          "output_type": "stream",
          "name": "stdout",
          "text": [
            "Best Epoch # 3  Loss= 0.3226784320786259  Accu= 0.8668937969924813\n"
          ]
        },
        {
          "output_type": "stream",
          "name": "stderr",
          "text": [
            "\rEpochs:  25%|██▌       | 5/20 [01:25<03:47, 15.14s/epoch]"
          ]
        },
        {
          "output_type": "stream",
          "name": "stdout",
          "text": [
            "Best Epoch # 4  Loss= 0.29807256150962713  Accu= 0.8772321428571429\n"
          ]
        },
        {
          "output_type": "stream",
          "name": "stderr",
          "text": [
            "\rEpochs:  30%|███       | 6/20 [01:38<03:24, 14.58s/epoch]"
          ]
        },
        {
          "output_type": "stream",
          "name": "stdout",
          "text": [
            "Best Epoch # 5  Loss= 0.28363390084832235  Accu= 0.8887453007518797\n"
          ]
        },
        {
          "output_type": "stream",
          "name": "stderr",
          "text": [
            "\rEpochs:  35%|███▌      | 7/20 [01:52<03:05, 14.23s/epoch]"
          ]
        },
        {
          "output_type": "stream",
          "name": "stdout",
          "text": [
            "Best Epoch # 6  Loss= 0.26540582122883405  Accu= 0.8939144736842105\n"
          ]
        },
        {
          "output_type": "stream",
          "name": "stderr",
          "text": [
            "\rEpochs:  40%|████      | 8/20 [02:06<02:53, 14.42s/epoch]"
          ]
        },
        {
          "output_type": "stream",
          "name": "stdout",
          "text": [
            "Best Epoch # 7  Loss= 0.24771165076111043  Accu= 0.9017857142857143\n"
          ]
        },
        {
          "output_type": "stream",
          "name": "stderr",
          "text": [
            "\rEpochs:  45%|████▌     | 9/20 [02:20<02:35, 14.16s/epoch]"
          ]
        },
        {
          "output_type": "stream",
          "name": "stdout",
          "text": [
            "Best Epoch # 8  Loss= 0.2364409329103572  Accu= 0.9098331766917294\n"
          ]
        },
        {
          "output_type": "stream",
          "name": "stderr",
          "text": [
            "Epochs:  55%|█████▌    | 11/20 [02:47<02:04, 13.79s/epoch]"
          ]
        },
        {
          "output_type": "stream",
          "name": "stdout",
          "text": [
            "Best Epoch # 10  Loss= 0.21506243998086766  Accu= 0.9156484962406015\n"
          ]
        },
        {
          "output_type": "stream",
          "name": "stderr",
          "text": [
            "\rEpochs:  60%|██████    | 12/20 [03:00<01:49, 13.72s/epoch]"
          ]
        },
        {
          "output_type": "stream",
          "name": "stdout",
          "text": [
            "Best Epoch # 11  Loss= 0.1976990061567018  Accu= 0.9251057330827067\n"
          ]
        },
        {
          "output_type": "stream",
          "name": "stderr",
          "text": [
            "\rEpochs:  65%|██████▌   | 13/20 [03:14<01:35, 13.68s/epoch]"
          ]
        },
        {
          "output_type": "stream",
          "name": "stdout",
          "text": [
            "Best Epoch # 12  Loss= 0.19052364041370556  Accu= 0.9271616541353384\n"
          ]
        },
        {
          "output_type": "stream",
          "name": "stderr",
          "text": [
            "Epochs:  75%|███████▌  | 15/20 [03:41<01:07, 13.57s/epoch]"
          ]
        },
        {
          "output_type": "stream",
          "name": "stdout",
          "text": [
            "Best Epoch # 14  Loss= 0.17405505722766756  Accu= 0.9330944548872181\n"
          ]
        },
        {
          "output_type": "stream",
          "name": "stderr",
          "text": [
            "\rEpochs:  80%|████████  | 16/20 [03:54<00:54, 13.53s/epoch]"
          ]
        },
        {
          "output_type": "stream",
          "name": "stdout",
          "text": [
            "Best Epoch # 15  Loss= 0.15939029775335825  Accu= 0.9384985902255639\n"
          ]
        },
        {
          "output_type": "stream",
          "name": "stderr",
          "text": [
            "\rEpochs:  85%|████████▌ | 17/20 [04:08<00:40, 13.52s/epoch]"
          ]
        },
        {
          "output_type": "stream",
          "name": "stdout",
          "text": [
            "Best Epoch # 16  Loss= 0.15351444557379174  Accu= 0.9419055451127819\n"
          ]
        },
        {
          "output_type": "stream",
          "name": "stderr",
          "text": [
            "\rEpochs:  90%|█████████ | 18/20 [04:21<00:26, 13.45s/epoch]"
          ]
        },
        {
          "output_type": "stream",
          "name": "stdout",
          "text": [
            "Best Epoch # 17  Loss= 0.15558620422546351  Accu= 0.9429628759398496\n"
          ]
        },
        {
          "output_type": "stream",
          "name": "stderr",
          "text": [
            "\rEpochs:  95%|█████████▌| 19/20 [04:34<00:13, 13.41s/epoch]"
          ]
        },
        {
          "output_type": "stream",
          "name": "stdout",
          "text": [
            "Best Epoch # 18  Loss= 0.13818438247518433  Accu= 0.948484492481203\n"
          ]
        },
        {
          "output_type": "stream",
          "name": "stderr",
          "text": [
            "Epochs: 100%|██████████| 20/20 [04:48<00:00, 14.42s/epoch]"
          ]
        },
        {
          "output_type": "stream",
          "name": "stdout",
          "text": [
            "Best Epoch # 19  Loss= 0.13339887778239704  Accu= 0.9497767857142857\n"
          ]
        },
        {
          "output_type": "stream",
          "name": "stderr",
          "text": [
            "\n"
          ]
        }
      ]
    },
    {
      "cell_type": "code",
      "source": [
        "y_pred, test_loss, test_acc  = test(model=model,\n",
        "                                    dataloader=test_loader,\n",
        "                                    loss_fn=loss_fn,\n",
        "                                    device=device,\n",
        "                                    verbatim = True)"
      ],
      "metadata": {
        "colab": {
          "base_uri": "https://localhost:8080/"
        },
        "id": "kGUVkp5vIwQ7",
        "outputId": "f10290ab-eacd-43cd-df45-fe86fe0f593a"
      },
      "execution_count": 15,
      "outputs": [
        {
          "output_type": "stream",
          "name": "stdout",
          "text": [
            "Loss = 0.2571817261582993   Accuracy= 0.9215425531914894\n"
          ]
        }
      ]
    }
  ]
}