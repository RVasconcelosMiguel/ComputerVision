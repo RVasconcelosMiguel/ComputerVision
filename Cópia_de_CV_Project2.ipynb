{
  "cells": [
    {
      "cell_type": "markdown",
      "metadata": {
        "id": "view-in-github",
        "colab_type": "text"
      },
      "source": [
        "<a href=\"https://colab.research.google.com/github/RVasconcelosMiguel/ComputerVision/blob/main/C%C3%B3pia_de_CV_Project2.ipynb\" target=\"_parent\"><img src=\"https://colab.research.google.com/assets/colab-badge.svg\" alt=\"Open In Colab\"/></a>"
      ]
    },
    {
      "cell_type": "code",
      "execution_count": 1,
      "metadata": {
        "colab": {
          "base_uri": "https://localhost:8080/"
        },
        "id": "ohrqiqTYX0Rs",
        "outputId": "bf899979-a11e-481b-ba23-59d77ab45e99"
      },
      "outputs": [
        {
          "output_type": "stream",
          "name": "stdout",
          "text": [
            "Requirement already satisfied: tqdm in /usr/local/lib/python3.10/dist-packages (4.66.6)\n"
          ]
        }
      ],
      "source": [
        "pip install tqdm"
      ]
    },
    {
      "cell_type": "code",
      "execution_count": 2,
      "metadata": {
        "id": "uEQHgJJ0X5YS"
      },
      "outputs": [],
      "source": [
        "import cv2\n",
        "from google.colab.patches import cv2_imshow\n",
        "import matplotlib.pyplot as plt\n",
        "import numpy as np\n",
        "import random\n",
        "from tqdm import tqdm  # Importar tqdm\n",
        "\n",
        "import os\n",
        "import pandas as pd\n",
        "import json\n",
        "\n",
        "import torch\n",
        "import torch.nn as nn\n",
        "import torch.nn.functional as F\n",
        "import torch.utils.data as data\n",
        "from torch.autograd import Variable\n",
        "from torch.optim import Adam, SGD, NAdam\n",
        "import torch.optim as optim\n",
        "import torch.optim.lr_scheduler as lr_scheduler\n",
        "\n",
        "\n",
        "import torchvision\n",
        "from torchvision import models, transforms\n",
        "from torchvision.io import read_image\n",
        "\n",
        "from torchsummary import summary\n",
        "\n",
        "import cv2\n",
        "from google.colab.patches import cv2_imshow\n",
        "import matplotlib.pyplot as plt\n",
        "import numpy as np\n",
        "import random\n",
        "from tqdm import tqdm  # Importar tqdm\n",
        "\n",
        "import os\n",
        "import pandas as pd\n",
        "import json\n",
        "\n",
        "import torch\n",
        "import torch.nn as nn\n",
        "import torch.nn.functional as F\n",
        "import torch.utils.data as data\n",
        "from torch.autograd import Variable\n",
        "from torch.optim import Adam, SGD, NAdam\n",
        "import torch.optim as optim\n",
        "import torch.optim.lr_scheduler as lr_scheduler\n",
        "\n",
        "\n",
        "import torchvision\n",
        "from torchvision import models, transforms\n",
        "from torchvision.io import read_image\n",
        "\n",
        "from torchsummary import summary\n",
        "\n",
        "from sklearn.model_selection import train_test_split\n",
        "from sklearn.preprocessing import LabelEncoder, label_binarize\n",
        "from sklearn.utils.class_weight import compute_class_weight\n",
        "from sklearn.metrics import confusion_matrix, ConfusionMatrixDisplay\n",
        "\n",
        "from PIL import Image\n",
        "import zipfile\n",
        "\n",
        "\n",
        "from PIL import Image\n",
        "import zipfile"
      ]
    },
    {
      "cell_type": "code",
      "execution_count": 3,
      "metadata": {
        "id": "egEVyeavSsNL",
        "colab": {
          "base_uri": "https://localhost:8080/"
        },
        "outputId": "1cd0eca8-19c8-4875-efa4-acd3effeaee9"
      },
      "outputs": [
        {
          "output_type": "stream",
          "name": "stdout",
          "text": [
            "The model will be running on cuda:0 device\n"
          ]
        }
      ],
      "source": [
        "device = torch.device(\"cuda:0\" if torch.cuda.is_available() else \"cpu\")\n",
        "print(\"The model will be running on\", device, \"device\")"
      ]
    },
    {
      "cell_type": "code",
      "execution_count": 4,
      "metadata": {
        "id": "-LBuvOx_T7QK",
        "colab": {
          "base_uri": "https://localhost:8080/"
        },
        "outputId": "49dc3e11-ceac-4a9f-d90a-3b8c626304c7"
      },
      "outputs": [
        {
          "output_type": "stream",
          "name": "stdout",
          "text": [
            "Cloning into '/content/InfraredSolarModules'...\n",
            "remote: Enumerating objects: 24, done.\u001b[K\n",
            "remote: Counting objects: 100% (24/24), done.\u001b[K\n",
            "remote: Compressing objects: 100% (17/17), done.\u001b[K\n",
            "remote: Total 24 (delta 10), reused 12 (delta 5), pack-reused 0 (from 0)\u001b[K\n",
            "Receiving objects: 100% (24/24), 5.49 MiB | 19.44 MiB/s, done.\n",
            "Resolving deltas: 100% (10/10), done.\n",
            "2020-02-14_InfraredSolarModules.zip  InfraredSolarModules  module_metadata.json\n",
            "images\t\t\t\t     __MACOSX\t\t   sample_data\n"
          ]
        }
      ],
      "source": [
        "# Clear existing files or directories from previous runs\n",
        "!rm -f -r \"/content/images\"\n",
        "!rm -f \"/content/module_metadata.json\"\n",
        "\n",
        "# Define paths for download and extraction\n",
        "repo_path = \"/content/InfraredSolarModules/\"\n",
        "zip_path = \"/content/2020-02-14_InfraredSolarModules.zip\"\n",
        "extract_path = \"/content\"\n",
        "\n",
        "# Clone the repository and extract the zip file\n",
        "!git clone https://github.com/RaptorMaps/InfraredSolarModules.git $repo_path\n",
        "!mv \"$repo_path/2020-02-14_InfraredSolarModules.zip\" $extract_path\n",
        "!unzip -uq $zip_path -d $extract_path\n",
        "\n",
        "# Move images folder to the root directory\n",
        "image_folder_path = \"/content/InfraredSolarModules/images\"\n",
        "!mv $image_folder_path $extract_path\n",
        "\n",
        "# Move module_metadata.json to the root directory\n",
        "metadata_file_path = \"/content/InfraredSolarModules/module_metadata.json\"\n",
        "!mv $metadata_file_path $extract_path\n",
        "\n",
        "# Verify the final structure\n",
        "!ls /content\n"
      ]
    },
    {
      "cell_type": "code",
      "execution_count": 5,
      "metadata": {
        "id": "zxdPk4GBYWLT",
        "colab": {
          "base_uri": "https://localhost:8080/"
        },
        "outputId": "f248e398-f57a-4b6c-d5bb-f2749c0ef81f"
      },
      "outputs": [
        {
          "output_type": "stream",
          "name": "stdout",
          "text": [
            "*************** Binary Classification DataFrame ***************\n",
            "         image_filepath  anomaly_class\n",
            "13357  images/13357.jpg              0\n",
            "13356  images/13356.jpg              0\n",
            "19719  images/19719.jpg              0\n",
            "11542  images/11542.jpg              0\n",
            "11543  images/11543.jpg              0\n",
            "Total rows: 20000\n"
          ]
        }
      ],
      "source": [
        "# Path to metadata JSON file\n",
        "metadata_path = '/content/module_metadata.json'\n",
        "\n",
        "# Load metadata\n",
        "with open(metadata_path, 'r') as f:\n",
        "    metadata = json.load(f)\n",
        "\n",
        "# Convert metadata to DataFrame\n",
        "df = pd.DataFrame.from_dict(metadata, orient='index')\n",
        "\n",
        "# Binary Classification DataFrame\n",
        "df_binary = df.copy()\n",
        "df_binary['anomaly_class'] = df_binary['anomaly_class'].apply(\n",
        "    lambda x: 1 if x.lower() != 'no-anomaly' else 0\n",
        ")\n",
        "\n",
        "# Display DataFrame details\n",
        "print(\"*************** Binary Classification DataFrame ***************\")\n",
        "print(df_binary.head())\n",
        "print(\"Total rows:\", df_binary.shape[0])\n",
        "\n",
        "train_ratio = 0.9\n",
        "test_ratio = 0.1\n",
        "train_data, test_data = train_test_split(df_binary, test_size=test_ratio, train_size=train_ratio, random_state=2, stratify=df_binary['anomaly_class'])\n",
        "\n",
        "train_data.reset_index(drop=True, inplace=True)\n",
        "test_data.reset_index(drop=True, inplace=True)\n"
      ]
    },
    {
      "cell_type": "code",
      "execution_count": 6,
      "metadata": {
        "id": "-goSwgbJeQCo",
        "colab": {
          "base_uri": "https://localhost:8080/",
          "height": 55
        },
        "outputId": "19602622-8482-466a-ff0a-e12fe7911048"
      },
      "outputs": [
        {
          "output_type": "execute_result",
          "data": {
            "text/plain": [
              "'\\ntrain_data, test_data=train_test_split(df_binary, test_size=0.15,train_size=0.85, random_state=2, stratify=df_binary[\"anomaly_class\"])\\ntrain_data.reset_index(drop=True, inplace=True)\\ntest_data.reset_index(drop=True, inplace=True)\\n'"
            ],
            "application/vnd.google.colaboratory.intrinsic+json": {
              "type": "string"
            }
          },
          "metadata": {},
          "execution_count": 6
        }
      ],
      "source": [
        "\"\"\"\n",
        "train_data, test_data=train_test_split(df_binary, test_size=0.15,train_size=0.85, random_state=2, stratify=df_binary[\"anomaly_class\"])\n",
        "train_data.reset_index(drop=True, inplace=True)\n",
        "test_data.reset_index(drop=True, inplace=True)\n",
        "\"\"\"\n",
        "\n"
      ]
    },
    {
      "cell_type": "markdown",
      "metadata": {
        "id": "Vm84vaMxsSJe"
      },
      "source": [
        "ESTÁ IGUAL AO DO VITOR TEMOS QUE MUDAR DAQUI PARA BAIXO"
      ]
    },
    {
      "cell_type": "code",
      "execution_count": 7,
      "metadata": {
        "id": "gO93n3hZk68-",
        "colab": {
          "base_uri": "https://localhost:8080/",
          "height": 91
        },
        "outputId": "8177d653-6da5-45c7-85cf-363682bc3b2d"
      },
      "outputs": [
        {
          "output_type": "execute_result",
          "data": {
            "text/plain": [
              "'\\nclass MyImageDataset(data.Dataset):\\n    def __init__(self, metadata, transform=None):\\n        self.img_labels = metadata[\"anomaly_class\"].values\\n        self.img_paths = metadata[\"image_filepath\"].values\\n        self.transform = transform\\n\\n    def __len__(self):\\n        return len(self.img_labels)\\n\\n    def __getitem__(self, idx):#posteriormente o dataloader vai passar por todos os idx\\n        img_path = self.img_paths[idx]\\n        image = Image.open(img_path).convert(\"L\") # Abrir a imagem como RGB\\n        label = self.img_labels[idx]\\n\\n        if self.transform:\\n            image = self.transform(image)\\n\\n        return image, torch.tensor(label, dtype=torch.long)\\n'"
            ],
            "application/vnd.google.colaboratory.intrinsic+json": {
              "type": "string"
            }
          },
          "metadata": {},
          "execution_count": 7
        }
      ],
      "source": [
        "class MyImageDataset(data.Dataset):\n",
        "    def __init__(self, metadata, transform=None, img_mode=\"RGB\"):\n",
        "\n",
        "        self.img_labels = metadata[\"anomaly_class\"].values\n",
        "        self.img_paths = metadata[\"image_filepath\"].values\n",
        "        self.transform = transform\n",
        "        self.img_mode = img_mode\n",
        "\n",
        "    def __len__(self):\n",
        "        return len(self.img_labels)\n",
        "\n",
        "    def __getitem__(self, idx):\n",
        "\n",
        "        try:\n",
        "            img_path = self.img_paths[idx]\n",
        "\n",
        "            # Ensure the image file exists\n",
        "            if not os.path.exists(img_path):\n",
        "                raise FileNotFoundError(f\"Image file not found: {img_path}\")\n",
        "\n",
        "            # Open and convert the image\n",
        "            image = Image.open(img_path).convert(self.img_mode)\n",
        "            label = self.img_labels[idx]\n",
        "\n",
        "            # Apply transformations if specified\n",
        "            if self.transform:\n",
        "                image = self.transform(image)\n",
        "\n",
        "            return image, torch.tensor(label, dtype=torch.long)\n",
        "\n",
        "        except Exception as e:\n",
        "            raise RuntimeError(f\"Error loading sample at index {idx}: {e}\")\n",
        "\n",
        "\"\"\"\n",
        "class MyImageDataset(data.Dataset):\n",
        "    def __init__(self, metadata, transform=None):\n",
        "        self.img_labels = metadata[\"anomaly_class\"].values\n",
        "        self.img_paths = metadata[\"image_filepath\"].values\n",
        "        self.transform = transform\n",
        "\n",
        "    def __len__(self):\n",
        "        return len(self.img_labels)\n",
        "\n",
        "    def __getitem__(self, idx):#posteriormente o dataloader vai passar por todos os idx\n",
        "        img_path = self.img_paths[idx]\n",
        "        image = Image.open(img_path).convert(\"L\") # Abrir a imagem como RGB\n",
        "        label = self.img_labels[idx]\n",
        "\n",
        "        if self.transform:\n",
        "            image = self.transform(image)\n",
        "\n",
        "        return image, torch.tensor(label, dtype=torch.long)\n",
        "\"\"\"\n"
      ]
    },
    {
      "cell_type": "code",
      "execution_count": 15,
      "metadata": {
        "id": "98SQjeJzmxZ1"
      },
      "outputs": [],
      "source": [
        "# Transformações\n",
        "transform = transforms.Compose([\n",
        "\n",
        "    transforms.ToTensor(),  # Converte para tensor\n",
        "    transforms.Normalize(mean=[0.5], std=[0.5])  # Normaliza\n",
        "])\n",
        "\n",
        "# Datasets\n",
        "train_dataset = MyImageDataset(metadata=train_data, transform=transform)\n",
        "test_dataset = MyImageDataset(metadata=test_data, transform=transform)\n",
        "\n",
        "# DataLoaders\n",
        "batch_size = 16\n",
        "train_loader = data.DataLoader(dataset=train_dataset, batch_size=batch_size, shuffle=True)\n",
        "test_loader = data.DataLoader(dataset=test_dataset, batch_size=batch_size, shuffle=False)\n",
        "\n"
      ]
    },
    {
      "cell_type": "code",
      "execution_count": 16,
      "metadata": {
        "id": "XRxSS22joz2D",
        "colab": {
          "base_uri": "https://localhost:8080/",
          "height": 727
        },
        "outputId": "38468d4b-a9d5-4dfe-9c6a-d62886a82431"
      },
      "outputs": [
        {
          "output_type": "stream",
          "name": "stdout",
          "text": [
            "torch.Size([3, 40, 24])\n"
          ]
        },
        {
          "output_type": "display_data",
          "data": {
            "text/plain": [
              "<Figure size 2000x1000 with 32 Axes>"
            ],
            "image/png": "[encoded data removed]"
          },
          "metadata": {}
        }
      ],
      "source": [
        "# Obtém um batch de imagens, seus rótulos e os caminhos\n",
        "images, labels = next(iter(train_loader))  # Pega o primeiro batch\n",
        "\n",
        "# Desfazendo a normalização para as imagens\n",
        "images = images * 0.5 + 0.5  # Inverte a normalização, para voltar ao intervalo [0, 1]\n",
        "\n",
        "# Cria uma figura com múltiplos subplots\n",
        "fig, axes = plt.subplots(4, 8, figsize=(20, 10))  # 4 linhas e 8 colunas\n",
        "axes = axes.flatten()  # Para facilitar o acesso aos eixos (axes)\n",
        "\n",
        "# Loop para exibir as 32 primeiras imagens do batch\n",
        "for i in range(len(images)):\n",
        "    image = images[i]  # Pega a i-ésima imagem do batch\n",
        "    image_pil = transforms.ToPILImage()(image)  # Converte o tensor para uma imagem PIL\n",
        "\n",
        "    # Exibe a imagem\n",
        "    axes[i].imshow(image_pil)\n",
        "    axes[i].set_title(f\"Label: {labels[i].item()}\")  # Exibe o rótulo e o caminho do arquivo\n",
        "    axes[i].axis('off')  # Remove os eixos para uma exibição mais limpa\n",
        "\n",
        "print(images[0].shape)\n",
        "plt.tight_layout()  # Ajusta o layout para que as imagens não se sobreponham\n",
        "plt.show()\n",
        "\n",
        "\n",
        "\n",
        "\n",
        "\n"
      ]
    },
    {
      "cell_type": "code",
      "execution_count": 17,
      "metadata": {
        "id": "GxFwtr7jD7F6"
      },
      "outputs": [],
      "source": [
        "\n",
        "#Mesmo da prática\n",
        "import torch\n",
        "import torch.nn as nn\n",
        "import torch.nn.functional as F\n",
        "\n",
        "class Network(nn.Module):\n",
        "    def __init__(self):\n",
        "        super().__init__()\n",
        "\n",
        "        # Convolutional and pooling layers with kernel size 5x5 for the first two layers, 3x3 for the third layer\n",
        "        self.conv1 = nn.Conv2d(3, 256, 5)  # Kernel size 5x5\n",
        "        self.bn1 = nn.BatchNorm2d(256)\n",
        "        self.pool1 = nn.MaxPool2d(2, 2)\n",
        "\n",
        "        self.conv2 = nn.Conv2d(256, 512, 5)  # Kernel size 5x5\n",
        "        self.bn2 = nn.BatchNorm2d(512)\n",
        "        self.pool2 = nn.MaxPool2d(2, 2)  # Max pool layer (2x2)\n",
        "\n",
        "        self.dropout1 = nn.Dropout2d(0.2)  # Using dropout after convolutions\n",
        "\n",
        "        self.conv3 = nn.Conv2d(512, 1024, 3)  # Kernel size 3x3 (adjusted for valid output size)\n",
        "        self.bn3 = nn.BatchNorm2d(1024)\n",
        "\n",
        "        # Calculating the correct input size for the fully connected layer\n",
        "        # After conv1 + pool1: (64, 18, 10)\n",
        "        # After conv2 + pool2: (128, 7, 3)\n",
        "        # After conv3: (256, 5, 1)\n",
        "\n",
        "        self.fc1 = nn.Linear(1024 * 5 * 1, 2048)  # Increased to 2048 neurons\n",
        "        self.fc2 = nn.Linear(2048, 1024)         # Increased to 1024 neurons\n",
        "        self.fc3 = nn.Linear(1024, 512)          # Increased to 512 neurons\n",
        "        self.fc4 = nn.Linear(512, 2)   # 2 outputs, keep the 2 as there are only two outputs\n",
        "\n",
        "    def forward(self, x):\n",
        "        # First convolutional layer, ReLU, and pooling\n",
        "        x = self.pool1(F.relu(self.bn1(self.conv1(x))))\n",
        "        x = self.pool2(F.relu(self.bn2(self.conv2(x))))\n",
        "        x = F.relu(self.bn3(self.conv3(x)))  # Use the correct batch norm layer (bn3 for conv3)\n",
        "\n",
        "        # Flatten the output for the fully connected layer\n",
        "        x = torch.flatten(x, 1)  # Flatten to [batch_size, 256*5*1]\n",
        "\n",
        "        # Fully connected layers with ReLU and dropout\n",
        "        x = F.relu(self.fc1(x))\n",
        "        x = F.relu(self.fc2(x))\n",
        "        x = F.relu(self.fc3(x))\n",
        "        x = self.fc4(x)\n",
        "\n",
        "        return x\n",
        "\n",
        "model = Network()\n",
        "# Define the loss function\n",
        "loss_fn = nn.CrossEntropyLoss().to(device)\n",
        "\n",
        "# Define the optimizer\n",
        "optimizer = SGD(model.parameters(), lr=0.0025, momentum=0.9)"
      ]
    },
    {
      "cell_type": "code",
      "execution_count": 18,
      "metadata": {
        "id": "WhRdO4LFD8Gn"
      },
      "outputs": [],
      "source": [
        "from torch.autograd import Variable\n",
        "\n",
        "# Function to save the model\n",
        "def saveModel(model:nn.Module, path):\n",
        "    torch.save(model.state_dict(), path)\n",
        "\n",
        "# Training function. We simply have to loop over our data iterator and feed the inputs to the network and optimize.\n",
        "def train(model: torch.nn.Module,\n",
        "          dataloader: torch.utils.data.DataLoader,\n",
        "          loss_fn: torch.nn.Module,\n",
        "          optimizer: torch.optim.Optimizer,\n",
        "          device: torch.device,\n",
        "          num_epochs,\n",
        "          path_model,\n",
        "          verbatim):\n",
        "    model.train()\n",
        "    model.to(device)\n",
        "    best_accuracy = 0.0\n",
        "    best_loss = 0.0\n",
        "    best_epoch = 0\n",
        "    for epoch in tqdm(range(num_epochs), desc=\"Epochs\", unit=\"epoch\"):  # Adicionando a barra de progresso para os epochs\n",
        "\n",
        "        train_acc = 0.0\n",
        "        train_loss = 0.0\n",
        "        for ibatch, (images, labels) in enumerate(dataloader):  # Adicionando a barra de progresso para os batches\n",
        "\n",
        "            # get the inputs\n",
        "            images = images.to(device)\n",
        "            labels = labels.to(device)\n",
        "\n",
        "            # 1. Forward pass\n",
        "            y_pred = model(images)\n",
        "            y_pred = y_pred.squeeze(dim=1)\n",
        "\n",
        "            # 2. Calculate  and accumulate loss\n",
        "            loss = loss_fn(y_pred, labels)\n",
        "            train_loss += loss.item()\n",
        "\n",
        "            # 3. Optimizer zero grad\n",
        "            optimizer.zero_grad()\n",
        "\n",
        "            # 4. Loss backward\n",
        "            loss.backward()\n",
        "\n",
        "            # 5. Optimizer step\n",
        "            optimizer.step()\n",
        "\n",
        "            # Calculate and accumulate accuracy metric across all batches\n",
        "            y_pred_class = torch.argmax(torch.softmax(y_pred, dim=1), dim=1)\n",
        "            train_acc += (y_pred_class == labels).sum().item()/len(y_pred)\n",
        "\n",
        "        # Adjust metrics to get average loss and accuracy per batch\n",
        "        train_loss = train_loss / len(dataloader)\n",
        "        train_acc = train_acc / len(dataloader)\n",
        "\n",
        "        # we want to save the model if the accuracy is the best\n",
        "\n",
        "\n",
        "        if train_acc > best_accuracy:\n",
        "            path = str(path_model)\n",
        "            saveModel(model, path = path)\n",
        "            best_loss = train_loss\n",
        "            best_accuracy = train_acc\n",
        "            best_epoch = epoch\n",
        "            if verbatim:\n",
        "              print('Best Epoch #', epoch,' Loss=', best_loss, \" Accu=\", best_accuracy )\n",
        "\n",
        "    return best_loss, best_accuracy, best_epoch"
      ]
    },
    {
      "cell_type": "code",
      "execution_count": 19,
      "metadata": {
        "id": "fND9HZXCD_Zg"
      },
      "outputs": [],
      "source": [
        "# Function to test the model with the test dataset and print the accuracy for the test images\n",
        "def test(model: torch.nn.Module,\n",
        "         dataloader: torch.utils.data.DataLoader,\n",
        "         loss_fn: torch.nn.Module,\n",
        "         device: torch.device,\n",
        "         verbatim = True):\n",
        "\n",
        "    # Put model in eval mode\n",
        "    model.eval()\n",
        "    model.to(device)\n",
        "    # Setup test loss and test accuracy values\n",
        "    test_loss, test_acc = 0, 0\n",
        "    pred_labels = []\n",
        "    with torch.no_grad():\n",
        "        for data in dataloader:\n",
        "\n",
        "            # get the inputs\n",
        "            images, labels = data\n",
        "            images = Variable(images.to(device))\n",
        "            labels = Variable(labels.to(device))\n",
        "\n",
        "            # 1. run the model on the test set to predict labels\n",
        "            y_pred = model(images)\n",
        "\n",
        "            # 2. Calculate and accumulate loss\n",
        "            loss = loss_fn(y_pred, labels)\n",
        "            test_loss += loss.item()\n",
        "\n",
        "            # 3. Calculate and accumulate accuracy\n",
        "            y_pred_class = torch.argmax(torch.softmax(y_pred, dim=1), dim=1)\n",
        "            test_acc += (y_pred_class == labels).sum().item()/len(y_pred)\n",
        "            pred_labels = y_pred_class.tolist()\n",
        "\n",
        "    # Adjust metrics to get average loss and accuracy per batch\n",
        "    test_loss = test_loss / len(dataloader)\n",
        "    test_acc = test_acc / len(dataloader)\n",
        "\n",
        "    if verbatim:\n",
        "      print(\"Loss =\", test_loss, \"  Accuracy=\", test_acc)\n",
        "    return pred_labels, test_loss, test_acc\n"
      ]
    },
    {
      "cell_type": "markdown",
      "metadata": {
        "id": "qPgyXseBqP5I"
      },
      "source": []
    },
    {
      "cell_type": "code",
      "execution_count": 20,
      "metadata": {
        "colab": {
          "base_uri": "https://localhost:8080/"
        },
        "id": "gH7kTp85ECwL",
        "outputId": "9dfd9949-a663-4575-c0a1-65f2bb357f9e"
      },
      "outputs": [
        {
          "output_type": "stream",
          "name": "stderr",
          "text": [
            "Epochs:   3%|▎         | 1/30 [00:32<15:53, 32.86s/epoch]"
          ]
        },
        {
          "output_type": "stream",
          "name": "stdout",
          "text": [
            "Best Epoch # 0  Loss= 0.46731384878688387  Accu= 0.7745\n"
          ]
        },
        {
          "output_type": "stream",
          "name": "stderr",
          "text": [
            "\rEpochs:   7%|▋         | 2/30 [01:04<15:08, 32.44s/epoch]"
          ]
        },
        {
          "output_type": "stream",
          "name": "stdout",
          "text": [
            "Best Epoch # 1  Loss= 0.346388180633386  Accu= 0.8518888888888889\n"
          ]
        },
        {
          "output_type": "stream",
          "name": "stderr",
          "text": [
            "\rEpochs:  10%|█         | 3/30 [01:37<14:34, 32.40s/epoch]"
          ]
        },
        {
          "output_type": "stream",
          "name": "stdout",
          "text": [
            "Best Epoch # 2  Loss= 0.3017593833340539  Accu= 0.8772222222222222\n"
          ]
        },
        {
          "output_type": "stream",
          "name": "stderr",
          "text": [
            "\rEpochs:  13%|█▎        | 4/30 [02:09<14:03, 32.46s/epoch]"
          ]
        },
        {
          "output_type": "stream",
          "name": "stdout",
          "text": [
            "Best Epoch # 3  Loss= 0.2673826148509979  Accu= 0.8905\n"
          ]
        },
        {
          "output_type": "stream",
          "name": "stderr",
          "text": [
            "\rEpochs:  17%|█▋        | 5/30 [02:42<13:28, 32.33s/epoch]"
          ]
        },
        {
          "output_type": "stream",
          "name": "stdout",
          "text": [
            "Best Epoch # 4  Loss= 0.24746689639654423  Accu= 0.9020555555555556\n"
          ]
        },
        {
          "output_type": "stream",
          "name": "stderr",
          "text": [
            "\rEpochs:  20%|██        | 6/30 [03:14<12:55, 32.32s/epoch]"
          ]
        },
        {
          "output_type": "stream",
          "name": "stdout",
          "text": [
            "Best Epoch # 5  Loss= 0.22553543410201868  Accu= 0.9110555555555555\n"
          ]
        },
        {
          "output_type": "stream",
          "name": "stderr",
          "text": [
            "\rEpochs:  23%|██▎       | 7/30 [03:46<12:24, 32.38s/epoch]"
          ]
        },
        {
          "output_type": "stream",
          "name": "stdout",
          "text": [
            "Best Epoch # 6  Loss= 0.205231741975579  Accu= 0.9202777777777778\n"
          ]
        },
        {
          "output_type": "stream",
          "name": "stderr",
          "text": [
            "\rEpochs:  27%|██▋       | 8/30 [04:19<11:51, 32.34s/epoch]"
          ]
        },
        {
          "output_type": "stream",
          "name": "stdout",
          "text": [
            "Best Epoch # 7  Loss= 0.1918914049110479  Accu= 0.9255555555555556\n"
          ]
        },
        {
          "output_type": "stream",
          "name": "stderr",
          "text": [
            "\rEpochs:  30%|███       | 9/30 [04:51<11:20, 32.42s/epoch]"
          ]
        },
        {
          "output_type": "stream",
          "name": "stdout",
          "text": [
            "Best Epoch # 8  Loss= 0.180005836079518  Accu= 0.9295\n"
          ]
        },
        {
          "output_type": "stream",
          "name": "stderr",
          "text": [
            "\rEpochs:  33%|███▎      | 10/30 [05:23<10:47, 32.37s/epoch]"
          ]
        },
        {
          "output_type": "stream",
          "name": "stdout",
          "text": [
            "Best Epoch # 9  Loss= 0.16426255012924473  Accu= 0.9369444444444445\n"
          ]
        },
        {
          "output_type": "stream",
          "name": "stderr",
          "text": [
            "\rEpochs:  37%|███▋      | 11/30 [05:56<10:15, 32.38s/epoch]"
          ]
        },
        {
          "output_type": "stream",
          "name": "stdout",
          "text": [
            "Best Epoch # 10  Loss= 0.15413359437924293  Accu= 0.943\n"
          ]
        },
        {
          "output_type": "stream",
          "name": "stderr",
          "text": [
            "\rEpochs:  40%|████      | 12/30 [06:28<09:41, 32.30s/epoch]"
          ]
        },
        {
          "output_type": "stream",
          "name": "stdout",
          "text": [
            "Best Epoch # 11  Loss= 0.14361717662256626  Accu= 0.9449444444444445\n"
          ]
        },
        {
          "output_type": "stream",
          "name": "stderr",
          "text": [
            "\rEpochs:  43%|████▎     | 13/30 [07:00<09:08, 32.24s/epoch]"
          ]
        },
        {
          "output_type": "stream",
          "name": "stdout",
          "text": [
            "Best Epoch # 12  Loss= 0.1310059706374175  Accu= 0.9497777777777778\n"
          ]
        },
        {
          "output_type": "stream",
          "name": "stderr",
          "text": [
            "\rEpochs:  47%|████▋     | 14/30 [07:32<08:36, 32.29s/epoch]"
          ]
        },
        {
          "output_type": "stream",
          "name": "stdout",
          "text": [
            "Best Epoch # 13  Loss= 0.12516430723667143  Accu= 0.9518888888888889\n"
          ]
        },
        {
          "output_type": "stream",
          "name": "stderr",
          "text": [
            "\rEpochs:  50%|█████     | 15/30 [08:05<08:04, 32.29s/epoch]"
          ]
        },
        {
          "output_type": "stream",
          "name": "stdout",
          "text": [
            "Best Epoch # 14  Loss= 0.1154617744334456  Accu= 0.9584444444444444\n"
          ]
        },
        {
          "output_type": "stream",
          "name": "stderr",
          "text": [
            "\rEpochs:  53%|█████▎    | 16/30 [08:37<07:31, 32.24s/epoch]"
          ]
        },
        {
          "output_type": "stream",
          "name": "stdout",
          "text": [
            "Best Epoch # 15  Loss= 0.10960546713301705  Accu= 0.9601666666666666\n"
          ]
        },
        {
          "output_type": "stream",
          "name": "stderr",
          "text": [
            "\rEpochs:  57%|█████▋    | 17/30 [09:09<06:59, 32.26s/epoch]"
          ]
        },
        {
          "output_type": "stream",
          "name": "stdout",
          "text": [
            "Best Epoch # 16  Loss= 0.10269604286075466  Accu= 0.9628333333333333\n"
          ]
        },
        {
          "output_type": "stream",
          "name": "stderr",
          "text": [
            "\rEpochs:  60%|██████    | 18/30 [09:42<06:27, 32.30s/epoch]"
          ]
        },
        {
          "output_type": "stream",
          "name": "stdout",
          "text": [
            "Best Epoch # 17  Loss= 0.09569462663406092  Accu= 0.9641111111111111\n"
          ]
        },
        {
          "output_type": "stream",
          "name": "stderr",
          "text": [
            "\rEpochs:  63%|██████▎   | 19/30 [10:14<05:54, 32.23s/epoch]"
          ]
        },
        {
          "output_type": "stream",
          "name": "stdout",
          "text": [
            "Best Epoch # 18  Loss= 0.08708701258080287  Accu= 0.9671666666666666\n"
          ]
        },
        {
          "output_type": "stream",
          "name": "stderr",
          "text": [
            "\rEpochs:  67%|██████▋   | 20/30 [10:46<05:23, 32.30s/epoch]"
          ]
        },
        {
          "output_type": "stream",
          "name": "stdout",
          "text": [
            "Best Epoch # 19  Loss= 0.08206548221057487  Accu= 0.9699444444444445\n"
          ]
        },
        {
          "output_type": "stream",
          "name": "stderr",
          "text": [
            "\rEpochs:  70%|███████   | 21/30 [11:19<04:51, 32.37s/epoch]"
          ]
        },
        {
          "output_type": "stream",
          "name": "stdout",
          "text": [
            "Best Epoch # 20  Loss= 0.08048534204133062  Accu= 0.9715\n"
          ]
        },
        {
          "output_type": "stream",
          "name": "stderr",
          "text": [
            "\rEpochs:  73%|███████▎  | 22/30 [11:51<04:18, 32.33s/epoch]"
          ]
        },
        {
          "output_type": "stream",
          "name": "stdout",
          "text": [
            "Best Epoch # 21  Loss= 0.06750742902712793  Accu= 0.9757777777777777\n"
          ]
        },
        {
          "output_type": "stream",
          "name": "stderr",
          "text": [
            "Epochs:  80%|████████  | 24/30 [12:55<03:13, 32.33s/epoch]"
          ]
        },
        {
          "output_type": "stream",
          "name": "stdout",
          "text": [
            "Best Epoch # 23  Loss= 0.06056079865847197  Accu= 0.9786666666666667\n"
          ]
        },
        {
          "output_type": "stream",
          "name": "stderr",
          "text": [
            "Epochs:  87%|████████▋ | 26/30 [14:00<02:09, 32.27s/epoch]"
          ]
        },
        {
          "output_type": "stream",
          "name": "stdout",
          "text": [
            "Best Epoch # 25  Loss= 0.051636228987701344  Accu= 0.9808333333333333\n"
          ]
        },
        {
          "output_type": "stream",
          "name": "stderr",
          "text": [
            "Epochs:  93%|█████████▎| 28/30 [15:04<01:04, 32.31s/epoch]"
          ]
        },
        {
          "output_type": "stream",
          "name": "stdout",
          "text": [
            "Best Epoch # 27  Loss= 0.04570483694873595  Accu= 0.9838888888888889\n"
          ]
        },
        {
          "output_type": "stream",
          "name": "stderr",
          "text": [
            "\rEpochs:  97%|█████████▋| 29/30 [15:37<00:32, 32.28s/epoch]"
          ]
        },
        {
          "output_type": "stream",
          "name": "stdout",
          "text": [
            "Best Epoch # 28  Loss= 0.043722453272261194  Accu= 0.9847222222222223\n"
          ]
        },
        {
          "output_type": "stream",
          "name": "stderr",
          "text": [
            "Epochs: 100%|██████████| 30/30 [16:09<00:00, 32.31s/epoch]\n"
          ]
        }
      ],
      "source": [
        "if __name__ == \"__main__\":\n",
        "\n",
        "    model = model.to(device)\n",
        "\n",
        "    # Build our model\n",
        "    best_loss, best_accuracy, best_epoch = train(model=model,\n",
        "                                                    dataloader=train_loader,\n",
        "                                                    loss_fn=loss_fn,\n",
        "                                                    optimizer=optimizer,\n",
        "                                                    device=device,\n",
        "                                                    num_epochs = 30,\n",
        "                                                    path_model = str(\"./myModel_best_A.pth\"),\n",
        "                                                    verbatim = True)"
      ]
    },
    {
      "cell_type": "code",
      "execution_count": 21,
      "metadata": {
        "id": "kGUVkp5vIwQ7",
        "colab": {
          "base_uri": "https://localhost:8080/"
        },
        "outputId": "810094cb-9166-4188-9c04-cc9ed0d2ef64"
      },
      "outputs": [
        {
          "output_type": "stream",
          "name": "stdout",
          "text": [
            "Loss = 0.3055989913007943   Accuracy= 0.9395\n"
          ]
        }
      ],
      "source": [
        "y_pred, test_loss, test_acc  = test(model=model,\n",
        "                                    dataloader=test_loader,\n",
        "                                    loss_fn=loss_fn,\n",
        "                                    device=device,\n",
        "                                    verbatim = True)"
      ]
    }
  ],
  "metadata": {
    "accelerator": "GPU",
    "colab": {
      "gpuType": "T4",
      "provenance": [],
      "include_colab_link": true
    },
    "kernelspec": {
      "display_name": "Python 3",
      "name": "python3"
    },
    "language_info": {
      "name": "python"
    }
  },
  "nbformat": 4,
  "nbformat_minor": 0
}