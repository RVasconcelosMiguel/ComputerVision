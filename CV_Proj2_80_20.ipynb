{
  "cells": [
    {
      "cell_type": "code",
      "source": [],
      "metadata": {
        "id": "NbGS6B_gFEcZ"
      },
      "execution_count": null,
      "outputs": []
    },
    {
      "cell_type": "markdown",
      "source": [
        "# Loads"
      ],
      "metadata": {
        "id": "j_72JjR4D144"
      }
    },
    {
      "cell_type": "code",
      "execution_count": 3,
      "metadata": {
        "colab": {
          "base_uri": "https://localhost:8080/"
        },
        "id": "ohrqiqTYX0Rs",
        "outputId": "555b3776-cba2-4d31-c4ed-558c72e65254"
      },
      "outputs": [
        {
          "output_type": "stream",
          "name": "stdout",
          "text": [
            "Requirement already satisfied: tqdm in /usr/local/lib/python3.10/dist-packages (4.66.6)\n"
          ]
        }
      ],
      "source": [
        "pip install tqdm"
      ]
    },
    {
      "cell_type": "code",
      "execution_count": 4,
      "metadata": {
        "id": "uEQHgJJ0X5YS"
      },
      "outputs": [],
      "source": [
        "import cv2\n",
        "from google.colab.patches import cv2_imshow\n",
        "import matplotlib.pyplot as plt\n",
        "import numpy as np\n",
        "import random\n",
        "from tqdm import tqdm  # Importar tqdm\n",
        "\n",
        "import os\n",
        "import pandas as pd\n",
        "import json\n",
        "\n",
        "import torch\n",
        "import torch.nn as nn\n",
        "import torch.nn.functional as F\n",
        "import torch.utils.data as data\n",
        "from torch.autograd import Variable\n",
        "from torch.optim import Adam, SGD, NAdam\n",
        "import torch.optim as optim\n",
        "import torch.optim.lr_scheduler as lr_scheduler\n",
        "\n",
        "\n",
        "import torchvision\n",
        "from torchvision import models, transforms\n",
        "from torchvision.io import read_image\n",
        "\n",
        "from torchsummary import summary\n",
        "\n",
        "import cv2\n",
        "from google.colab.patches import cv2_imshow\n",
        "import matplotlib.pyplot as plt\n",
        "import numpy as np\n",
        "import random\n",
        "from tqdm import tqdm  # Importar tqdm\n",
        "\n",
        "import os\n",
        "import pandas as pd\n",
        "import json\n",
        "\n",
        "import torch\n",
        "import torch.nn as nn\n",
        "import torch.nn.functional as F\n",
        "import torch.utils.data as data\n",
        "from torch.autograd import Variable\n",
        "from torch.optim import Adam, SGD, NAdam\n",
        "import torch.optim as optim\n",
        "import torch.optim.lr_scheduler as lr_scheduler\n",
        "\n",
        "\n",
        "import torchvision\n",
        "from torchvision import models, transforms\n",
        "from torchvision.io import read_image\n",
        "\n",
        "from torchsummary import summary\n",
        "\n",
        "from sklearn.model_selection import train_test_split\n",
        "from sklearn.preprocessing import LabelEncoder, label_binarize\n",
        "from sklearn.utils.class_weight import compute_class_weight\n",
        "from sklearn.metrics import confusion_matrix, ConfusionMatrixDisplay\n",
        "\n",
        "from PIL import Image\n",
        "import zipfile\n",
        "\n",
        "\n",
        "from PIL import Image\n",
        "import zipfile"
      ]
    },
    {
      "cell_type": "code",
      "execution_count": 5,
      "metadata": {
        "id": "egEVyeavSsNL",
        "colab": {
          "base_uri": "https://localhost:8080/"
        },
        "outputId": "952b6628-8cbf-4f6a-e2c6-1ddbe89d36b8"
      },
      "outputs": [
        {
          "output_type": "stream",
          "name": "stdout",
          "text": [
            "The model will be running on cuda:0 device\n"
          ]
        }
      ],
      "source": [
        "device = torch.device(\"cuda:0\" if torch.cuda.is_available() else \"cpu\")\n",
        "print(\"The model will be running on\", device, \"device\")"
      ]
    },
    {
      "cell_type": "code",
      "execution_count": 6,
      "metadata": {
        "id": "-LBuvOx_T7QK",
        "colab": {
          "base_uri": "https://localhost:8080/"
        },
        "outputId": "137dee93-bd53-4503-b57b-0b6c35acaa80"
      },
      "outputs": [
        {
          "output_type": "stream",
          "name": "stdout",
          "text": [
            "Cloning into '/content/InfraredSolarModules'...\n",
            "remote: Enumerating objects: 24, done.\u001b[K\n",
            "remote: Counting objects: 100% (24/24), done.\u001b[K\n",
            "remote: Compressing objects: 100% (17/17), done.\u001b[K\n",
            "remote: Total 24 (delta 10), reused 12 (delta 5), pack-reused 0 (from 0)\u001b[K\n",
            "Receiving objects: 100% (24/24), 5.49 MiB | 7.69 MiB/s, done.\n",
            "Resolving deltas: 100% (10/10), done.\n",
            "2020-02-14_InfraredSolarModules.zip  InfraredSolarModules  module_metadata.json\n",
            "images\t\t\t\t     __MACOSX\t\t   sample_data\n"
          ]
        }
      ],
      "source": [
        "# Clear existing files or directories from previous runs\n",
        "!rm -f -r \"/content/images\"\n",
        "!rm -f \"/content/module_metadata.json\"\n",
        "\n",
        "# Define paths for download and extraction\n",
        "repo_path = \"/content/InfraredSolarModules/\"\n",
        "zip_path = \"/content/2020-02-14_InfraredSolarModules.zip\"\n",
        "extract_path = \"/content\"\n",
        "\n",
        "# Clone the repository and extract the zip file\n",
        "!git clone https://github.com/RaptorMaps/InfraredSolarModules.git $repo_path\n",
        "!mv \"$repo_path/2020-02-14_InfraredSolarModules.zip\" $extract_path\n",
        "!unzip -uq $zip_path -d $extract_path\n",
        "\n",
        "# Move images folder to the root directory\n",
        "image_folder_path = \"/content/InfraredSolarModules/images\"\n",
        "!mv $image_folder_path $extract_path\n",
        "\n",
        "# Move module_metadata.json to the root directory\n",
        "metadata_file_path = \"/content/InfraredSolarModules/module_metadata.json\"\n",
        "!mv $metadata_file_path $extract_path\n",
        "\n",
        "# Verify the final structure\n",
        "!ls /content\n"
      ]
    },
    {
      "cell_type": "code",
      "source": [
        "# Path to metadata JSON file\n",
        "metadata_path = '/content/module_metadata.json'\n",
        "\n",
        "# Load metadata\n",
        "with open(metadata_path, 'r') as f:\n",
        "    metadata = json.load(f)\n",
        "\n",
        "# Convert metadata to DataFrame\n",
        "df = pd.DataFrame.from_dict(metadata, orient='index')"
      ],
      "metadata": {
        "id": "kOUkoPy1Dk7Y"
      },
      "execution_count": 7,
      "outputs": []
    },
    {
      "cell_type": "markdown",
      "source": [
        "# a)"
      ],
      "metadata": {
        "id": "7Jhbkz1QDpUj"
      }
    },
    {
      "cell_type": "code",
      "execution_count": 8,
      "metadata": {
        "id": "zxdPk4GBYWLT",
        "colab": {
          "base_uri": "https://localhost:8080/"
        },
        "outputId": "054779fe-ef03-4200-fe92-60facf49df28"
      },
      "outputs": [
        {
          "output_type": "stream",
          "name": "stdout",
          "text": [
            "*************** Binary Classification DataFrame ***************\n",
            "         image_filepath  anomaly_class\n",
            "13357  images/13357.jpg              0\n",
            "13356  images/13356.jpg              0\n",
            "19719  images/19719.jpg              0\n",
            "11542  images/11542.jpg              0\n",
            "11543  images/11543.jpg              0\n",
            "Total rows: 20000\n"
          ]
        }
      ],
      "source": [
        "df_binary = df.copy()\n",
        "df_binary['anomaly_class'] = df_binary['anomaly_class'].apply(\n",
        "    lambda x: 1 if x.lower() != 'no-anomaly' else 0\n",
        ")\n",
        "\n",
        "# Display DataFrame details\n",
        "print(\"*************** Binary Classification DataFrame ***************\")\n",
        "print(df_binary.head())\n",
        "print(\"Total rows:\", df_binary.shape[0])\n",
        "\n",
        "train_ratio = 0.8\n",
        "train_data, test_data = train_test_split(df_binary, test_size=(1-train_ratio), train_size=train_ratio, random_state=11, stratify=df_binary['anomaly_class'])\n",
        "\n",
        "train_data.reset_index(drop=True, inplace=True)\n",
        "test_data.reset_index(drop=True, inplace=True)\n"
      ]
    },
    {
      "cell_type": "code",
      "execution_count": null,
      "metadata": {
        "id": "-goSwgbJeQCo",
        "colab": {
          "base_uri": "https://localhost:8080/",
          "height": 55
        },
        "outputId": "7b8099aa-f03e-4c08-d810-9ad7db7c0f34"
      },
      "outputs": [
        {
          "output_type": "execute_result",
          "data": {
            "text/plain": [
              "'\\ntrain_data, test_data=train_test_split(df_binary, test_size=0.15,train_size=0.85, random_state=2, stratify=df_binary[\"anomaly_class\"])\\ntrain_data.reset_index(drop=True, inplace=True)\\ntest_data.reset_index(drop=True, inplace=True)\\n'"
            ],
            "application/vnd.google.colaboratory.intrinsic+json": {
              "type": "string"
            }
          },
          "metadata": {},
          "execution_count": 119
        }
      ],
      "source": [
        "\"\"\"\n",
        "train_data, test_data=train_test_split(df_binary, test_size=0.15,train_size=0.85, random_state=2, stratify=df_binary[\"anomaly_class\"])\n",
        "train_data.reset_index(drop=True, inplace=True)\n",
        "test_data.reset_index(drop=True, inplace=True)\n",
        "\"\"\"\n",
        "\n"
      ]
    },
    {
      "cell_type": "markdown",
      "metadata": {
        "id": "Vm84vaMxsSJe"
      },
      "source": [
        "ESTÁ IGUAL AO DO VITOR TEMOS QUE MUDAR DAQUI PARA BAIXO"
      ]
    },
    {
      "cell_type": "code",
      "execution_count": 9,
      "metadata": {
        "id": "gO93n3hZk68-"
      },
      "outputs": [],
      "source": [
        "class MyImageDataset(data.Dataset):\n",
        "    def __init__(self, metadata, transform=None, img_mode=\"L\"):\n",
        "\n",
        "        self.img_labels = metadata[\"anomaly_class\"].values\n",
        "        self.img_paths = metadata[\"image_filepath\"].values\n",
        "        self.transform = transform\n",
        "        self.img_mode = img_mode\n",
        "\n",
        "    def __len__(self):\n",
        "        return len(self.img_labels)\n",
        "\n",
        "    def __getitem__(self, idx):\n",
        "\n",
        "        try:\n",
        "            img_path = self.img_paths[idx]\n",
        "\n",
        "            # Ensure the image file exists\n",
        "            if not os.path.exists(img_path):\n",
        "                raise FileNotFoundError(f\"Image file not found: {img_path}\")\n",
        "\n",
        "            # Open and convert the image\n",
        "            image = Image.open(img_path).convert(self.img_mode)\n",
        "            label = self.img_labels[idx]\n",
        "\n",
        "            # Apply transformations if specified\n",
        "            if self.transform:\n",
        "                image = self.transform(image)\n",
        "\n",
        "            return image, torch.tensor(label, dtype=torch.long)\n",
        "\n",
        "        except Exception as e:\n",
        "            raise RuntimeError(f\"Error loading sample at index {idx}: {e}\")\n"
      ]
    },
    {
      "cell_type": "code",
      "execution_count": 10,
      "metadata": {
        "id": "98SQjeJzmxZ1"
      },
      "outputs": [],
      "source": [
        "# Transformações\n",
        "transform_augmentation_1 = transforms.Compose([\n",
        "    transforms.RandomHorizontalFlip(p=1),   # Random horizontal flip\n",
        "    transforms.ToTensor(),\n",
        "])\n",
        "\n",
        "transform_augmentation_2 = transforms.Compose([\n",
        "    transforms.RandomVerticalFlip(p=1),\n",
        "    transforms.ToTensor(),\n",
        "])\n",
        "\n",
        "transform_augmentation_3 = transforms.Compose([\n",
        "    transforms.RandomVerticalFlip(p=1),\n",
        "    transforms.RandomHorizontalFlip(p=1),\n",
        "    transforms.ToTensor(),\n",
        "])\n",
        "\n",
        "train_transform = transforms.Compose([\n",
        "    #transforms.RandomVerticalFlip(p=0.5),\n",
        "    #transforms.RandomHorizontalFlip(p=0.5),\n",
        "    transforms.RandomRotation(10),\n",
        "    transforms.RandomCrop((40, 24), padding=1),  # Random crop with padding\n",
        "    transforms.ColorJitter(brightness=0.2, contrast=0.2),  # Color jitter\n",
        "    transforms.ToTensor(),\n",
        "    transforms.Normalize(mean=[0.5], std=[0.5])\n",
        "])\n",
        "\n",
        "# Testing transform without augmentation\n",
        "test_transform = transforms.Compose([\n",
        "    transforms.ToTensor(),\n",
        "    transforms.Normalize(mean=[0.5], std=[0.5])\n",
        "])\n",
        "# Datasets\n",
        "train_dataset = MyImageDataset(metadata=train_data, transform=train_transform)\n",
        "\n",
        "\n",
        "\n"
      ]
    },
    {
      "cell_type": "code",
      "source": [
        "train_data_a_counts = train_data['anomaly_class'].value_counts()\n",
        "print(\"Counts of each anomaly type:\")\n",
        "print(train_data_a_counts)\n",
        "print(\"Size:\", len(train_data), \"\\n\")\n",
        "\n",
        "# Datasets\n",
        "train_data_a_balanced = train_data.copy()\n",
        "\n",
        "directory = \"/content/images_a\"\n",
        "if os.path.exists(directory):\n",
        "    for filename in os.listdir(directory):\n",
        "        file_path = os.path.join(directory, filename)\n",
        "        try:\n",
        "            if os.path.isdir(file_path):\n",
        "                shutil.rmtree(file_path)\n",
        "            else:\n",
        "                os.remove(file_path)\n",
        "        except Exception as e:\n",
        "            print(f\"Error deleting file {file_path}: {e}\")\n",
        "else:\n",
        "    os.makedirs(directory, exist_ok=True)\n",
        "\n",
        "\n",
        "\n",
        "for i in range(len(train_data)):\n",
        "    # Get the row for the current sample\n",
        "    row = train_data.iloc[i]\n",
        "    image_path = row[\"image_filepath\"]  # Path to the image\n",
        "    label = row[\"anomaly_class\"]       # Corresponding label\n",
        "\n",
        "    # Load the image using PIL\n",
        "    image_pil = Image.open(image_path).convert(\"L\")\n",
        "\n",
        "    # Get the ratio for this class\n",
        "\n",
        "    num1,num2 = random.sample(range(1, 3), 2)\n",
        "    # Perform deterministic augmentations\n",
        "    for n in range(2):  # Subtract 1 because the original image already counts as 1\n",
        "        if(n==0):\n",
        "            if(num1==1):\n",
        "                transform_augmentation = transform_augmentation_1\n",
        "            elif(num1==2):\n",
        "                transform_augmentation = transform_augmentation_2\n",
        "            elif(num1==3):\n",
        "                transform_augmentation = transform_augmentation_3\n",
        "        if(n==1):\n",
        "            if(num2==1):\n",
        "                transform_augmentation = transform_augmentation_1\n",
        "            elif(num2==2):\n",
        "                transform_augmentation = transform_augmentation_2\n",
        "            elif(num2==3):\n",
        "                transform_augmentation = transform_augmentation_3\n",
        "\n",
        "        transformed_image = transform_augmentation(image_pil)\n",
        "        if isinstance(transformed_image, torch.Tensor):\n",
        "            transformed_image = transforms.ToPILImage()(transformed_image)\n",
        "        new_image_path = os.path.join(directory, f\"transformed_image_{int(label)}_{i}_{n}.jpg\")\n",
        "        transformed_image.save(new_image_path, format=\"JPEG\", quality=95)\n",
        "        new_row = {\"image_filepath\": new_image_path, \"anomaly_class\": int(label)}\n",
        "        train_data_a_balanced = pd.concat([train_data_a_balanced, pd.DataFrame([new_row])], ignore_index=True)\n",
        "\n",
        "    # Perform probabilistic augmentation for the fractional part\n",
        "\n",
        "\n",
        "train_data_a_balanced_counts = train_data_a_balanced['anomaly_class'].value_counts()\n",
        "print(\"\\nCounts of each anomaly type:\")\n",
        "print(train_data_a_balanced_counts)\n",
        "print(\"Size:\", len(train_data_a_balanced))"
      ],
      "metadata": {
        "id": "ohP6DQzjGNEI",
        "outputId": "132eb1e3-e22b-44a0-8452-57b4482f3153",
        "colab": {
          "base_uri": "https://localhost:8080/"
        }
      },
      "execution_count": 11,
      "outputs": [
        {
          "output_type": "stream",
          "name": "stdout",
          "text": [
            "Counts of each anomaly type:\n",
            "anomaly_class\n",
            "1    8000\n",
            "0    8000\n",
            "Name: count, dtype: int64\n",
            "Size: 16000 \n",
            "\n",
            "\n",
            "Counts of each anomaly type:\n",
            "anomaly_class\n",
            "1    24000\n",
            "0    24000\n",
            "Name: count, dtype: int64\n",
            "Size: 48000\n"
          ]
        }
      ]
    },
    {
      "cell_type": "code",
      "source": [
        "# DataLoaders\n",
        "#train_dataset_b_balanced = MyImageDataset_b(metadata=train_data_b, transform=train_transform)\n",
        "train_dataset_a_balanced = MyImageDataset(metadata=train_data_a_balanced, transform=train_transform)\n",
        "test_dataset = MyImageDataset(metadata=test_data, transform=test_transform)\n",
        "\n",
        "batch_size = 32\n",
        "train_loader_a = data.DataLoader(dataset=train_dataset_a_balanced, batch_size=batch_size, shuffle=True)\n",
        "test_loader_a = data.DataLoader(dataset=test_dataset, batch_size=batch_size, shuffle=False)"
      ],
      "metadata": {
        "id": "4NfRZSHaIo1c"
      },
      "execution_count": 12,
      "outputs": []
    },
    {
      "cell_type": "code",
      "execution_count": 13,
      "metadata": {
        "id": "XRxSS22joz2D",
        "colab": {
          "base_uri": "https://localhost:8080/",
          "height": 615
        },
        "outputId": "46236eac-35b4-44b4-bacd-e46db34be607"
      },
      "outputs": [
        {
          "output_type": "stream",
          "name": "stdout",
          "text": [
            "torch.Size([1, 40, 24])\n"
          ]
        },
        {
          "output_type": "display_data",
          "data": {
            "text/plain": [
              "<Figure size 2000x1000 with 32 Axes>"
            ],
            "image/png": "[encoded data removed]"
          },
          "metadata": {}
        }
      ],
      "source": [
        "# Obtém um batch de imagens, seus rótulos e os caminhos\n",
        "images, labels = next(iter(train_loader_a))  # Pega o primeiro batch\n",
        "\n",
        "# Desfazendo a normalização para as imagens\n",
        "images = images * 0.5 + 0.5  # Inverte a normalização, para voltar ao intervalo [0, 1]\n",
        "\n",
        "# Cria uma figura com múltiplos subplots\n",
        "fig, axes = plt.subplots(4, 8, figsize=(20, 10))  # 4 linhas e 8 colunas\n",
        "axes = axes.flatten()  # Para facilitar o acesso aos eixos (axes)\n",
        "\n",
        "# Loop para exibir as 32 primeiras imagens do batch\n",
        "for i in range(len(images)):\n",
        "    image = images[i]  # Pega a i-ésima imagem do batch\n",
        "    image_pil = transforms.ToPILImage()(image)  # Converte o tensor para uma imagem PIL\n",
        "\n",
        "    # Exibe a imagem\n",
        "    axes[i].imshow(image_pil)\n",
        "    axes[i].set_title(f\"Label: {labels[i].item()}\")  # Exibe o rótulo e o caminho do arquivo\n",
        "    axes[i].axis('off')  # Remove os eixos para uma exibição mais limpa\n",
        "\n",
        "print(images[0].shape)\n",
        "plt.tight_layout()  # Ajusta o layout para que as imagens não se sobreponham\n",
        "plt.show()\n",
        "\n",
        "\n",
        "\n",
        "\n",
        "\n"
      ]
    },
    {
      "cell_type": "code",
      "execution_count": 14,
      "metadata": {
        "id": "GxFwtr7jD7F6"
      },
      "outputs": [],
      "source": [
        "class Network(nn.Module):\n",
        "    def __init__(self):\n",
        "        super().__init__()\n",
        "\n",
        "        # Convolutional and pooling layers with kernel size 5x5 for the first two layers, 3x3 for the third layer\n",
        "        self.conv1 = nn.Conv2d(1, 128, 3)  # Kernel size 5x5\n",
        "        self.bn1 = nn.BatchNorm2d(128)\n",
        "        self.pool1 = nn.MaxPool2d(2, 2)\n",
        "\n",
        "        self.conv2 = nn.Conv2d(128, 256, 3)  # Kernel size 5x5\n",
        "        self.bn2 = nn.BatchNorm2d(256)\n",
        "        self.pool2 = nn.MaxPool2d(2, 2)  # Max pool layer (2x2)\n",
        "\n",
        "        self.conv3 = nn.Conv2d(256, 512, 3)  # Kernel size 3x3 (adjusted for valid output size)\n",
        "        self.bn3 = nn.BatchNorm2d(512)\n",
        "\n",
        "        self.dropout_conv = nn.Dropout2d(0.2)\n",
        "\n",
        "        # Calculating the correct input size for the fully connected layer\n",
        "        # Initial    : (40, 24)\n",
        "        # After conv1: (38, 22)\n",
        "        # After pool1: (19, 11)\n",
        "        # After conv2: (17, 9)\n",
        "        # After pool2: (8, 4)\n",
        "        # After conv3: (6, 2)\n",
        "\n",
        "        self.fc1 = nn.Linear(512 * 6 * 2, 1024)  # Increased to 2048 neurons\n",
        "        self.dropout1 = nn.Dropout(0.3)\n",
        "        self.fc2 = nn.Linear(1024, 512)         # Increased to 1024 neurons\n",
        "        self.dropout2 = nn.Dropout(0.5)\n",
        "        self.fc3 = nn.Linear(512, 2)          # Increased to 512 neurons\n",
        "\n",
        "    def forward(self, x):\n",
        "        # First convolutional layer, ReLU, and pooling\n",
        "        x = self.pool1(F.relu(self.bn1(self.conv1(x))))\n",
        "        x = self.pool2(F.relu(self.bn2(self.conv2(x))))\n",
        "        x = self.dropout_conv(x)  # Dropout2d after pooling\n",
        "        x = F.relu(self.bn3(self.conv3(x)))\n",
        "\n",
        "        # Flatten the output for the fully connected layer\n",
        "        x = torch.flatten(x, 1)  # Flatten to [batch_size, 256*5*1]\n",
        "\n",
        "        # Fully connected layers with ReLU and dropout\n",
        "        x = F.relu(self.fc1(x))\n",
        "        x = self.dropout1(x)\n",
        "        x = F.relu(self.fc2(x))\n",
        "        x = self.dropout2(x)\n",
        "        x = self.fc3(x)\n",
        "\n",
        "        return x\n",
        "\n",
        "\n",
        "model = Network()\n",
        "# Define the loss function\n",
        "loss_fn = nn.CrossEntropyLoss().to(device)\n",
        "\n",
        "# Define the optimizer\n",
        "#optimizer = torch.optim.SGD(model.parameters(), lr=0.0025, momentum=0.9, weight_decay=1e-4)\n",
        "optimizer = torch.optim.Adam(model.parameters(), lr=0.0001, weight_decay=1e-4)"
      ]
    },
    {
      "cell_type": "code",
      "execution_count": 15,
      "metadata": {
        "id": "WhRdO4LFD8Gn"
      },
      "outputs": [],
      "source": [
        "# Function to save the model\n",
        "def saveModel(model:nn.Module, path):\n",
        "    torch.save(model.state_dict(), path)\n",
        "\n",
        "# Training function. We simply have to loop over our data iterator and feed the inputs to the network and optimize.\n",
        "def train(model: torch.nn.Module,\n",
        "          dataloader: torch.utils.data.DataLoader,\n",
        "          loss_fn: torch.nn.Module,\n",
        "          optimizer: torch.optim.Optimizer,\n",
        "          device: torch.device,\n",
        "          num_epochs,\n",
        "          path_model,\n",
        "          verbatim):\n",
        "    model.train()\n",
        "    model.to(device)\n",
        "    best_accuracy = 0.0\n",
        "    best_loss = 0.0\n",
        "    best_epoch = 0\n",
        "    for epoch in tqdm(range(num_epochs), desc=\"Epochs\", unit=\"epoch\"):  # Adicionando a barra de progresso para os epochs\n",
        "\n",
        "        train_acc = 0.0\n",
        "        train_loss = 0.0\n",
        "        for ibatch, (images, labels) in enumerate(dataloader):  # Adicionando a barra de progresso para os batches\n",
        "\n",
        "            # get the inputs\n",
        "            images = images.to(device)\n",
        "            labels = labels.to(device)\n",
        "\n",
        "            # 1. Forward pass\n",
        "            y_pred = model(images)\n",
        "            y_pred = y_pred.squeeze(dim=1)\n",
        "\n",
        "            # 2. Calculate  and accumulate loss\n",
        "            loss = loss_fn(y_pred, labels)\n",
        "            train_loss += loss.item()\n",
        "\n",
        "            # 3. Optimizer zero grad\n",
        "            optimizer.zero_grad()\n",
        "\n",
        "            # 4. Loss backward\n",
        "            loss.backward()\n",
        "\n",
        "            # 5. Optimizer step\n",
        "            optimizer.step()\n",
        "\n",
        "            # Calculate and accumulate accuracy metric across all batches\n",
        "            y_pred_class = torch.argmax(torch.softmax(y_pred, dim=1), dim=1)\n",
        "            train_acc += (y_pred_class == labels).sum().item()/len(y_pred)\n",
        "\n",
        "        # Adjust metrics to get average loss and accuracy per batch\n",
        "        train_loss = train_loss / len(dataloader)\n",
        "        train_acc = train_acc / len(dataloader)\n",
        "\n",
        "        # we want to save the model if the accuracy is the best\n",
        "\n",
        "\n",
        "        if train_acc > best_accuracy:\n",
        "            path = str(path_model)\n",
        "            saveModel(model, path = path)\n",
        "            best_loss = train_loss\n",
        "            best_accuracy = train_acc\n",
        "            best_epoch = epoch\n",
        "            if verbatim:\n",
        "              print('Best Epoch #', epoch,' Loss=', best_loss, \" Accu=\", best_accuracy )\n",
        "\n",
        "    return best_loss, best_accuracy, best_epoch"
      ]
    },
    {
      "cell_type": "code",
      "execution_count": 16,
      "metadata": {
        "id": "fND9HZXCD_Zg"
      },
      "outputs": [],
      "source": [
        "# Function to test the model with the test dataset and print the accuracy for the test images\n",
        "def test(model: torch.nn.Module,\n",
        "         dataloader: torch.utils.data.DataLoader,\n",
        "         loss_fn: torch.nn.Module,\n",
        "         device: torch.device,\n",
        "         verbatim = True):\n",
        "\n",
        "    # Put model in eval mode\n",
        "    model.eval()\n",
        "    model.to(device)\n",
        "    # Setup test loss and test accuracy values\n",
        "    test_loss, test_acc = 0, 0\n",
        "    pred_labels = []\n",
        "    with torch.no_grad():\n",
        "        for data in dataloader:\n",
        "\n",
        "            # get the inputs\n",
        "            images, labels = data\n",
        "            images = Variable(images.to(device))\n",
        "            labels = Variable(labels.to(device))\n",
        "\n",
        "            # 1. run the model on the test set to predict labels\n",
        "            y_pred = model(images)\n",
        "\n",
        "            # 2. Calculate and accumulate loss\n",
        "            loss = loss_fn(y_pred, labels)\n",
        "            test_loss += loss.item()\n",
        "\n",
        "            # 3. Calculate and accumulate accuracy\n",
        "            y_pred_class = torch.argmax(torch.softmax(y_pred, dim=1), dim=1)\n",
        "            test_acc += (y_pred_class == labels).sum().item()/len(y_pred)\n",
        "            pred_labels = y_pred_class.tolist()\n",
        "\n",
        "    # Adjust metrics to get average loss and accuracy per batch\n",
        "    test_loss = test_loss / len(dataloader)\n",
        "    test_acc = test_acc / len(dataloader)\n",
        "\n",
        "    if verbatim:\n",
        "      print(\"Loss =\", test_loss, \"  Accuracy=\", test_acc)\n",
        "    return pred_labels, test_loss, test_acc\n"
      ]
    },
    {
      "cell_type": "markdown",
      "metadata": {
        "id": "qPgyXseBqP5I"
      },
      "source": []
    },
    {
      "cell_type": "code",
      "execution_count": 42,
      "metadata": {
        "colab": {
          "base_uri": "https://localhost:8080/"
        },
        "id": "gH7kTp85ECwL",
        "outputId": "d370c42c-a149-4eac-8519-2b91e43db2a8"
      },
      "outputs": [
        {
          "output_type": "stream",
          "name": "stderr",
          "text": [
            "Epochs:  20%|██        | 1/5 [01:02<04:10, 62.64s/epoch]"
          ]
        },
        {
          "output_type": "stream",
          "name": "stdout",
          "text": [
            "Best Epoch # 0  Loss= 0.13179176381975413  Accu= 0.9496875\n"
          ]
        },
        {
          "output_type": "stream",
          "name": "stderr",
          "text": [
            "Epochs: 100%|██████████| 5/5 [05:08<00:00, 61.77s/epoch]\n"
          ]
        }
      ],
      "source": [
        "if __name__ == \"__main__\":\n",
        "\n",
        "    model = model.to(device)\n",
        "\n",
        "    # Build our model\n",
        "    best_loss, best_accuracy, best_epoch = train(model=model,\n",
        "                                                    dataloader=train_loader_a,\n",
        "                                                    loss_fn=loss_fn,\n",
        "                                                    optimizer=optimizer,\n",
        "                                                    device=device,\n",
        "                                                    num_epochs = 5,\n",
        "                                                    path_model = str(\"./myModel_best_A.pth\"),\n",
        "                                                    verbatim = True)"
      ]
    },
    {
      "cell_type": "code",
      "execution_count": 44,
      "metadata": {
        "id": "kGUVkp5vIwQ7",
        "colab": {
          "base_uri": "https://localhost:8080/"
        },
        "outputId": "fd765e8f-aeb4-48c2-de1b-fd502fba543f"
      },
      "outputs": [
        {
          "output_type": "stream",
          "name": "stdout",
          "text": [
            "Loss = 0.15113720240443945   Accuracy= 0.95225\n"
          ]
        }
      ],
      "source": [
        "y_pred, test_loss, test_acc  = test(model=model,\n",
        "                                    dataloader=test_loader_a,\n",
        "                                    loss_fn=loss_fn,\n",
        "                                    device=device,\n",
        "                                    verbatim = True)"
      ]
    },
    {
      "cell_type": "code",
      "source": [
        "# Load the model\n",
        "model = Network()\n",
        "model = model.to(device)\n",
        "\n",
        "# Path to the saved model\n",
        "saved_model_path = \"./myModel_best_A-9535.pth\"\n",
        "\n",
        "# Load the model's state dictionary\n",
        "checkpoint = torch.load(saved_model_path, map_location=device)\n",
        "model.load_state_dict(checkpoint)\n",
        "\n",
        "# Set model to evaluation mode if you're testing/inferencing\n",
        "model.eval()\n",
        "\n",
        "y_pred, test_loss, test_acc  = test(model=model,\n",
        "                                    dataloader=test_loader,\n",
        "                                    loss_fn=loss_fn,\n",
        "                                    device=device,\n",
        "                                    verbatim = True)"
      ],
      "metadata": {
        "colab": {
          "base_uri": "https://localhost:8080/"
        },
        "id": "adhn-YZR0DlP",
        "outputId": "e1f25f13-db9e-4b67-f4c7-3130b7e2d26c"
      },
      "execution_count": null,
      "outputs": [
        {
          "output_type": "stream",
          "name": "stderr",
          "text": [
            "<ipython-input-54-0ab62ce3ef41>:9: FutureWarning: You are using `torch.load` with `weights_only=False` (the current default value), which uses the default pickle module implicitly. It is possible to construct malicious pickle data which will execute arbitrary code during unpickling (See https://github.com/pytorch/pytorch/blob/main/SECURITY.md#untrusted-models for more details). In a future release, the default value for `weights_only` will be flipped to `True`. This limits the functions that could be executed during unpickling. Arbitrary objects will no longer be allowed to be loaded via this mode unless they are explicitly allowlisted by the user via `torch.serialization.add_safe_globals`. We recommend you start setting `weights_only=True` for any use case where you don't have full control of the loaded file. Please open an issue on GitHub for any issues related to this experimental feature.\n",
            "  checkpoint = torch.load(saved_model_path, map_location=device)\n"
          ]
        },
        {
          "output_type": "stream",
          "name": "stdout",
          "text": [
            "Loss = 0.2049230250851251   Accuracy= 0.9515\n"
          ]
        }
      ]
    },
    {
      "cell_type": "markdown",
      "source": [
        "# b)"
      ],
      "metadata": {
        "id": "F04l3TiwAR6z"
      }
    },
    {
      "cell_type": "code",
      "source": [
        "# Binary Classification DataFrame\n",
        "df_anomaly = df.copy()\n",
        "\n",
        "# Filter out the \"No-Anomaly\" class\n",
        "df_anomaly = df_anomaly[df_anomaly[\"anomaly_class\"] != \"No-Anomaly\"]\n",
        "\n",
        "# Map string labels to numerical labels\n",
        "df_anomaly['anomaly_class'] = df_anomaly['anomaly_class'].apply(\n",
        "    lambda x: 0 if x == 'Cell'\n",
        "              else 1 if x == 'Cell-Multi'\n",
        "              else 2 if x == 'Cracking'\n",
        "              else 3 if x == 'Hot-Spot'\n",
        "              else 4 if x == 'Hot-Spot-Multi'\n",
        "              else 5 if x == 'Shadowing'\n",
        "              else 6 if x == 'Diode'\n",
        "              else 7 if x == 'Diode-Multi'\n",
        "              else 8 if x == 'Vegetation'\n",
        "              else 9 if x == 'Soiling'\n",
        "              else 10 if x == 'Offline-Module'\n",
        "              else 11\n",
        ")\n",
        "\n",
        "# Print the class distribution\n",
        "anomaly_counts = df_anomaly['anomaly_class'].value_counts()\n",
        "print(\"Counts of each anomaly type:\")\n",
        "print(anomaly_counts)\n",
        "\n",
        "\n"
      ],
      "metadata": {
        "id": "AKzIq_Q3-ULQ",
        "outputId": "a5d07b5d-1820-4419-fe85-3f8d92406a80",
        "colab": {
          "base_uri": "https://localhost:8080/"
        }
      },
      "execution_count": null,
      "outputs": [
        {
          "output_type": "stream",
          "name": "stdout",
          "text": [
            "Counts of each anomaly type:\n",
            "anomaly_class\n",
            "0     1877\n",
            "8     1639\n",
            "6     1499\n",
            "1     1288\n",
            "5     1056\n",
            "2      940\n",
            "10     827\n",
            "3      249\n",
            "4      246\n",
            "9      204\n",
            "7      175\n",
            "Name: count, dtype: int64\n"
          ]
        }
      ]
    },
    {
      "cell_type": "code",
      "source": [
        "train_ratio_b = 0.9\n",
        "train_data_b, test_data_b = train_test_split(df_anomaly, test_size=(1 - train_ratio_b), train_size=train_ratio_b, random_state=2, stratify=df_anomaly['anomaly_class'])\n",
        "\n",
        "train_data_b.reset_index(drop=True, inplace=True)\n",
        "test_data_b.reset_index(drop=True, inplace=True)"
      ],
      "metadata": {
        "id": "Ea34nsxZ_qmI"
      },
      "execution_count": null,
      "outputs": []
    },
    {
      "cell_type": "code",
      "source": [
        "transform_augmentation_1 = transforms.Compose([\n",
        "    transforms.RandomHorizontalFlip(p=1),   # Random horizontal flip\n",
        "    transforms.ToTensor(),\n",
        "])\n",
        "\n",
        "transform_augmentation_2 = transforms.Compose([\n",
        "    transforms.RandomVerticalFlip(p=1),\n",
        "    transforms.ToTensor(),\n",
        "])\n",
        "\n",
        "transform_augmentation_3 = transforms.Compose([\n",
        "    transforms.RandomVerticalFlip(p=1),\n",
        "    transforms.RandomHorizontalFlip(p=1),\n",
        "    transforms.ToTensor(),\n",
        "])\n",
        "\n",
        "train_transform = transforms.Compose([\n",
        "    #transforms.RandomVerticalFlip(p=0.5),\n",
        "    #transforms.RandomHorizontalFlip(p=0.5),\n",
        "    transforms.RandomRotation(10),\n",
        "    transforms.RandomCrop((40, 24), padding=1),  # Random crop with padding\n",
        "    transforms.ColorJitter(brightness=0.2, contrast=0.2),  # Color jitter\n",
        "    transforms.ToTensor(),\n",
        "    transforms.Normalize(mean=[0.5], std=[0.5])\n",
        "])\n",
        "\n",
        "# Testing transform without augmentation\n",
        "test_transform = transforms.Compose([\n",
        "    transforms.ToTensor(),\n",
        "    transforms.Normalize(mean=[0.5], std=[0.5])\n",
        "])"
      ],
      "metadata": {
        "id": "tOKcoYkdlLZL"
      },
      "execution_count": null,
      "outputs": []
    },
    {
      "cell_type": "code",
      "source": [
        "train_data_b_counts = train_data_b['anomaly_class'].value_counts()\n",
        "print(\"Counts of each anomaly type:\")\n",
        "print(train_data_b_counts)\n",
        "print(\"Size:\", len(train_data_b), \"\\n\")\n",
        "\n",
        "# Datasets\n",
        "train_data_b_balanced = train_data_b.copy()\n",
        "\n",
        "largest_class_count = train_data_b_counts.max()\n",
        "ratios = largest_class_count / train_data_b_counts\n",
        "max_ratio = 4\n",
        "ratios = np.minimum(ratios, max_ratio)\n",
        "\n",
        "ratios_sorted = ratios.sort_index()\n",
        "ratios_matrix=[]\n",
        "\n",
        "for label, ratio in ratios_sorted.items():\n",
        "    ratios_matrix.append([label, ratio])\n",
        "ratios_matrix[0][1]+=0.1\n",
        "print(ratios_matrix)\n",
        "\n",
        "\n",
        "\n",
        "directory = \"/content/images_b\"\n",
        "if os.path.exists(directory):\n",
        "    for filename in os.listdir(directory):\n",
        "        file_path = os.path.join(directory, filename)\n",
        "        try:\n",
        "            if os.path.isdir(file_path):\n",
        "                shutil.rmtree(file_path)\n",
        "            else:\n",
        "                os.remove(file_path)\n",
        "        except Exception as e:\n",
        "            print(f\"Error deleting file {file_path}: {e}\")\n",
        "else:\n",
        "    os.makedirs(directory, exist_ok=True)\n",
        "\n",
        "\n",
        "\n",
        "for i in range(len(train_data_b)):\n",
        "    # Get the row for the current sample\n",
        "    row = train_data_b.iloc[i]\n",
        "    image_path = row[\"image_filepath\"]  # Path to the image\n",
        "    label = row[\"anomaly_class\"]       # Corresponding label\n",
        "\n",
        "    # Load the image using PIL\n",
        "    image_pil = Image.open(image_path).convert(\"L\")\n",
        "\n",
        "    # Get the ratio for this class\n",
        "    ratio = ratios_matrix[int(label)][1]\n",
        "\n",
        "    # Split the ratio into integer and fractional parts\n",
        "    int_part = int(ratio)  # Deterministic augmentations\n",
        "    frac_part = ratio - int_part  # Fractional part for probabilistic augmentation\n",
        "    num1,num2 = random.sample(range(1, 3), 2)\n",
        "    # Perform deterministic augmentations\n",
        "    for n in range(int_part-1):  # Subtract 1 because the original image already counts as 1\n",
        "        random_number = random.randint(1, 3)\n",
        "        if(int_part==1):\n",
        "            if(random_number==1):\n",
        "                transform_augmentation = transform_augmentation_1\n",
        "            elif(random_number==2):\n",
        "                transform_augmentation = transform_augmentation_2\n",
        "            elif(random_number==3):\n",
        "                transform_augmentation = transform_augmentation_3\n",
        "        elif(int_part==2 and n==0):\n",
        "            if(num1==1):\n",
        "                transform_augmentation = transform_augmentation_1\n",
        "            elif(num1==2):\n",
        "                transform_augmentation = transform_augmentation_2\n",
        "            elif(num1==3):\n",
        "                transform_augmentation = transform_augmentation_3\n",
        "        elif(int_part==2 and n==1):\n",
        "            if(num2==1):\n",
        "                transform_augmentation = transform_augmentation_1\n",
        "            elif(num2==2):\n",
        "                transform_augmentation = transform_augmentation_2\n",
        "            elif(num2==3):\n",
        "                transform_augmentation = transform_augmentation_3\n",
        "        elif(int_part==3 and n==0):\n",
        "            transform_augmentation = transform_augmentation_1\n",
        "        elif(int_part==3 and n==1):\n",
        "            transform_augmentation = transform_augmentation_2\n",
        "        elif(int_part==3 and n==2):\n",
        "            transform_augmentation = transform_augmentation_3\n",
        "        elif(int_part==4 and n==0):\n",
        "            transform_augmentation = transform_augmentation_1\n",
        "        elif(int_part==4 and n==1):\n",
        "            transform_augmentation = transform_augmentation_2\n",
        "        elif(int_part==4 and n==2):\n",
        "            transform_augmentation = transform_augmentation_3\n",
        "        elif(int_part==4 and n==3):\n",
        "            if(random_number==1):\n",
        "                transform_augmentation = transform_augmentation_1\n",
        "            elif(random_number==2):\n",
        "                transform_augmentation = transform_augmentation_2\n",
        "            elif(random_number==3):\n",
        "                transform_augmentation = transform_augmentation_3\n",
        "        transformed_image = transform_augmentation(image_pil)\n",
        "        if isinstance(transformed_image, torch.Tensor):\n",
        "            transformed_image = transforms.ToPILImage()(transformed_image)\n",
        "        new_image_path = os.path.join(directory, f\"transformed_image_{int(label)}_{i}_{n}.jpg\")\n",
        "        transformed_image.save(new_image_path, format=\"JPEG\", quality=95)\n",
        "        new_row = {\"image_filepath\": new_image_path, \"anomaly_class\": int(label)}\n",
        "        train_data_b_balanced = pd.concat([train_data_b_balanced, pd.DataFrame([new_row])], ignore_index=True)\n",
        "\n",
        "    # Perform probabilistic augmentation for the fractional part\n",
        "    if random.random() < frac_part:  # Augment with probability equal to the fractional part\n",
        "        random_number = random.randint(1, 3)\n",
        "        if(random_number==1):\n",
        "            transform_augmentation = transform_augmentation_1\n",
        "        elif(random_number==2):\n",
        "            transform_augmentation = transform_augmentation_2\n",
        "        elif(random_number==3):\n",
        "            transform_augmentation = transform_augmentation_3\n",
        "        transformed_image = transform_augmentation(image_pil)\n",
        "        x=1\n",
        "        if isinstance(transformed_image, torch.Tensor):\n",
        "            transformed_image = transforms.ToPILImage()(transformed_image)\n",
        "        new_image_path = os.path.join(directory, f\"transformed_image_2_{int(label)}_{i}_{x}.jpg\")\n",
        "        x+=1\n",
        "        transformed_image.save(new_image_path, format=\"JPEG\", quality=95)\n",
        "        new_row = {\"image_filepath\": new_image_path, \"anomaly_class\": int(label)}\n",
        "        train_data_b_balanced = pd.concat([train_data_b_balanced, pd.DataFrame([new_row])], ignore_index=True)\n",
        "\n",
        "\n",
        "train_data_b_balanced_counts = train_data_b_balanced['anomaly_class'].value_counts()\n",
        "print(\"\\nCounts of each anomaly type:\")\n",
        "print(train_data_b_balanced_counts)\n",
        "print(\"Size:\", len(train_data_b_balanced))"
      ],
      "metadata": {
        "id": "VqVlKmP7Cy17",
        "outputId": "17fe53de-b723-4b7e-98a1-57c2782da52f",
        "colab": {
          "base_uri": "https://localhost:8080/"
        }
      },
      "execution_count": null,
      "outputs": [
        {
          "output_type": "stream",
          "name": "stdout",
          "text": [
            "Counts of each anomaly type:\n",
            "anomaly_class\n",
            "0     1689\n",
            "8     1475\n",
            "6     1349\n",
            "1     1159\n",
            "5      950\n",
            "2      846\n",
            "10     744\n",
            "3      224\n",
            "4      222\n",
            "9      184\n",
            "7      158\n",
            "Name: count, dtype: int64\n",
            "Size: 9000 \n",
            "\n",
            "[[0, 1.1], [1, 1.4572907679033649], [2, 1.99645390070922], [3, 4.0], [4, 4.0], [5, 1.7778947368421052], [6, 1.252038547071905], [7, 4.0], [8, 1.1450847457627118], [9, 4.0], [10, 2.2701612903225805]]\n",
            "\n",
            "Counts of each anomaly type:\n",
            "anomaly_class\n",
            "0     1846\n",
            "1     1713\n",
            "6     1699\n",
            "8     1696\n",
            "10    1692\n",
            "2     1686\n",
            "5     1684\n",
            "3      896\n",
            "4      888\n",
            "9      736\n",
            "7      632\n",
            "Name: count, dtype: int64\n",
            "Size: 15168\n"
          ]
        }
      ]
    },
    {
      "cell_type": "code",
      "source": [
        "class MyImageDataset_b(data.Dataset):\n",
        "    def __init__(self, metadata, transform=None, img_mode=\"L\"):\n",
        "\n",
        "        self.img_labels = metadata[\"anomaly_class\"].values\n",
        "        self.img_paths = metadata[\"image_filepath\"].values\n",
        "        self.transform = transform\n",
        "        self.img_mode = img_mode\n",
        "\n",
        "    def __len__(self):\n",
        "        return len(self.img_labels)\n",
        "\n",
        "    def __getitem__(self, idx):\n",
        "\n",
        "        try:\n",
        "            img_path = self.img_paths[idx]\n",
        "\n",
        "            # Ensure the image file exists\n",
        "            if not os.path.exists(img_path):\n",
        "                raise FileNotFoundError(f\"Image file not found: {img_path}\")\n",
        "\n",
        "            # Open and convert the image\n",
        "            image = Image.open(img_path).convert(self.img_mode)\n",
        "            label = self.img_labels[idx]\n",
        "\n",
        "            # Apply transformations if specified\n",
        "            if self.transform:\n",
        "                image = self.transform(image)\n",
        "\n",
        "            return image, torch.tensor(label, dtype=torch.long)\n",
        "\n",
        "        except Exception as e:\n",
        "            raise RuntimeError(f\"Error loading sample at index {idx}: {e}\")"
      ],
      "metadata": {
        "id": "dX2XQBXdu_e4"
      },
      "execution_count": null,
      "outputs": []
    },
    {
      "cell_type": "code",
      "source": [
        "# DataLoaders\n",
        "#train_dataset_b_balanced = MyImageDataset_b(metadata=train_data_b, transform=train_transform)\n",
        "train_dataset_b_balanced = MyImageDataset_b(metadata=train_data_b_balanced, transform=train_transform)\n",
        "test_dataset_b = MyImageDataset_b(metadata=test_data_b, transform=test_transform)\n",
        "\n",
        "batch_size = 32\n",
        "train_loader_b = data.DataLoader(dataset=train_dataset_b_balanced, batch_size=batch_size, shuffle=True)\n",
        "test_loader_b = data.DataLoader(dataset=test_dataset_b, batch_size=batch_size, shuffle=False)"
      ],
      "metadata": {
        "id": "A_LAR0ETThtP"
      },
      "execution_count": null,
      "outputs": []
    },
    {
      "cell_type": "code",
      "source": [
        "# Obtém um batch de imagens, seus rótulos e os caminhos\n",
        "images_b, labels_b = next(iter(train_loader_b))  # Pega o primeiro batch\n",
        "print(labels_b[0])\n",
        "\n",
        "# Desfazendo a normalização para as imagens\n",
        "images_b = images_b * 0.5 + 0.5  # Inverte a normalização, para voltar ao intervalo [0, 1]\n",
        "\n",
        "# Cria uma figura com múltiplos subplots\n",
        "fig, axes = plt.subplots(4, 8, figsize=(20, 10))  # 4 linhas e 8 colunas\n",
        "axes = axes.flatten()  # Para facilitar o acesso aos eixos (axes)\n",
        "\n",
        "# Loop para exibir as 32 primeiras imagens do batch\n",
        "for i in range(len(images_b)):\n",
        "    image = images_b[i]  # Pega a i-ésima imagem do batch\n",
        "    image_pil = transforms.ToPILImage()(image)  # Converte o tensor para uma imagem PIL\n",
        "\n",
        "    # Exibe a imagem\n",
        "    axes[i].imshow(image_pil)\n",
        "    axes[i].set_title(f\"Label: {labels_b[i].item()}\")  # Exibe o rótulo e o caminho do arquivo\n",
        "    axes[i].axis('off')  # Remove os eixos para uma exibição mais limpa\n",
        "\n",
        "print(images_b[0].shape)\n",
        "plt.tight_layout()  # Ajusta o layout para que as imagens não se sobreponham\n",
        "plt.show()"
      ],
      "metadata": {
        "colab": {
          "base_uri": "https://localhost:8080/",
          "height": 655
        },
        "id": "V1wJgQgRDeXH",
        "outputId": "c93d4b6f-39b0-4c79-a849-e9506fc67999"
      },
      "execution_count": null,
      "outputs": [
        {
          "output_type": "stream",
          "name": "stdout",
          "text": [
            "tensor(0)\n",
            "torch.Size([1, 40, 24])\n"
          ]
        },
        {
          "output_type": "display_data",
          "data": {
            "text/plain": [
              "<Figure size 2000x1000 with 32 Axes>"
            ],
            "image/png": "[encoded data removed]"
          },
          "metadata": {}
        }
      ]
    },
    {
      "cell_type": "code",
      "source": [
        "# Function to save the model\n",
        "def saveModel(model:nn.Module, path):\n",
        "    torch.save(model.state_dict(), path)\n",
        "\n",
        "# Training function. We simply have to loop over our data iterator and feed the inputs to the network and optimize.\n",
        "def train(model: torch.nn.Module,\n",
        "          dataloader: torch.utils.data.DataLoader,\n",
        "          loss_fn: torch.nn.Module,\n",
        "          optimizer: torch.optim.Optimizer,\n",
        "          device: torch.device,\n",
        "          num_epochs,\n",
        "          path_model,\n",
        "          verbatim):\n",
        "    model.train()\n",
        "    model.to(device)\n",
        "    best_accuracy = 0.0\n",
        "    best_loss = 0.0\n",
        "    best_epoch = 0\n",
        "    for epoch in tqdm(range(num_epochs), desc=\"Epochs\", unit=\"epoch\"):  # Adicionando a barra de progresso para os epochs\n",
        "\n",
        "        train_acc = 0.0\n",
        "        train_loss = 0.0\n",
        "        for ibatch, (images, labels) in enumerate(dataloader):  # Adicionando a barra de progresso para os batches\n",
        "\n",
        "            # get the inputs\n",
        "            images = images.to(device)\n",
        "            labels = labels.to(device)\n",
        "\n",
        "            # 1. Forward pass\n",
        "            y_pred = model(images)\n",
        "            y_pred = y_pred.squeeze(dim=1)\n",
        "\n",
        "            # 2. Calculate  and accumulate loss\n",
        "            loss = loss_fn(y_pred, labels)\n",
        "            train_loss += loss.item()\n",
        "\n",
        "            # 3. Optimizer zero grad\n",
        "            optimizer.zero_grad()\n",
        "\n",
        "            # 4. Loss backward\n",
        "            loss.backward()\n",
        "\n",
        "            # 5. Optimizer step\n",
        "            optimizer.step()\n",
        "\n",
        "            # Calculate and accumulate accuracy metric across all batches\n",
        "            y_pred_class = torch.argmax(torch.softmax(y_pred, dim=1), dim=1)\n",
        "            train_acc += (y_pred_class == labels).sum().item()/len(y_pred)\n",
        "\n",
        "        # Adjust metrics to get average loss and accuracy per batch\n",
        "        train_loss = train_loss / len(dataloader)\n",
        "        train_acc = train_acc / len(dataloader)\n",
        "\n",
        "        # we want to save the model if the accuracy is the best\n",
        "\n",
        "\n",
        "        if train_acc > best_accuracy:\n",
        "            path = str(path_model)\n",
        "            saveModel(model, path = path)\n",
        "            best_loss = train_loss\n",
        "            best_accuracy = train_acc\n",
        "            best_epoch = epoch\n",
        "            if verbatim:\n",
        "              print('Best Epoch #', epoch,' Loss=', best_loss, \" Accu=\", best_accuracy )\n",
        "\n",
        "    return best_loss, best_accuracy, best_epoch"
      ],
      "metadata": {
        "id": "rfD_Rnvod-Mw"
      },
      "execution_count": null,
      "outputs": []
    },
    {
      "cell_type": "code",
      "source": [
        "# Function to test the model with the test dataset and print the accuracy for the test images\n",
        "def test(model: torch.nn.Module,\n",
        "         dataloader: torch.utils.data.DataLoader,\n",
        "         loss_fn: torch.nn.Module,\n",
        "         device: torch.device,\n",
        "         verbatim = True):\n",
        "\n",
        "    # Put model in eval mode\n",
        "    model.eval()\n",
        "    model.to(device)\n",
        "    # Setup test loss and test accuracy values\n",
        "    test_loss, test_acc = 0, 0\n",
        "    pred_labels = []\n",
        "    with torch.no_grad():\n",
        "        for data in dataloader:\n",
        "\n",
        "            # get the inputs\n",
        "            images, labels = data\n",
        "            images = Variable(images.to(device))\n",
        "            labels = Variable(labels.to(device))\n",
        "\n",
        "            # 1. run the model on the test set to predict labels\n",
        "            y_pred = model(images)\n",
        "\n",
        "            # 2. Calculate and accumulate loss\n",
        "            loss = loss_fn(y_pred, labels)\n",
        "            test_loss += loss.item()\n",
        "\n",
        "            # 3. Calculate and accumulate accuracy\n",
        "            y_pred_class = torch.argmax(torch.softmax(y_pred, dim=1), dim=1)\n",
        "            test_acc += (y_pred_class == labels).sum().item()/len(y_pred)\n",
        "            pred_labels = y_pred_class.tolist()\n",
        "\n",
        "    # Adjust metrics to get average loss and accuracy per batch\n",
        "    test_loss = test_loss / len(dataloader)\n",
        "    test_acc = test_acc / len(dataloader)\n",
        "\n",
        "    if verbatim:\n",
        "      print(\"Loss =\", test_loss, \"  Accuracy=\", test_acc)\n",
        "    return pred_labels, test_loss, test_acc\n"
      ],
      "metadata": {
        "id": "xx0DV8jWeDCH"
      },
      "execution_count": null,
      "outputs": []
    },
    {
      "cell_type": "code",
      "source": [
        "class Network_b(nn.Module):\n",
        "    def __init__(self):\n",
        "        super().__init__()\n",
        "\n",
        "        # Convolutional and pooling layers with kernel size 5x5 for the first two layers, 3x3 for the third layer\n",
        "        self.conv1 = nn.Conv2d(1, 128, 3)\n",
        "        self.bn1 = nn.BatchNorm2d(128)\n",
        "        self.pool1 = nn.MaxPool2d(2, 2)\n",
        "\n",
        "        self.conv2 = nn.Conv2d(128, 256, 3)\n",
        "        self.bn2 = nn.BatchNorm2d(256)\n",
        "        self.pool2 = nn.MaxPool2d(2, 1)\n",
        "\n",
        "        self.conv3 = nn.Conv2d(256, 512, 3)\n",
        "        self.bn3 = nn.BatchNorm2d(512)\n",
        "        self.pool3 = nn.MaxPool2d(2, 2)\n",
        "\n",
        "        self.conv4 = nn.Conv2d(512, 512, 3)  # Extra layer\n",
        "        self.bn4 = nn.BatchNorm2d(512)\n",
        "\n",
        "        self.dropout_conv = nn.Dropout2d(0.2)\n",
        "\n",
        "        # Calculating the correct input size for the fully connected layer\n",
        "        # Initial    : (40, 24)\n",
        "        # After conv1: (38, 22)\n",
        "        # After pool1: (19, 11)\n",
        "        # After conv2: (17, 9)\n",
        "        # After pool2: (16, 8)\n",
        "        # After conv3: (14, 6)\n",
        "        # After pool3: (7, 3)\n",
        "        # After conv4: (5, 1)\n",
        "\n",
        "        self.fc1 = nn.Linear(512 * 5 * 1, 2048)   # Increase neurons\n",
        "        self.bn_fc1 = nn.BatchNorm1d(2048)        #  TIR\n",
        "        self.dropout1 = nn.Dropout(0.4)           # Dropout\n",
        "\n",
        "        self.fc2 = nn.Linear(2048, 1024)          # Add capacity\n",
        "        self.bn_fc2 = nn.BatchNorm1d(1024)        # Batch normalization\n",
        "        self.dropout2 = nn.Dropout(0.5)\n",
        "\n",
        "        self.fc3 = nn.Linear(1024, 256)           # Add another layer\n",
        "        self.dropout3 = nn.Dropout(0.5)\n",
        "\n",
        "        self.fc4 = nn.Linear(256, 11)\n",
        "\n",
        "    def forward(self, x):\n",
        "        # First convolutional layer, ReLU, and pooling\n",
        "        x = self.pool1(F.relu(self.bn1(self.conv1(x))))\n",
        "        x = self.pool2(F.relu(self.bn2(self.conv2(x))))\n",
        "        x = self.pool3(F.relu(self.bn3(self.conv3(x))))\n",
        "\n",
        "        # Optional additional convolutional layer\n",
        "        x = F.relu(self.bn4(self.conv4(x)))\n",
        "\n",
        "        x = self.dropout_conv(x)  # Dropout after conv layers\n",
        "        x = torch.flatten(x, 1)\n",
        "\n",
        "        # Fully connected layers\n",
        "        x = F.relu(self.bn_fc1(self.fc1(x)))   # Apply batch normalization after fc1\n",
        "        x = self.dropout1(x)                 # Apply dropout after activation\n",
        "\n",
        "        x = F.relu(self.bn_fc2(self.fc2(x)))  # Apply batch normalization after fc2\n",
        "        x = self.dropout2(x)\n",
        "\n",
        "        x = F.relu(self.fc3(x))               # Third fully connected layer, no batch norm\n",
        "        x = self.dropout3(x)                  # Dropout to prevent overfitting\n",
        "\n",
        "        x = self.fc4(x)\n",
        "\n",
        "        return x\n",
        "\n",
        "model_b = Network_b()\n",
        "\n",
        "class_labels = train_data_b_balanced['anomaly_class'].values\n",
        "class_weights = compute_class_weight(class_weight='balanced', classes=np.unique(class_labels), y=class_labels)\n",
        "class_weights /= class_weights.sum()\n",
        "\n",
        "class_weights = torch.tensor(class_weights, dtype=torch.float).to(device)\n",
        "\n",
        "#loss_fn_b = nn.CrossEntropyLoss().to(device)\n",
        "loss_fn_b = nn.CrossEntropyLoss(weight=class_weights).to(device)\n",
        "#loss_fn_b = nn.CrossEntropyLoss().to(device)\n",
        "\n",
        "# Define the optimizer\n",
        "#optimizer = torch.optim.SGD(model.parameters(), lr=0.0025, momentum=0.9, weight_decay=1e-4)\n",
        "optimizer_b = torch.optim.Adam(model_b.parameters(), lr=0.0001, weight_decay=5e-4)"
      ],
      "metadata": {
        "id": "6LvYXJzjEvPn"
      },
      "execution_count": null,
      "outputs": []
    },
    {
      "cell_type": "code",
      "source": [
        "if __name__ == \"__main__\":\n",
        "\n",
        "    model = model_b.to(device)\n",
        "\n",
        "    # Build our model\n",
        "    best_loss, best_accuracy, best_epoch = train(model=model_b,\n",
        "                                                    dataloader=train_loader_b,\n",
        "                                                    loss_fn=loss_fn_b,\n",
        "                                                    optimizer=optimizer_b,\n",
        "                                                    device=device,\n",
        "                                                    num_epochs = 20,\n",
        "                                                    path_model = str(\"./myModel_best_A_b.pth\"),\n",
        "                                                    verbatim = True)"
      ],
      "metadata": {
        "colab": {
          "base_uri": "https://localhost:8080/"
        },
        "id": "fzSxVHrwFySX",
        "outputId": "3bb363f1-1bd0-4a38-8499-42e40a81a29d"
      },
      "execution_count": null,
      "outputs": [
        {
          "output_type": "stream",
          "name": "stderr",
          "text": [
            "Epochs:   5%|▌         | 1/20 [00:42<13:27, 42.49s/epoch]"
          ]
        },
        {
          "output_type": "stream",
          "name": "stdout",
          "text": [
            "New Best Model at Epoch 0: Test Accuracy = 0.3854, Test Loss = 1.7922\n"
          ]
        },
        {
          "output_type": "stream",
          "name": "stderr",
          "text": [
            "\rEpochs:  10%|█         | 2/20 [01:24<12:39, 42.19s/epoch]"
          ]
        },
        {
          "output_type": "stream",
          "name": "stdout",
          "text": [
            "New Best Model at Epoch 1: Test Accuracy = 0.4717, Test Loss = 1.4789\n"
          ]
        },
        {
          "output_type": "stream",
          "name": "stderr",
          "text": [
            "\rEpochs:  15%|█▌        | 3/20 [02:05<11:50, 41.78s/epoch]"
          ]
        },
        {
          "output_type": "stream",
          "name": "stdout",
          "text": [
            "New Best Model at Epoch 2: Test Accuracy = 0.5034, Test Loss = 1.4494\n"
          ]
        },
        {
          "output_type": "stream",
          "name": "stderr",
          "text": [
            "\rEpochs:  20%|██        | 4/20 [02:48<11:12, 42.04s/epoch]"
          ]
        },
        {
          "output_type": "stream",
          "name": "stdout",
          "text": [
            "New Best Model at Epoch 3: Test Accuracy = 0.6005, Test Loss = 1.0887\n"
          ]
        },
        {
          "output_type": "stream",
          "name": "stderr",
          "text": [
            "\rEpochs:  25%|██▌       | 5/20 [03:30<10:33, 42.22s/epoch]"
          ]
        },
        {
          "output_type": "stream",
          "name": "stdout",
          "text": [
            "New Best Model at Epoch 4: Test Accuracy = 0.6092, Test Loss = 1.0437\n"
          ]
        },
        {
          "output_type": "stream",
          "name": "stderr",
          "text": [
            "\rEpochs:  30%|███       | 6/20 [04:13<09:51, 42.28s/epoch]"
          ]
        },
        {
          "output_type": "stream",
          "name": "stdout",
          "text": [
            "New Best Model at Epoch 5: Test Accuracy = 0.6361, Test Loss = 0.9703\n"
          ]
        },
        {
          "output_type": "stream",
          "name": "stderr",
          "text": [
            "Epochs:  40%|████      | 8/20 [05:36<08:24, 42.08s/epoch]"
          ]
        },
        {
          "output_type": "stream",
          "name": "stdout",
          "text": [
            "New Best Model at Epoch 7: Test Accuracy = 0.6893, Test Loss = 0.8573\n"
          ]
        },
        {
          "output_type": "stream",
          "name": "stderr",
          "text": [
            "Epochs:  50%|█████     | 10/20 [07:01<07:01, 42.12s/epoch]"
          ]
        },
        {
          "output_type": "stream",
          "name": "stdout",
          "text": [
            "New Best Model at Epoch 9: Test Accuracy = 0.7021, Test Loss = 0.7619\n"
          ]
        },
        {
          "output_type": "stream",
          "name": "stderr",
          "text": [
            "\rEpochs:  55%|█████▌    | 11/20 [07:43<06:18, 42.11s/epoch]"
          ]
        },
        {
          "output_type": "stream",
          "name": "stdout",
          "text": [
            "New Best Model at Epoch 10: Test Accuracy = 0.7408, Test Loss = 0.6720\n"
          ]
        },
        {
          "output_type": "stream",
          "name": "stderr",
          "text": [
            "\rEpochs:  60%|██████    | 12/20 [08:24<05:35, 41.98s/epoch]"
          ]
        },
        {
          "output_type": "stream",
          "name": "stdout",
          "text": [
            "New Best Model at Epoch 11: Test Accuracy = 0.7563, Test Loss = 0.6275\n"
          ]
        },
        {
          "output_type": "stream",
          "name": "stderr",
          "text": [
            "\rEpochs:  65%|██████▌   | 13/20 [09:07<04:55, 42.16s/epoch]"
          ]
        },
        {
          "output_type": "stream",
          "name": "stdout",
          "text": [
            "New Best Model at Epoch 12: Test Accuracy = 0.7648, Test Loss = 0.5996\n"
          ]
        },
        {
          "output_type": "stream",
          "name": "stderr",
          "text": [
            "\rEpochs:  70%|███████   | 14/20 [09:49<04:12, 42.16s/epoch]"
          ]
        },
        {
          "output_type": "stream",
          "name": "stdout",
          "text": [
            "New Best Model at Epoch 13: Test Accuracy = 0.7813, Test Loss = 0.5680\n"
          ]
        },
        {
          "output_type": "stream",
          "name": "stderr",
          "text": [
            "\rEpochs:  75%|███████▌  | 15/20 [10:31<03:30, 42.15s/epoch]"
          ]
        },
        {
          "output_type": "stream",
          "name": "stdout",
          "text": [
            "New Best Model at Epoch 14: Test Accuracy = 0.7890, Test Loss = 0.5329\n"
          ]
        },
        {
          "output_type": "stream",
          "name": "stderr",
          "text": [
            "\rEpochs:  80%|████████  | 16/20 [11:14<02:48, 42.20s/epoch]"
          ]
        },
        {
          "output_type": "stream",
          "name": "stdout",
          "text": [
            "New Best Model at Epoch 15: Test Accuracy = 0.7900, Test Loss = 0.5269\n"
          ]
        },
        {
          "output_type": "stream",
          "name": "stderr",
          "text": [
            "\rEpochs:  85%|████████▌ | 17/20 [11:55<02:05, 41.85s/epoch]"
          ]
        },
        {
          "output_type": "stream",
          "name": "stdout",
          "text": [
            "New Best Model at Epoch 16: Test Accuracy = 0.8079, Test Loss = 0.4721\n"
          ]
        },
        {
          "output_type": "stream",
          "name": "stderr",
          "text": [
            "\rEpochs:  90%|█████████ | 18/20 [12:36<01:23, 41.81s/epoch]"
          ]
        },
        {
          "output_type": "stream",
          "name": "stdout",
          "text": [
            "New Best Model at Epoch 17: Test Accuracy = 0.8273, Test Loss = 0.4495\n"
          ]
        },
        {
          "output_type": "stream",
          "name": "stderr",
          "text": [
            "Epochs: 100%|██████████| 20/20 [14:02<00:00, 42.13s/epoch]"
          ]
        },
        {
          "output_type": "stream",
          "name": "stdout",
          "text": [
            "New Best Model at Epoch 19: Test Accuracy = 0.8433, Test Loss = 0.3899\n"
          ]
        },
        {
          "output_type": "stream",
          "name": "stderr",
          "text": [
            "\n"
          ]
        }
      ]
    },
    {
      "cell_type": "code",
      "source": [
        "model_test_b = Network_b()\n",
        "model_test_b = model.to(device)\n",
        "\n",
        "saved_model_path = \"./myModel_best_A_b.pth\"\n",
        "checkpoint = torch.load(saved_model_path, map_location=device)\n",
        "model_test_b.load_state_dict(checkpoint)\n",
        "model_test_b.eval()\n",
        "\n",
        "y_pred, test_loss, test_acc  = test(model=model_test_b,\n",
        "                                    dataloader=test_loader_b,\n",
        "                                    loss_fn=loss_fn_b,\n",
        "                                    device=device,\n",
        "                                    verbatim = True)"
      ],
      "metadata": {
        "colab": {
          "base_uri": "https://localhost:8080/"
        },
        "id": "0T7TY4UqGFlP",
        "outputId": "32d9a071-1a2a-4a80-db21-8e3133ca3468"
      },
      "execution_count": null,
      "outputs": [
        {
          "output_type": "stream",
          "name": "stderr",
          "text": [
            "<ipython-input-57-42b10f58806f>:8: FutureWarning: You are using `torch.load` with `weights_only=False` (the current default value), which uses the default pickle module implicitly. It is possible to construct malicious pickle data which will execute arbitrary code during unpickling (See https://github.com/pytorch/pytorch/blob/main/SECURITY.md#untrusted-models for more details). In a future release, the default value for `weights_only` will be flipped to `True`. This limits the functions that could be executed during unpickling. Arbitrary objects will no longer be allowed to be loaded via this mode unless they are explicitly allowlisted by the user via `torch.serialization.add_safe_globals`. We recommend you start setting `weights_only=True` for any use case where you don't have full control of the loaded file. Please open an issue on GitHub for any issues related to this experimental feature.\n",
            "  checkpoint = torch.load(saved_model_path, map_location=device)\n"
          ]
        },
        {
          "output_type": "stream",
          "name": "stdout",
          "text": [
            "Loss = 0.9162224745377898   Accuracy= 0.732421875\n"
          ]
        }
      ]
    },
    {
      "cell_type": "markdown",
      "source": [
        "# c)"
      ],
      "metadata": {
        "id": "itiqZcQAlLVP"
      }
    },
    {
      "cell_type": "code",
      "source": [
        "# Binary Classification DataFrame\n",
        "df_all_classes = df.copy()\n",
        "\n",
        "# Map string labels to numerical labels\n",
        "df_all_classes['anomaly_class'] = df_all_classes['anomaly_class'].apply(\n",
        "    lambda x: 0 if x == 'Cell'\n",
        "              else 1 if x == 'Cell-Multi'\n",
        "              else 2 if x == 'Cracking'\n",
        "              else 3 if x == 'Hot-Spot'\n",
        "              else 4 if x == 'Hot-Spot-Multi'\n",
        "              else 5 if x == 'Shadowing'\n",
        "              else 6 if x == 'Diode'\n",
        "              else 7 if x == 'Diode-Multi'\n",
        "              else 8 if x == 'Vegetation'\n",
        "              else 9 if x == 'Soiling'\n",
        "              else 10 if x == 'Offline-Module'\n",
        "              else 11 if x == 'No-Anomaly'\n",
        "              else 12\n",
        ")\n",
        "\n",
        "# Print the class distribution\n",
        "df_all_classes_count = df_all_classes['anomaly_class'].value_counts()\n",
        "print(\"Counts of each anomaly type:\")\n",
        "print(df_all_classes_count)\n",
        "\n",
        "\n"
      ],
      "metadata": {
        "colab": {
          "base_uri": "https://localhost:8080/"
        },
        "id": "eH1sH-TClP9g",
        "outputId": "320c7cd9-39bd-4ad9-d24f-09da0eed8f88"
      },
      "execution_count": null,
      "outputs": [
        {
          "output_type": "stream",
          "name": "stdout",
          "text": [
            "Counts of each anomaly type:\n",
            "anomaly_class\n",
            "11    10000\n",
            "0      1877\n",
            "8      1639\n",
            "6      1499\n",
            "1      1288\n",
            "5      1056\n",
            "2       940\n",
            "10      827\n",
            "3       249\n",
            "4       246\n",
            "9       204\n",
            "7       175\n",
            "Name: count, dtype: int64\n"
          ]
        }
      ]
    },
    {
      "cell_type": "code",
      "source": [
        "train_ratio_c = 0.9\n",
        "train_data_c, test_data_c = train_test_split(df_all_classes, test_size=(1 - train_ratio_c), train_size=train_ratio_c, random_state=2, stratify=df_all_classes['anomaly_class'])\n",
        "\n",
        "train_data_c.reset_index(drop=True, inplace=True)\n",
        "test_data_c.reset_index(drop=True, inplace=True)"
      ],
      "metadata": {
        "id": "hs2XCHWdmkA-"
      },
      "execution_count": null,
      "outputs": []
    },
    {
      "cell_type": "code",
      "source": [
        "transform_augmentation_1 = transforms.Compose([\n",
        "    transforms.RandomHorizontalFlip(p=1),   # Random horizontal flip\n",
        "    transforms.ToTensor(),\n",
        "])\n",
        "\n",
        "transform_augmentation_2 = transforms.Compose([\n",
        "    transforms.RandomVerticalFlip(p=1),\n",
        "    transforms.ToTensor(),\n",
        "])\n",
        "\n",
        "transform_augmentation_3 = transforms.Compose([\n",
        "    transforms.RandomVerticalFlip(p=1),\n",
        "    transforms.RandomHorizontalFlip(p=1),\n",
        "    transforms.ToTensor(),\n",
        "])\n",
        "\n",
        "train_transform = transforms.Compose([\n",
        "    #transforms.RandomVerticalFlip(p=0.5),\n",
        "    #transforms.RandomHorizontalFlip(p=0.5),\n",
        "    transforms.RandomRotation(10),\n",
        "    transforms.RandomCrop((40, 24), padding=1),  # Random crop with padding\n",
        "    transforms.ColorJitter(brightness=0.2, contrast=0.2),  # Color jitter\n",
        "    transforms.ToTensor(),\n",
        "    transforms.Normalize(mean=[0.5], std=[0.5])\n",
        "])\n",
        "\n",
        "# Testing transform without augmentation\n",
        "test_transform = transforms.Compose([\n",
        "    transforms.ToTensor(),\n",
        "    transforms.Normalize(mean=[0.5], std=[0.5])\n",
        "])"
      ],
      "metadata": {
        "id": "lcZ77_SZmxtD"
      },
      "execution_count": null,
      "outputs": []
    },
    {
      "cell_type": "code",
      "source": [
        "train_data_c_counts = train_data_c['anomaly_class'].value_counts()\n",
        "print(\"Counts of each anomaly type:\")\n",
        "print(train_data_c_counts)\n",
        "print(\"Size:\", len(train_data_c), \"\\n\")\n",
        "\n",
        "# Datasets\n",
        "train_data_c_balanced = train_data_c.copy()\n",
        "\n",
        "largest_class_count = train_data_c_counts.max()\n",
        "ratios = largest_class_count / train_data_c_counts\n",
        "max_ratio = 3.5\n",
        "ratios = np.minimum(ratios, max_ratio)\n",
        "ratios_sorted = ratios.sort_index()\n",
        "ratios_matrix=[]\n",
        "\n",
        "\n",
        "for label, ratio in ratios_sorted.items():\n",
        "    ratios_matrix.append([label, ratio])\n",
        "print(ratios_matrix)\n",
        "\n",
        "\n",
        "\n",
        "directory = \"/content/images_c\"\n",
        "if os.path.exists(directory):\n",
        "    for filename in os.listdir(directory):\n",
        "        file_path = os.path.join(directory, filename)\n",
        "        try:\n",
        "            if os.path.isdir(file_path):\n",
        "                shutil.rmtree(file_path)\n",
        "            else:\n",
        "                os.remove(file_path)\n",
        "        except Exception as e:\n",
        "            print(f\"Error deleting file {file_path}: {e}\")\n",
        "else:\n",
        "    os.makedirs(directory, exist_ok=True)\n",
        "\n",
        "\n",
        "\n",
        "for i in range(len(train_data_c)):\n",
        "    # Get the row for the current sample\n",
        "    row = train_data_c.iloc[i]\n",
        "    image_path = row[\"image_filepath\"]  # Path to the image\n",
        "    label = row[\"anomaly_class\"]       # Corresponding label\n",
        "\n",
        "    # Load the image using PIL\n",
        "    image_pil = Image.open(image_path).convert(\"L\")\n",
        "\n",
        "    # Get the ratio for this class\n",
        "    ratio = ratios_matrix[int(label)][1]\n",
        "\n",
        "    # Split the ratio into integer and fractional parts\n",
        "    int_part = int(ratio)  # Deterministic augmentations\n",
        "    frac_part = ratio - int_part  # Fractional part for probabilistic augmentation\n",
        "    num1,num2 = random.sample(range(1, 3), 2)\n",
        "    # Perform deterministic augmentations\n",
        "    for n in range(int_part-1):  # Subtract 1 because the original image already counts as 1\n",
        "        random_number = random.randint(1, 3)\n",
        "        if(int_part==1):\n",
        "            if(random_number==1):\n",
        "                transform_augmentation = transform_augmentation_1\n",
        "            elif(random_number==2):\n",
        "                transform_augmentation = transform_augmentation_2\n",
        "            elif(random_number==3):\n",
        "                transform_augmentation = transform_augmentation_3\n",
        "        elif(int_part==2 and n==0):\n",
        "            if(num1==1):\n",
        "                transform_augmentation = transform_augmentation_1\n",
        "            elif(num1==2):\n",
        "                transform_augmentation = transform_augmentation_2\n",
        "            elif(num1==3):\n",
        "                transform_augmentation = transform_augmentation_3\n",
        "        elif(int_part==2 and n==1):\n",
        "            if(num2==1):\n",
        "                transform_augmentation = transform_augmentation_1\n",
        "            elif(num2==2):\n",
        "                transform_augmentation = transform_augmentation_2\n",
        "            elif(num2==3):\n",
        "                transform_augmentation = transform_augmentation_3\n",
        "        elif(int_part==3 and n==0):\n",
        "            transform_augmentation = transform_augmentation_1\n",
        "        elif(int_part==3 and n==1):\n",
        "            transform_augmentation = transform_augmentation_2\n",
        "        elif(int_part==3 and n==2):\n",
        "            transform_augmentation = transform_augmentation_3\n",
        "        elif(int_part==4 and n==0):\n",
        "            transform_augmentation = transform_augmentation_1\n",
        "        elif(int_part==4 and n==1):\n",
        "            transform_augmentation = transform_augmentation_2\n",
        "        elif(int_part==4 and n==2):\n",
        "            transform_augmentation = transform_augmentation_3\n",
        "        elif(int_part==4 and n==3):\n",
        "            if(random_number==1):\n",
        "                transform_augmentation = transform_augmentation_1\n",
        "            elif(random_number==2):\n",
        "                transform_augmentation = transform_augmentation_2\n",
        "            elif(random_number==3):\n",
        "                transform_augmentation = transform_augmentation_3\n",
        "        transformed_image = transform_augmentation(image_pil)\n",
        "        if isinstance(transformed_image, torch.Tensor):\n",
        "            transformed_image = transforms.ToPILImage()(transformed_image)\n",
        "        new_image_path = os.path.join(directory, f\"transformed_image_{int(label)}_{i}_{n}.jpg\")\n",
        "        transformed_image.save(new_image_path, format=\"JPEG\", quality=95)\n",
        "        new_row = {\"image_filepath\": new_image_path, \"anomaly_class\": int(label)}\n",
        "        train_data_c_balanced = pd.concat([train_data_c_balanced, pd.DataFrame([new_row])], ignore_index=True)\n",
        "\n",
        "    # Perform probabilistic augmentation for the fractional part\n",
        "    if random.random() < frac_part:  # Augment with probability equal to the fractional part\n",
        "        random_number = random.randint(1, 3)\n",
        "        if(random_number==1):\n",
        "            transform_augmentation = transform_augmentation_1\n",
        "        elif(random_number==2):\n",
        "            transform_augmentation = transform_augmentation_2\n",
        "        elif(random_number==3):\n",
        "            transform_augmentation = transform_augmentation_3\n",
        "        transformed_image = transform_augmentation(image_pil)\n",
        "        x=1\n",
        "        if isinstance(transformed_image, torch.Tensor):\n",
        "            transformed_image = transforms.ToPILImage()(transformed_image)\n",
        "        new_image_path = os.path.join(directory, f\"transformed_image_2_{int(label)}_{i}_{x}.jpg\")\n",
        "        x+=1\n",
        "        transformed_image.save(new_image_path, format=\"JPEG\", quality=95)\n",
        "        new_row = {\"image_filepath\": new_image_path, \"anomaly_class\": int(label)}\n",
        "        train_data_c_balanced = pd.concat([train_data_c_balanced, pd.DataFrame([new_row])], ignore_index=True)\n",
        "\n",
        "\n",
        "train_data_c_balanced_counts = train_data_c_balanced['anomaly_class'].value_counts()\n",
        "print(\"\\nCounts of each anomaly type:\")\n",
        "print(train_data_c_balanced_counts)\n",
        "print(\"Size:\", len(train_data_c_balanced))"
      ],
      "metadata": {
        "colab": {
          "base_uri": "https://localhost:8080/"
        },
        "id": "SkL1dmd4m8uC",
        "outputId": "551426d5-44dc-44bd-956d-d65073f65b32"
      },
      "execution_count": null,
      "outputs": [
        {
          "output_type": "stream",
          "name": "stdout",
          "text": [
            "Counts of each anomaly type:\n",
            "anomaly_class\n",
            "11    9000\n",
            "0     1689\n",
            "8     1475\n",
            "6     1349\n",
            "1     1159\n",
            "5      950\n",
            "2      846\n",
            "10     744\n",
            "3      224\n",
            "4      222\n",
            "9      184\n",
            "7      158\n",
            "Name: count, dtype: int64\n",
            "Size: 18000 \n",
            "\n",
            "[[0, 3.5], [1, 3.5], [2, 3.5], [3, 3.5], [4, 3.5], [5, 3.5], [6, 3.5], [7, 3.5], [8, 3.5], [9, 3.5], [10, 3.5], [11, 1.0]]\n",
            "\n",
            "Counts of each anomaly type:\n",
            "anomaly_class\n",
            "11    9000\n",
            "0     5883\n",
            "8     5183\n",
            "6     4711\n",
            "1     4064\n",
            "5     3331\n",
            "2     2963\n",
            "10    2592\n",
            "3      792\n",
            "4      771\n",
            "9      643\n",
            "7      550\n",
            "Name: count, dtype: int64\n",
            "Size: 40483\n"
          ]
        }
      ]
    },
    {
      "cell_type": "code",
      "source": [
        "class MyImageDataset_c(data.Dataset):\n",
        "    def __init__(self, metadata, transform=None, img_mode=\"L\"):\n",
        "\n",
        "        self.img_labels = metadata[\"anomaly_class\"].values\n",
        "        self.img_paths = metadata[\"image_filepath\"].values\n",
        "        self.transform = transform\n",
        "        self.img_mode = img_mode\n",
        "\n",
        "    def __len__(self):\n",
        "        return len(self.img_labels)\n",
        "\n",
        "    def __getitem__(self, idx):\n",
        "\n",
        "        try:\n",
        "            img_path = self.img_paths[idx]\n",
        "\n",
        "            # Ensure the image file exists\n",
        "            if not os.path.exists(img_path):\n",
        "                raise FileNotFoundError(f\"Image file not found: {img_path}\")\n",
        "\n",
        "            # Open and convert the image\n",
        "            image = Image.open(img_path).convert(self.img_mode)\n",
        "            label = self.img_labels[idx]\n",
        "\n",
        "            # Apply transformations if specified\n",
        "            if self.transform:\n",
        "                image = self.transform(image)\n",
        "\n",
        "            return image, torch.tensor(label, dtype=torch.long)\n",
        "\n",
        "        except Exception as e:\n",
        "            raise RuntimeError(f\"Error loading sample at index {idx}: {e}\")"
      ],
      "metadata": {
        "id": "7WXnkks_pgLr"
      },
      "execution_count": null,
      "outputs": []
    },
    {
      "cell_type": "code",
      "source": [
        "# DataLoaders\n",
        "#train_dataset_b_balanced = MyImageDataset_b(metadata=train_data_b, transform=train_transform)\n",
        "train_dataset_c_balanced = MyImageDataset_c(metadata=train_data_c_balanced, transform=train_transform)\n",
        "test_dataset_c = MyImageDataset_c(metadata=test_data_c, transform=test_transform)\n",
        "\n",
        "batch_size = 32\n",
        "train_loader_c = data.DataLoader(dataset=train_dataset_c_balanced, batch_size=batch_size, shuffle=True)\n",
        "test_loader_c = data.DataLoader(dataset=test_dataset_c, batch_size=batch_size, shuffle=False)"
      ],
      "metadata": {
        "id": "czuxIab0pluz"
      },
      "execution_count": null,
      "outputs": []
    },
    {
      "cell_type": "code",
      "source": [
        "# Obtém um batch de imagens, seus rótulos e os caminhos\n",
        "images_c, labels_c = next(iter(train_loader_c))  # Pega o primeiro batch\n",
        "print(labels_c[0])\n",
        "\n",
        "# Desfazendo a normalização para as imagens\n",
        "images_c = images_c * 0.5 + 0.5  # Inverte a normalização, para voltar ao intervalo [0, 1]\n",
        "\n",
        "# Cria uma figura com múltiplos subplots\n",
        "fig, axes = plt.subplots(4, 8, figsize=(20, 10))  # 4 linhas e 8 colunas\n",
        "axes = axes.flatten()  # Para facilitar o acesso aos eixos (axes)\n",
        "\n",
        "# Loop para exibir as 32 primeiras imagens do batch\n",
        "for i in range(len(images_c)):\n",
        "    image = images_c[i]  # Pega a i-ésima imagem do batch\n",
        "    image_pil = transforms.ToPILImage()(image)  # Converte o tensor para uma imagem PIL\n",
        "\n",
        "    # Exibe a imagem\n",
        "    axes[i].imshow(image_pil)\n",
        "    axes[i].set_title(f\"Label: {labels_c[i].item()}\")  # Exibe o rótulo e o caminho do arquivo\n",
        "    axes[i].axis('off')  # Remove os eixos para uma exibição mais limpa\n",
        "\n",
        "print(images_c[0].shape)\n",
        "plt.tight_layout()  # Ajusta o layout para que as imagens não se sobreponham\n",
        "plt.show()"
      ],
      "metadata": {
        "colab": {
          "base_uri": "https://localhost:8080/",
          "height": 810
        },
        "id": "nq3vEHHzsGfZ",
        "outputId": "c514920a-2a5b-4151-ee03-89db5a2d872b"
      },
      "execution_count": null,
      "outputs": [
        {
          "output_type": "stream",
          "name": "stdout",
          "text": [
            "tensor(0)\n",
            "torch.Size([1, 40, 24])\n"
          ]
        },
        {
          "output_type": "display_data",
          "data": {
            "text/plain": [
              "<Figure size 2000x1000 with 32 Axes>"
            ],
            "image/png": "[encoded data removed]"
          },
          "metadata": {}
        }
      ]
    },
    {
      "cell_type": "code",
      "source": [
        "# Function to save the model\n",
        "def saveModel(model:nn.Module, path):\n",
        "    torch.save(model.state_dict(), path)\n",
        "\n",
        "# Training function. We simply have to loop over our data iterator and feed the inputs to the network and optimize.\n",
        "def train(model: torch.nn.Module,\n",
        "          dataloader: torch.utils.data.DataLoader,\n",
        "          loss_fn: torch.nn.Module,\n",
        "          optimizer: torch.optim.Optimizer,\n",
        "          device: torch.device,\n",
        "          num_epochs,\n",
        "          path_model,\n",
        "          verbatim):\n",
        "    model.train()\n",
        "    model.to(device)\n",
        "    best_accuracy = 0.0\n",
        "    best_loss = 0.0\n",
        "    best_epoch = 0\n",
        "    for epoch in tqdm(range(num_epochs), desc=\"Epochs\", unit=\"epoch\"):  # Adicionando a barra de progresso para os epochs\n",
        "\n",
        "        train_acc = 0.0\n",
        "        train_loss = 0.0\n",
        "        for ibatch, (images, labels) in enumerate(dataloader):  # Adicionando a barra de progresso para os batches\n",
        "\n",
        "            # get the inputs\n",
        "            images = images.to(device)\n",
        "            labels = labels.to(device)\n",
        "\n",
        "            # 1. Forward pass\n",
        "            y_pred = model(images)\n",
        "            y_pred = y_pred.squeeze(dim=1)\n",
        "\n",
        "            # 2. Calculate  and accumulate loss\n",
        "            loss = loss_fn(y_pred, labels)\n",
        "            train_loss += loss.item()\n",
        "\n",
        "            # 3. Optimizer zero grad\n",
        "            optimizer.zero_grad()\n",
        "\n",
        "            # 4. Loss backward\n",
        "            loss.backward()\n",
        "\n",
        "            # 5. Optimizer step\n",
        "            optimizer.step()\n",
        "\n",
        "            # Calculate and accumulate accuracy metric across all batches\n",
        "            y_pred_class = torch.argmax(torch.softmax(y_pred, dim=1), dim=1)\n",
        "            train_acc += (y_pred_class == labels).sum().item()/len(y_pred)\n",
        "\n",
        "        # Adjust metrics to get average loss and accuracy per batch\n",
        "        train_loss = train_loss / len(dataloader)\n",
        "        train_acc = train_acc / len(dataloader)\n",
        "\n",
        "        # we want to save the model if the accuracy is the best\n",
        "\n",
        "\n",
        "        if train_acc > best_accuracy:\n",
        "            path = str(path_model)\n",
        "            saveModel(model, path = path)\n",
        "            best_loss = train_loss\n",
        "            best_accuracy = train_acc\n",
        "            best_epoch = epoch\n",
        "            if verbatim:\n",
        "              print('Best Epoch #', epoch,' Loss=', best_loss, \" Accu=\", best_accuracy )\n",
        "\n",
        "    return best_loss, best_accuracy, best_epoch"
      ],
      "metadata": {
        "id": "a_4K2sx4scif"
      },
      "execution_count": null,
      "outputs": []
    },
    {
      "cell_type": "code",
      "source": [
        "# Function to test the model with the test dataset and print the accuracy for the test images\n",
        "def test(model: torch.nn.Module,\n",
        "         dataloader: torch.utils.data.DataLoader,\n",
        "         loss_fn: torch.nn.Module,\n",
        "         device: torch.device,\n",
        "         verbatim = True):\n",
        "\n",
        "    # Put model in eval mode\n",
        "    model.eval()\n",
        "    model.to(device)\n",
        "    # Setup test loss and test accuracy values\n",
        "    test_loss, test_acc = 0, 0\n",
        "    pred_labels = []\n",
        "    with torch.no_grad():\n",
        "        for data in dataloader:\n",
        "\n",
        "            # get the inputs\n",
        "            images, labels = data\n",
        "            images = Variable(images.to(device))\n",
        "            labels = Variable(labels.to(device))\n",
        "\n",
        "            # 1. run the model on the test set to predict labels\n",
        "            y_pred = model(images)\n",
        "\n",
        "            # 2. Calculate and accumulate loss\n",
        "            loss = loss_fn(y_pred, labels)\n",
        "            test_loss += loss.item()\n",
        "\n",
        "            # 3. Calculate and accumulate accuracy\n",
        "            y_pred_class = torch.argmax(torch.softmax(y_pred, dim=1), dim=1)\n",
        "            test_acc += (y_pred_class == labels).sum().item()/len(y_pred)\n",
        "            pred_labels = y_pred_class.tolist()\n",
        "\n",
        "    # Adjust metrics to get average loss and accuracy per batch\n",
        "    test_loss = test_loss / len(dataloader)\n",
        "    test_acc = test_acc / len(dataloader)\n",
        "\n",
        "    if verbatim:\n",
        "      print(\"Loss =\", test_loss, \"  Accuracy=\", test_acc)\n",
        "    return pred_labels, test_loss, test_acc\n"
      ],
      "metadata": {
        "id": "P8lcNM4Dsfjb"
      },
      "execution_count": null,
      "outputs": []
    },
    {
      "cell_type": "code",
      "source": [
        "class Network_c(nn.Module):\n",
        "    def __init__(self):\n",
        "        super().__init__()\n",
        "\n",
        "        # Convolutional and pooling layers with kernel size 5x5 for the first two layers, 3x3 for the third layer\n",
        "        self.conv1 = nn.Conv2d(1, 128, 3)\n",
        "        self.bn1 = nn.BatchNorm2d(128)\n",
        "        self.pool1 = nn.MaxPool2d(2, 2)\n",
        "\n",
        "        self.conv2 = nn.Conv2d(128, 256, 3)\n",
        "        self.bn2 = nn.BatchNorm2d(256)\n",
        "        self.pool2 = nn.MaxPool2d(2, 1)\n",
        "\n",
        "        self.conv3 = nn.Conv2d(256, 512, 3)\n",
        "        self.bn3 = nn.BatchNorm2d(512)\n",
        "        self.pool3 = nn.MaxPool2d(2, 2)\n",
        "\n",
        "        self.conv4 = nn.Conv2d(512, 512, 3)  # Extra layer\n",
        "        self.bn4 = nn.BatchNorm2d(512)\n",
        "\n",
        "        self.dropout_conv = nn.Dropout2d(0.2)\n",
        "\n",
        "        # Calculating the correct input size for the fully connected layer\n",
        "        # Initial    : (40, 24)\n",
        "        # After conv1: (38, 22)\n",
        "        # After pool1: (19, 11)\n",
        "        # After conv2: (17, 9)\n",
        "        # After pool2: (16, 8)\n",
        "        # After conv3: (14, 6)\n",
        "        # After pool3: (7, 3)\n",
        "        # After conv4: (5, 1)\n",
        "\n",
        "        self.fc1 = nn.Linear(512 * 5 * 1, 2048)   # Increase neurons\n",
        "        self.bn_fc1 = nn.BatchNorm1d(2048)        #  TIR\n",
        "        self.dropout1 = nn.Dropout(0.4)           # Dropout\n",
        "\n",
        "        self.fc2 = nn.Linear(2048, 1024)          # Add capacity\n",
        "        self.bn_fc2 = nn.BatchNorm1d(1024)        # Batch normalization\n",
        "        self.dropout2 = nn.Dropout(0.5)\n",
        "\n",
        "        self.fc3 = nn.Linear(1024, 256)           # Add another layer\n",
        "        self.dropout3 = nn.Dropout(0.5)\n",
        "\n",
        "        self.fc4 = nn.Linear(256, 12)\n",
        "\n",
        "    def forward(self, x):\n",
        "        # First convolutional layer, ReLU, and pooling\n",
        "        x = self.pool1(F.relu(self.bn1(self.conv1(x))))\n",
        "        x = self.pool2(F.relu(self.bn2(self.conv2(x))))\n",
        "        x = self.pool3(F.relu(self.bn3(self.conv3(x))))\n",
        "\n",
        "        # Optional additional convolutional layer\n",
        "        x = F.relu(self.bn4(self.conv4(x)))\n",
        "\n",
        "        x = self.dropout_conv(x)  # Dropout after conv layers\n",
        "        x = torch.flatten(x, 1)\n",
        "\n",
        "        # Fully connected layers\n",
        "        x = F.relu(self.bn_fc1(self.fc1(x)))   # Apply batch normalization after fc1\n",
        "        x = self.dropout1(x)                 # Apply dropout after activation\n",
        "\n",
        "        x = F.relu(self.bn_fc2(self.fc2(x)))  # Apply batch normalization after fc2\n",
        "        x = self.dropout2(x)\n",
        "\n",
        "        x = F.relu(self.fc3(x))               # Third fully connected layer, no batch norm\n",
        "        x = self.dropout3(x)                  # Dropout to prevent overfitting\n",
        "\n",
        "        x = self.fc4(x)\n",
        "\n",
        "        return x\n",
        "\n",
        "model_c = Network_c()\n",
        "\n",
        "class_labels = train_data_c_balanced['anomaly_class'].values\n",
        "class_weights = compute_class_weight(class_weight='balanced', classes=np.unique(class_labels), y=class_labels)\n",
        "class_weights /= class_weights.sum()\n",
        "print(class_weights)\n",
        "\n",
        "class_weights = torch.tensor(class_weights, dtype=torch.float).to(device)\n",
        "\n",
        "#loss_fn_b = nn.CrossEntropyLoss().to(device)\n",
        "loss_fn_c = nn.CrossEntropyLoss(weight=class_weights).to(device)\n",
        "#loss_fn_b = nn.CrossEntropyLoss().to(device)\n",
        "\n",
        "# Define the optimizer\n",
        "#optimizer = torch.optim.SGD(model.parameters(), lr=0.0025, momentum=0.9, weight_decay=1e-4)\n",
        "optimizer_c = torch.optim.Adam(model_c.parameters(), lr=0.0001, weight_decay=5e-4)"
      ],
      "metadata": {
        "id": "o9OCfMntskGN",
        "outputId": "a208c622-7bf1-445c-87c6-eacb81dd97fd",
        "colab": {
          "base_uri": "https://localhost:8080/"
        }
      },
      "execution_count": null,
      "outputs": [
        {
          "output_type": "stream",
          "name": "stdout",
          "text": [
            "[0.02154688 0.03119101 0.04278106 0.16005086 0.16441023 0.03805472\n",
            " 0.0269073  0.23047324 0.02445693 0.19713885 0.04890443 0.01408448]\n"
          ]
        }
      ]
    },
    {
      "cell_type": "code",
      "source": [
        "if __name__ == \"__main__\":\n",
        "\n",
        "    model = model_c.to(device)\n",
        "\n",
        "    # Build our model\n",
        "    best_loss, best_accuracy, best_epoch = train(model=model_c,\n",
        "                                                    dataloader=train_loader_c,\n",
        "                                                    loss_fn=loss_fn_c,\n",
        "                                                    optimizer=optimizer_c,\n",
        "                                                    device=device,\n",
        "                                                    num_epochs = 20,\n",
        "                                                    path_model = str(\"./myModel_best_A_c.pth\"),\n",
        "                                                    verbatim = True)"
      ],
      "metadata": {
        "colab": {
          "base_uri": "https://localhost:8080/"
        },
        "id": "_5Xg1t1ksyJK",
        "outputId": "f5c36002-2ba0-4ffc-d4ef-879bde8aa669"
      },
      "execution_count": null,
      "outputs": [
        {
          "output_type": "stream",
          "name": "stderr",
          "text": [
            "Epochs:   5%|▌         | 1/20 [01:00<19:18, 60.96s/epoch]"
          ]
        },
        {
          "output_type": "stream",
          "name": "stdout",
          "text": [
            "Best Epoch # 0  Loss= 0.905535251384757  Accu= 0.6552708662453923\n"
          ]
        },
        {
          "output_type": "stream",
          "name": "stderr",
          "text": [
            "\rEpochs:  10%|█         | 2/20 [02:02<18:20, 61.15s/epoch]"
          ]
        },
        {
          "output_type": "stream",
          "name": "stdout",
          "text": [
            "Best Epoch # 1  Loss= 0.8977349598496258  Accu= 0.6570234333859926\n"
          ]
        },
        {
          "output_type": "stream",
          "name": "stderr",
          "text": [
            "\rEpochs:  15%|█▌        | 3/20 [03:03<17:23, 61.40s/epoch]"
          ]
        },
        {
          "output_type": "stream",
          "name": "stdout",
          "text": [
            "Best Epoch # 2  Loss= 0.8870354081264228  Accu= 0.6641571221695629\n"
          ]
        },
        {
          "output_type": "stream",
          "name": "stderr",
          "text": [
            "\rEpochs:  20%|██        | 4/20 [04:08<16:42, 62.67s/epoch]"
          ]
        },
        {
          "output_type": "stream",
          "name": "stdout",
          "text": [
            "Best Epoch # 3  Loss= 0.8657708054093576  Accu= 0.667777448657188\n"
          ]
        },
        {
          "output_type": "stream",
          "name": "stderr",
          "text": [
            "\rEpochs:  25%|██▌       | 5/20 [05:10<15:37, 62.51s/epoch]"
          ]
        },
        {
          "output_type": "stream",
          "name": "stdout",
          "text": [
            "Best Epoch # 4  Loss= 0.8634928956415981  Accu= 0.6688306345444971\n"
          ]
        },
        {
          "output_type": "stream",
          "name": "stderr",
          "text": [
            "\rEpochs:  30%|███       | 6/20 [06:12<14:32, 62.30s/epoch]"
          ]
        },
        {
          "output_type": "stream",
          "name": "stdout",
          "text": [
            "Best Epoch # 5  Loss= 0.8446412717608667  Accu= 0.6745326487625066\n"
          ]
        },
        {
          "output_type": "stream",
          "name": "stderr",
          "text": [
            "\rEpochs:  35%|███▌      | 7/20 [07:14<13:28, 62.22s/epoch]"
          ]
        },
        {
          "output_type": "stream",
          "name": "stdout",
          "text": [
            "Best Epoch # 6  Loss= 0.8323439506322475  Accu= 0.676614336492891\n"
          ]
        },
        {
          "output_type": "stream",
          "name": "stderr",
          "text": [
            "\rEpochs:  40%|████      | 8/20 [08:16<12:25, 62.11s/epoch]"
          ]
        },
        {
          "output_type": "stream",
          "name": "stdout",
          "text": [
            "Best Epoch # 7  Loss= 0.8240898621119971  Accu= 0.6814935492364402\n"
          ]
        },
        {
          "output_type": "stream",
          "name": "stderr",
          "text": [
            "\rEpochs:  45%|████▌     | 9/20 [09:20<11:29, 62.70s/epoch]"
          ]
        },
        {
          "output_type": "stream",
          "name": "stdout",
          "text": [
            "Best Epoch # 8  Loss= 0.8112048577593778  Accu= 0.684891719325961\n"
          ]
        },
        {
          "output_type": "stream",
          "name": "stderr",
          "text": [
            "\rEpochs:  50%|█████     | 10/20 [10:22<10:25, 62.57s/epoch]"
          ]
        },
        {
          "output_type": "stream",
          "name": "stdout",
          "text": [
            "Best Epoch # 9  Loss= 0.7953034887240397  Accu= 0.6891373749341758\n"
          ]
        },
        {
          "output_type": "stream",
          "name": "stderr",
          "text": [
            "\rEpochs:  55%|█████▌    | 11/20 [11:24<09:19, 62.17s/epoch]"
          ]
        },
        {
          "output_type": "stream",
          "name": "stdout",
          "text": [
            "Best Epoch # 10  Loss= 0.7918394764688155  Accu= 0.691926671932596\n"
          ]
        },
        {
          "output_type": "stream",
          "name": "stderr",
          "text": [
            "\rEpochs:  60%|██████    | 12/20 [12:26<08:16, 62.10s/epoch]"
          ]
        },
        {
          "output_type": "stream",
          "name": "stdout",
          "text": [
            "Best Epoch # 11  Loss= 0.7912001809661422  Accu= 0.6945925487098472\n"
          ]
        },
        {
          "output_type": "stream",
          "name": "stderr",
          "text": [
            "\rEpochs:  65%|██████▌   | 13/20 [13:27<07:13, 61.94s/epoch]"
          ]
        },
        {
          "output_type": "stream",
          "name": "stdout",
          "text": [
            "Best Epoch # 12  Loss= 0.7785653647088326  Accu= 0.6988464323328067\n"
          ]
        },
        {
          "output_type": "stream",
          "name": "stderr",
          "text": [
            "\rEpochs:  70%|███████   | 14/20 [14:31<06:15, 62.64s/epoch]"
          ]
        },
        {
          "output_type": "stream",
          "name": "stdout",
          "text": [
            "Best Epoch # 13  Loss= 0.7565965747569597  Accu= 0.703125\n"
          ]
        },
        {
          "output_type": "stream",
          "name": "stderr",
          "text": [
            "Epochs:  80%|████████  | 16/20 [16:34<04:07, 61.96s/epoch]"
          ]
        },
        {
          "output_type": "stream",
          "name": "stdout",
          "text": [
            "Best Epoch # 15  Loss= 0.7459013871201219  Accu= 0.7051408636124277\n"
          ]
        },
        {
          "output_type": "stream",
          "name": "stderr",
          "text": [
            "\rEpochs:  85%|████████▌ | 17/20 [17:35<03:05, 61.69s/epoch]"
          ]
        },
        {
          "output_type": "stream",
          "name": "stdout",
          "text": [
            "Best Epoch # 16  Loss= 0.7373119106554495  Accu= 0.7090244865718799\n"
          ]
        },
        {
          "output_type": "stream",
          "name": "stderr",
          "text": [
            "\rEpochs:  90%|█████████ | 18/20 [18:36<02:03, 61.58s/epoch]"
          ]
        },
        {
          "output_type": "stream",
          "name": "stdout",
          "text": [
            "Best Epoch # 17  Loss= 0.725301600310004  Accu= 0.7163145076355977\n"
          ]
        },
        {
          "output_type": "stream",
          "name": "stderr",
          "text": [
            "Epochs: 100%|██████████| 20/20 [20:41<00:00, 62.10s/epoch]"
          ]
        },
        {
          "output_type": "stream",
          "name": "stdout",
          "text": [
            "Best Epoch # 19  Loss= 0.7022265303309119  Accu= 0.719762045813586\n"
          ]
        },
        {
          "output_type": "stream",
          "name": "stderr",
          "text": [
            "\n"
          ]
        }
      ]
    },
    {
      "cell_type": "code",
      "source": [
        "model_test_c = Network_c()\n",
        "model_test_c = model.to(device)\n",
        "\n",
        "saved_model_path = \"./myModel_best_A_c.pth\"\n",
        "checkpoint = torch.load(saved_model_path, map_location=device)\n",
        "model_test_c.load_state_dict(checkpoint)\n",
        "model_test_c.eval()\n",
        "\n",
        "y_pred, test_loss, test_acc  = test(model=model_test_c,\n",
        "                                    dataloader=test_loader_c,\n",
        "                                    loss_fn=loss_fn_c,\n",
        "                                    device=device,\n",
        "                                    verbatim = True)"
      ],
      "metadata": {
        "id": "vpq5M3-TwJLQ",
        "outputId": "bc7be0f8-7b77-4526-ffde-aad2a9496e2b",
        "colab": {
          "base_uri": "https://localhost:8080/"
        }
      },
      "execution_count": null,
      "outputs": [
        {
          "output_type": "stream",
          "name": "stderr",
          "text": [
            "<ipython-input-20-319ff8162615>:5: FutureWarning: You are using `torch.load` with `weights_only=False` (the current default value), which uses the default pickle module implicitly. It is possible to construct malicious pickle data which will execute arbitrary code during unpickling (See https://github.com/pytorch/pytorch/blob/main/SECURITY.md#untrusted-models for more details). In a future release, the default value for `weights_only` will be flipped to `True`. This limits the functions that could be executed during unpickling. Arbitrary objects will no longer be allowed to be loaded via this mode unless they are explicitly allowlisted by the user via `torch.serialization.add_safe_globals`. We recommend you start setting `weights_only=True` for any use case where you don't have full control of the loaded file. Please open an issue on GitHub for any issues related to this experimental feature.\n",
            "  checkpoint = torch.load(saved_model_path, map_location=device)\n"
          ]
        },
        {
          "output_type": "stream",
          "name": "stdout",
          "text": [
            "Loss = 0.7818006300736987   Accuracy= 0.7782738095238095\n"
          ]
        }
      ]
    }
  ],
  "metadata": {
    "colab": {
      "provenance": [],
      "collapsed_sections": [
        "j_72JjR4D144",
        "7Jhbkz1QDpUj"
      ],
      "gpuType": "T4"
    },
    "kernelspec": {
      "display_name": "Python 3",
      "name": "python3"
    },
    "language_info": {
      "name": "python"
    },
    "accelerator": "GPU"
  },
  "nbformat": 4,
  "nbformat_minor": 0
}